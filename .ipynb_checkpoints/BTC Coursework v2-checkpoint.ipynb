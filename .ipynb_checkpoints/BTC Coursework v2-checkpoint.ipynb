{
 "cells": [
  {
   "cell_type": "code",
   "execution_count": 1,
   "metadata": {
    "collapsed": false
   },
   "outputs": [],
   "source": [
    "import matplotlib.pyplot as plt\n",
    "import numpy as np\n",
    "from datetime import datetime\n",
    "from scipy import stats"
   ]
  },
  {
   "cell_type": "code",
   "execution_count": 2,
   "metadata": {
    "collapsed": true
   },
   "outputs": [],
   "source": [
    "import pandas as pd"
   ]
  },
  {
   "cell_type": "code",
   "execution_count": 3,
   "metadata": {
    "collapsed": false
   },
   "outputs": [
    {
     "data": {
      "text/html": [
       "<div>\n",
       "<table border=\"1\" class=\"dataframe\">\n",
       "  <thead>\n",
       "    <tr style=\"text-align: right;\">\n",
       "      <th></th>\n",
       "      <th>Date</th>\n",
       "      <th>Open</th>\n",
       "      <th>High</th>\n",
       "      <th>Low</th>\n",
       "      <th>Close</th>\n",
       "      <th>Adj Close</th>\n",
       "      <th>Volume</th>\n",
       "    </tr>\n",
       "  </thead>\n",
       "  <tbody>\n",
       "    <tr>\n",
       "      <th>0</th>\n",
       "      <td>2011-09-05</td>\n",
       "      <td>4.440000</td>\n",
       "      <td>4.440000</td>\n",
       "      <td>4.060000</td>\n",
       "      <td>4.250000</td>\n",
       "      <td>4.250000</td>\n",
       "      <td>839</td>\n",
       "    </tr>\n",
       "    <tr>\n",
       "      <th>1</th>\n",
       "      <td>2011-09-06</td>\n",
       "      <td>4.250000</td>\n",
       "      <td>4.510000</td>\n",
       "      <td>4.260000</td>\n",
       "      <td>4.260000</td>\n",
       "      <td>4.260000</td>\n",
       "      <td>127</td>\n",
       "    </tr>\n",
       "    <tr>\n",
       "      <th>2</th>\n",
       "      <td>2011-09-07</td>\n",
       "      <td>4.260000</td>\n",
       "      <td>4.430000</td>\n",
       "      <td>4.210000</td>\n",
       "      <td>4.210000</td>\n",
       "      <td>4.210000</td>\n",
       "      <td>50</td>\n",
       "    </tr>\n",
       "    <tr>\n",
       "      <th>3</th>\n",
       "      <td>2011-09-08</td>\n",
       "      <td>4.210000</td>\n",
       "      <td>3.890000</td>\n",
       "      <td>3.000000</td>\n",
       "      <td>3.160000</td>\n",
       "      <td>3.160000</td>\n",
       "      <td>626</td>\n",
       "    </tr>\n",
       "    <tr>\n",
       "      <th>4</th>\n",
       "      <td>2011-09-09</td>\n",
       "      <td>3.160000</td>\n",
       "      <td>3.300000</td>\n",
       "      <td>3.000000</td>\n",
       "      <td>3.000000</td>\n",
       "      <td>3.000000</td>\n",
       "      <td>72</td>\n",
       "    </tr>\n",
       "    <tr>\n",
       "      <th>5</th>\n",
       "      <td>2011-09-10</td>\n",
       "      <td>3.000000</td>\n",
       "      <td>4.000000</td>\n",
       "      <td>2.950000</td>\n",
       "      <td>3.000000</td>\n",
       "      <td>3.000000</td>\n",
       "      <td>233</td>\n",
       "    </tr>\n",
       "    <tr>\n",
       "      <th>6</th>\n",
       "      <td>2011-09-11</td>\n",
       "      <td>3.000000</td>\n",
       "      <td>3.990000</td>\n",
       "      <td>2.970000</td>\n",
       "      <td>2.970000</td>\n",
       "      <td>2.970000</td>\n",
       "      <td>88</td>\n",
       "    </tr>\n",
       "    <tr>\n",
       "      <th>7</th>\n",
       "      <td>2011-09-12</td>\n",
       "      <td>2.970000</td>\n",
       "      <td>3.850000</td>\n",
       "      <td>3.620000</td>\n",
       "      <td>3.690000</td>\n",
       "      <td>3.690000</td>\n",
       "      <td>1017</td>\n",
       "    </tr>\n",
       "    <tr>\n",
       "      <th>8</th>\n",
       "      <td>2011-09-13</td>\n",
       "      <td>3.690000</td>\n",
       "      <td>3.600000</td>\n",
       "      <td>3.500000</td>\n",
       "      <td>3.500000</td>\n",
       "      <td>3.500000</td>\n",
       "      <td>28</td>\n",
       "    </tr>\n",
       "    <tr>\n",
       "      <th>9</th>\n",
       "      <td>2011-09-14</td>\n",
       "      <td>3.500000</td>\n",
       "      <td>3.210000</td>\n",
       "      <td>2.950000</td>\n",
       "      <td>3.210000</td>\n",
       "      <td>3.210000</td>\n",
       "      <td>172</td>\n",
       "    </tr>\n",
       "    <tr>\n",
       "      <th>10</th>\n",
       "      <td>2011-09-15</td>\n",
       "      <td>3.210000</td>\n",
       "      <td>3.180000</td>\n",
       "      <td>3.040000</td>\n",
       "      <td>3.040000</td>\n",
       "      <td>3.040000</td>\n",
       "      <td>464</td>\n",
       "    </tr>\n",
       "    <tr>\n",
       "      <th>11</th>\n",
       "      <td>2011-09-16</td>\n",
       "      <td>3.040000</td>\n",
       "      <td>3.190000</td>\n",
       "      <td>3.040000</td>\n",
       "      <td>3.040000</td>\n",
       "      <td>3.040000</td>\n",
       "      <td>233</td>\n",
       "    </tr>\n",
       "    <tr>\n",
       "      <th>12</th>\n",
       "      <td>2011-09-17</td>\n",
       "      <td>3.040000</td>\n",
       "      <td>3.290000</td>\n",
       "      <td>3.290000</td>\n",
       "      <td>3.290000</td>\n",
       "      <td>3.290000</td>\n",
       "      <td>6</td>\n",
       "    </tr>\n",
       "    <tr>\n",
       "      <th>13</th>\n",
       "      <td>2011-09-18</td>\n",
       "      <td>3.290000</td>\n",
       "      <td>3.570000</td>\n",
       "      <td>3.200000</td>\n",
       "      <td>3.570000</td>\n",
       "      <td>3.570000</td>\n",
       "      <td>7</td>\n",
       "    </tr>\n",
       "    <tr>\n",
       "      <th>14</th>\n",
       "      <td>2011-09-19</td>\n",
       "      <td>3.570000</td>\n",
       "      <td>3.850000</td>\n",
       "      <td>3.720000</td>\n",
       "      <td>3.850000</td>\n",
       "      <td>3.850000</td>\n",
       "      <td>31</td>\n",
       "    </tr>\n",
       "    <tr>\n",
       "      <th>15</th>\n",
       "      <td>2011-09-20</td>\n",
       "      <td>3.850000</td>\n",
       "      <td>3.870000</td>\n",
       "      <td>3.280000</td>\n",
       "      <td>3.620000</td>\n",
       "      <td>3.620000</td>\n",
       "      <td>2893</td>\n",
       "    </tr>\n",
       "    <tr>\n",
       "      <th>16</th>\n",
       "      <td>2011-09-21</td>\n",
       "      <td>3.620000</td>\n",
       "      <td>3.700000</td>\n",
       "      <td>3.580000</td>\n",
       "      <td>3.600000</td>\n",
       "      <td>3.600000</td>\n",
       "      <td>628</td>\n",
       "    </tr>\n",
       "    <tr>\n",
       "      <th>17</th>\n",
       "      <td>2011-09-22</td>\n",
       "      <td>3.600000</td>\n",
       "      <td>3.740000</td>\n",
       "      <td>3.460000</td>\n",
       "      <td>3.740000</td>\n",
       "      <td>3.740000</td>\n",
       "      <td>417</td>\n",
       "    </tr>\n",
       "    <tr>\n",
       "      <th>18</th>\n",
       "      <td>2011-09-23</td>\n",
       "      <td>3.740000</td>\n",
       "      <td>3.620000</td>\n",
       "      <td>3.580000</td>\n",
       "      <td>3.620000</td>\n",
       "      <td>3.620000</td>\n",
       "      <td>10</td>\n",
       "    </tr>\n",
       "    <tr>\n",
       "      <th>19</th>\n",
       "      <td>2011-09-24</td>\n",
       "      <td>3.620000</td>\n",
       "      <td>3.620000</td>\n",
       "      <td>3.620000</td>\n",
       "      <td>3.620000</td>\n",
       "      <td>3.620000</td>\n",
       "      <td>0</td>\n",
       "    </tr>\n",
       "    <tr>\n",
       "      <th>20</th>\n",
       "      <td>2011-09-25</td>\n",
       "      <td>3.620000</td>\n",
       "      <td>3.400000</td>\n",
       "      <td>3.150000</td>\n",
       "      <td>3.240000</td>\n",
       "      <td>3.240000</td>\n",
       "      <td>113</td>\n",
       "    </tr>\n",
       "    <tr>\n",
       "      <th>21</th>\n",
       "      <td>2011-09-26</td>\n",
       "      <td>3.240000</td>\n",
       "      <td>3.270000</td>\n",
       "      <td>3.230000</td>\n",
       "      <td>3.230000</td>\n",
       "      <td>3.230000</td>\n",
       "      <td>524</td>\n",
       "    </tr>\n",
       "    <tr>\n",
       "      <th>22</th>\n",
       "      <td>2011-09-27</td>\n",
       "      <td>3.230000</td>\n",
       "      <td>3.200000</td>\n",
       "      <td>3.050000</td>\n",
       "      <td>3.150000</td>\n",
       "      <td>3.150000</td>\n",
       "      <td>1316</td>\n",
       "    </tr>\n",
       "    <tr>\n",
       "      <th>23</th>\n",
       "      <td>2011-09-28</td>\n",
       "      <td>3.150000</td>\n",
       "      <td>3.140000</td>\n",
       "      <td>3.070000</td>\n",
       "      <td>3.110000</td>\n",
       "      <td>3.110000</td>\n",
       "      <td>1001</td>\n",
       "    </tr>\n",
       "    <tr>\n",
       "      <th>24</th>\n",
       "      <td>2011-09-29</td>\n",
       "      <td>3.110000</td>\n",
       "      <td>3.350000</td>\n",
       "      <td>3.060000</td>\n",
       "      <td>3.350000</td>\n",
       "      <td>3.350000</td>\n",
       "      <td>189</td>\n",
       "    </tr>\n",
       "    <tr>\n",
       "      <th>25</th>\n",
       "      <td>2011-09-30</td>\n",
       "      <td>3.350000</td>\n",
       "      <td>3.300000</td>\n",
       "      <td>3.300000</td>\n",
       "      <td>3.300000</td>\n",
       "      <td>3.300000</td>\n",
       "      <td>1</td>\n",
       "    </tr>\n",
       "    <tr>\n",
       "      <th>26</th>\n",
       "      <td>2011-10-01</td>\n",
       "      <td>3.300000</td>\n",
       "      <td>3.300000</td>\n",
       "      <td>3.300000</td>\n",
       "      <td>3.300000</td>\n",
       "      <td>3.300000</td>\n",
       "      <td>0</td>\n",
       "    </tr>\n",
       "    <tr>\n",
       "      <th>27</th>\n",
       "      <td>2011-10-02</td>\n",
       "      <td>3.300000</td>\n",
       "      <td>3.270000</td>\n",
       "      <td>3.230000</td>\n",
       "      <td>3.260000</td>\n",
       "      <td>3.260000</td>\n",
       "      <td>77</td>\n",
       "    </tr>\n",
       "    <tr>\n",
       "      <th>28</th>\n",
       "      <td>2011-10-03</td>\n",
       "      <td>3.260000</td>\n",
       "      <td>3.310000</td>\n",
       "      <td>3.270000</td>\n",
       "      <td>3.280000</td>\n",
       "      <td>3.280000</td>\n",
       "      <td>2393</td>\n",
       "    </tr>\n",
       "    <tr>\n",
       "      <th>29</th>\n",
       "      <td>2011-10-04</td>\n",
       "      <td>3.280000</td>\n",
       "      <td>3.280000</td>\n",
       "      <td>3.270000</td>\n",
       "      <td>3.280000</td>\n",
       "      <td>3.280000</td>\n",
       "      <td>53</td>\n",
       "    </tr>\n",
       "    <tr>\n",
       "      <th>...</th>\n",
       "      <td>...</td>\n",
       "      <td>...</td>\n",
       "      <td>...</td>\n",
       "      <td>...</td>\n",
       "      <td>...</td>\n",
       "      <td>...</td>\n",
       "      <td>...</td>\n",
       "    </tr>\n",
       "    <tr>\n",
       "      <th>2358</th>\n",
       "      <td>2018-02-19</td>\n",
       "      <td>7524.169922</td>\n",
       "      <td>8093.049805</td>\n",
       "      <td>7479.350098</td>\n",
       "      <td>8044.759766</td>\n",
       "      <td>8044.759766</td>\n",
       "      <td>9892277</td>\n",
       "    </tr>\n",
       "    <tr>\n",
       "      <th>2359</th>\n",
       "      <td>2018-02-20</td>\n",
       "      <td>8046.790039</td>\n",
       "      <td>8510.049805</td>\n",
       "      <td>7988.439941</td>\n",
       "      <td>8083.680176</td>\n",
       "      <td>8083.680176</td>\n",
       "      <td>13822017</td>\n",
       "    </tr>\n",
       "    <tr>\n",
       "      <th>2360</th>\n",
       "      <td>2018-02-21</td>\n",
       "      <td>8083.680176</td>\n",
       "      <td>8113.990234</td>\n",
       "      <td>7359.569824</td>\n",
       "      <td>7544.459961</td>\n",
       "      <td>7544.459961</td>\n",
       "      <td>15530011</td>\n",
       "    </tr>\n",
       "    <tr>\n",
       "      <th>2361</th>\n",
       "      <td>2018-02-22</td>\n",
       "      <td>7536.819824</td>\n",
       "      <td>7927.609863</td>\n",
       "      <td>7034.459961</td>\n",
       "      <td>7067.890137</td>\n",
       "      <td>7067.890137</td>\n",
       "      <td>12061927</td>\n",
       "    </tr>\n",
       "    <tr>\n",
       "      <th>2362</th>\n",
       "      <td>2018-02-23</td>\n",
       "      <td>7067.890137</td>\n",
       "      <td>7463.490234</td>\n",
       "      <td>6881.890137</td>\n",
       "      <td>7287.620117</td>\n",
       "      <td>7287.620117</td>\n",
       "      <td>10208262</td>\n",
       "    </tr>\n",
       "    <tr>\n",
       "      <th>2363</th>\n",
       "      <td>2018-02-24</td>\n",
       "      <td>7287.620117</td>\n",
       "      <td>7495.459961</td>\n",
       "      <td>6779.540039</td>\n",
       "      <td>6988.009766</td>\n",
       "      <td>6988.009766</td>\n",
       "      <td>6440407</td>\n",
       "    </tr>\n",
       "    <tr>\n",
       "      <th>2364</th>\n",
       "      <td>2018-02-25</td>\n",
       "      <td>6987.830078</td>\n",
       "      <td>7086.890137</td>\n",
       "      <td>6744.959961</td>\n",
       "      <td>6915.089844</td>\n",
       "      <td>6915.089844</td>\n",
       "      <td>4460097</td>\n",
       "    </tr>\n",
       "    <tr>\n",
       "      <th>2365</th>\n",
       "      <td>2018-02-26</td>\n",
       "      <td>6915.009766</td>\n",
       "      <td>7466.879883</td>\n",
       "      <td>6768.660156</td>\n",
       "      <td>7368.629883</td>\n",
       "      <td>7368.629883</td>\n",
       "      <td>7814616</td>\n",
       "    </tr>\n",
       "    <tr>\n",
       "      <th>2366</th>\n",
       "      <td>2018-02-27</td>\n",
       "      <td>7368.629883</td>\n",
       "      <td>7803.459961</td>\n",
       "      <td>7273.259766</td>\n",
       "      <td>7628.270020</td>\n",
       "      <td>7628.270020</td>\n",
       "      <td>6562764</td>\n",
       "    </tr>\n",
       "    <tr>\n",
       "      <th>2367</th>\n",
       "      <td>2018-02-28</td>\n",
       "      <td>7628.270020</td>\n",
       "      <td>7935.350098</td>\n",
       "      <td>7486.890137</td>\n",
       "      <td>7532.189941</td>\n",
       "      <td>7532.189941</td>\n",
       "      <td>7743166</td>\n",
       "    </tr>\n",
       "    <tr>\n",
       "      <th>2368</th>\n",
       "      <td>2018-03-01</td>\n",
       "      <td>7532.189941</td>\n",
       "      <td>8015.279785</td>\n",
       "      <td>7461.629883</td>\n",
       "      <td>7939.640137</td>\n",
       "      <td>7939.640137</td>\n",
       "      <td>7405333</td>\n",
       "    </tr>\n",
       "    <tr>\n",
       "      <th>2369</th>\n",
       "      <td>2018-03-02</td>\n",
       "      <td>7939.640137</td>\n",
       "      <td>8122.259766</td>\n",
       "      <td>7860.600098</td>\n",
       "      <td>7987.040039</td>\n",
       "      <td>7987.040039</td>\n",
       "      <td>4931479</td>\n",
       "    </tr>\n",
       "    <tr>\n",
       "      <th>2370</th>\n",
       "      <td>2018-03-03</td>\n",
       "      <td>7987.040039</td>\n",
       "      <td>8387.009766</td>\n",
       "      <td>7986.770020</td>\n",
       "      <td>8298.469727</td>\n",
       "      <td>8298.469727</td>\n",
       "      <td>4433092</td>\n",
       "    </tr>\n",
       "    <tr>\n",
       "      <th>2371</th>\n",
       "      <td>2018-03-04</td>\n",
       "      <td>8298.469727</td>\n",
       "      <td>8360.799805</td>\n",
       "      <td>8049.160156</td>\n",
       "      <td>8353.980469</td>\n",
       "      <td>8353.980469</td>\n",
       "      <td>3337587</td>\n",
       "    </tr>\n",
       "    <tr>\n",
       "      <th>2372</th>\n",
       "      <td>2018-03-05</td>\n",
       "      <td>8353.980469</td>\n",
       "      <td>8460.690430</td>\n",
       "      <td>8284.519531</td>\n",
       "      <td>8330.690430</td>\n",
       "      <td>8330.690430</td>\n",
       "      <td>5140175</td>\n",
       "    </tr>\n",
       "    <tr>\n",
       "      <th>2373</th>\n",
       "      <td>2018-03-06</td>\n",
       "      <td>8330.089844</td>\n",
       "      <td>8330.089844</td>\n",
       "      <td>7640.700195</td>\n",
       "      <td>7753.879883</td>\n",
       "      <td>7753.879883</td>\n",
       "      <td>8367044</td>\n",
       "    </tr>\n",
       "    <tr>\n",
       "      <th>2374</th>\n",
       "      <td>2018-03-07</td>\n",
       "      <td>7753.879883</td>\n",
       "      <td>7876.069824</td>\n",
       "      <td>6862.290039</td>\n",
       "      <td>7214.490234</td>\n",
       "      <td>7214.490234</td>\n",
       "      <td>9869668</td>\n",
       "    </tr>\n",
       "    <tr>\n",
       "      <th>2375</th>\n",
       "      <td>2018-03-08</td>\n",
       "      <td>7214.490234</td>\n",
       "      <td>7350.169922</td>\n",
       "      <td>6619.729980</td>\n",
       "      <td>6740.560059</td>\n",
       "      <td>6740.560059</td>\n",
       "      <td>9127864</td>\n",
       "    </tr>\n",
       "    <tr>\n",
       "      <th>2376</th>\n",
       "      <td>2018-03-09</td>\n",
       "      <td>6740.560059</td>\n",
       "      <td>6810.810059</td>\n",
       "      <td>6111.959961</td>\n",
       "      <td>6739.060059</td>\n",
       "      <td>6739.060059</td>\n",
       "      <td>12142982</td>\n",
       "    </tr>\n",
       "    <tr>\n",
       "      <th>2377</th>\n",
       "      <td>2018-03-10</td>\n",
       "      <td>6739.060059</td>\n",
       "      <td>6930.890137</td>\n",
       "      <td>6337.459961</td>\n",
       "      <td>6360.379883</td>\n",
       "      <td>6360.379883</td>\n",
       "      <td>4641304</td>\n",
       "    </tr>\n",
       "    <tr>\n",
       "      <th>2378</th>\n",
       "      <td>2018-03-11</td>\n",
       "      <td>6360.379883</td>\n",
       "      <td>7065.200195</td>\n",
       "      <td>6194.930176</td>\n",
       "      <td>6930.689941</td>\n",
       "      <td>6930.689941</td>\n",
       "      <td>5402358</td>\n",
       "    </tr>\n",
       "    <tr>\n",
       "      <th>2379</th>\n",
       "      <td>2018-03-12</td>\n",
       "      <td>6930.689941</td>\n",
       "      <td>7178.500000</td>\n",
       "      <td>6370.870117</td>\n",
       "      <td>6595.370117</td>\n",
       "      <td>6595.370117</td>\n",
       "      <td>7588986</td>\n",
       "    </tr>\n",
       "    <tr>\n",
       "      <th>2380</th>\n",
       "      <td>2018-03-13</td>\n",
       "      <td>6594.600098</td>\n",
       "      <td>6815.180176</td>\n",
       "      <td>6398.020020</td>\n",
       "      <td>6603.700195</td>\n",
       "      <td>6603.700195</td>\n",
       "      <td>7061280</td>\n",
       "    </tr>\n",
       "    <tr>\n",
       "      <th>2381</th>\n",
       "      <td>2018-03-14</td>\n",
       "      <td>6605.890137</td>\n",
       "      <td>6744.250000</td>\n",
       "      <td>5380.189941</td>\n",
       "      <td>5920.549805</td>\n",
       "      <td>5920.549805</td>\n",
       "      <td>10549544</td>\n",
       "    </tr>\n",
       "    <tr>\n",
       "      <th>2382</th>\n",
       "      <td>2018-03-15</td>\n",
       "      <td>5920.549805</td>\n",
       "      <td>6065.549805</td>\n",
       "      <td>5547.439941</td>\n",
       "      <td>5955.470215</td>\n",
       "      <td>5955.470215</td>\n",
       "      <td>9480642</td>\n",
       "    </tr>\n",
       "    <tr>\n",
       "      <th>2383</th>\n",
       "      <td>2018-03-16</td>\n",
       "      <td>5955.009766</td>\n",
       "      <td>6220.310059</td>\n",
       "      <td>5719.129883</td>\n",
       "      <td>6017.270020</td>\n",
       "      <td>6017.270020</td>\n",
       "      <td>5937362</td>\n",
       "    </tr>\n",
       "    <tr>\n",
       "      <th>2384</th>\n",
       "      <td>2018-03-17</td>\n",
       "      <td>6017.270020</td>\n",
       "      <td>6073.259766</td>\n",
       "      <td>5523.720215</td>\n",
       "      <td>5715.779785</td>\n",
       "      <td>5715.779785</td>\n",
       "      <td>6165841</td>\n",
       "    </tr>\n",
       "    <tr>\n",
       "      <th>2385</th>\n",
       "      <td>2018-03-18</td>\n",
       "      <td>5715.779785</td>\n",
       "      <td>5938.100098</td>\n",
       "      <td>5224.970215</td>\n",
       "      <td>5911.439941</td>\n",
       "      <td>5911.439941</td>\n",
       "      <td>10658450</td>\n",
       "    </tr>\n",
       "    <tr>\n",
       "      <th>2386</th>\n",
       "      <td>2018-03-19</td>\n",
       "      <td>5911.350098</td>\n",
       "      <td>6177.660156</td>\n",
       "      <td>5805.819824</td>\n",
       "      <td>6116.589844</td>\n",
       "      <td>6116.589844</td>\n",
       "      <td>8172788</td>\n",
       "    </tr>\n",
       "    <tr>\n",
       "      <th>2387</th>\n",
       "      <td>2018-03-20</td>\n",
       "      <td>6116.589844</td>\n",
       "      <td>6185.200195</td>\n",
       "      <td>5932.419922</td>\n",
       "      <td>6116.759766</td>\n",
       "      <td>6116.759766</td>\n",
       "      <td>2310430</td>\n",
       "    </tr>\n",
       "  </tbody>\n",
       "</table>\n",
       "<p>2388 rows × 7 columns</p>\n",
       "</div>"
      ],
      "text/plain": [
       "            Date         Open         High          Low        Close  \\\n",
       "0     2011-09-05     4.440000     4.440000     4.060000     4.250000   \n",
       "1     2011-09-06     4.250000     4.510000     4.260000     4.260000   \n",
       "2     2011-09-07     4.260000     4.430000     4.210000     4.210000   \n",
       "3     2011-09-08     4.210000     3.890000     3.000000     3.160000   \n",
       "4     2011-09-09     3.160000     3.300000     3.000000     3.000000   \n",
       "5     2011-09-10     3.000000     4.000000     2.950000     3.000000   \n",
       "6     2011-09-11     3.000000     3.990000     2.970000     2.970000   \n",
       "7     2011-09-12     2.970000     3.850000     3.620000     3.690000   \n",
       "8     2011-09-13     3.690000     3.600000     3.500000     3.500000   \n",
       "9     2011-09-14     3.500000     3.210000     2.950000     3.210000   \n",
       "10    2011-09-15     3.210000     3.180000     3.040000     3.040000   \n",
       "11    2011-09-16     3.040000     3.190000     3.040000     3.040000   \n",
       "12    2011-09-17     3.040000     3.290000     3.290000     3.290000   \n",
       "13    2011-09-18     3.290000     3.570000     3.200000     3.570000   \n",
       "14    2011-09-19     3.570000     3.850000     3.720000     3.850000   \n",
       "15    2011-09-20     3.850000     3.870000     3.280000     3.620000   \n",
       "16    2011-09-21     3.620000     3.700000     3.580000     3.600000   \n",
       "17    2011-09-22     3.600000     3.740000     3.460000     3.740000   \n",
       "18    2011-09-23     3.740000     3.620000     3.580000     3.620000   \n",
       "19    2011-09-24     3.620000     3.620000     3.620000     3.620000   \n",
       "20    2011-09-25     3.620000     3.400000     3.150000     3.240000   \n",
       "21    2011-09-26     3.240000     3.270000     3.230000     3.230000   \n",
       "22    2011-09-27     3.230000     3.200000     3.050000     3.150000   \n",
       "23    2011-09-28     3.150000     3.140000     3.070000     3.110000   \n",
       "24    2011-09-29     3.110000     3.350000     3.060000     3.350000   \n",
       "25    2011-09-30     3.350000     3.300000     3.300000     3.300000   \n",
       "26    2011-10-01     3.300000     3.300000     3.300000     3.300000   \n",
       "27    2011-10-02     3.300000     3.270000     3.230000     3.260000   \n",
       "28    2011-10-03     3.260000     3.310000     3.270000     3.280000   \n",
       "29    2011-10-04     3.280000     3.280000     3.270000     3.280000   \n",
       "...          ...          ...          ...          ...          ...   \n",
       "2358  2018-02-19  7524.169922  8093.049805  7479.350098  8044.759766   \n",
       "2359  2018-02-20  8046.790039  8510.049805  7988.439941  8083.680176   \n",
       "2360  2018-02-21  8083.680176  8113.990234  7359.569824  7544.459961   \n",
       "2361  2018-02-22  7536.819824  7927.609863  7034.459961  7067.890137   \n",
       "2362  2018-02-23  7067.890137  7463.490234  6881.890137  7287.620117   \n",
       "2363  2018-02-24  7287.620117  7495.459961  6779.540039  6988.009766   \n",
       "2364  2018-02-25  6987.830078  7086.890137  6744.959961  6915.089844   \n",
       "2365  2018-02-26  6915.009766  7466.879883  6768.660156  7368.629883   \n",
       "2366  2018-02-27  7368.629883  7803.459961  7273.259766  7628.270020   \n",
       "2367  2018-02-28  7628.270020  7935.350098  7486.890137  7532.189941   \n",
       "2368  2018-03-01  7532.189941  8015.279785  7461.629883  7939.640137   \n",
       "2369  2018-03-02  7939.640137  8122.259766  7860.600098  7987.040039   \n",
       "2370  2018-03-03  7987.040039  8387.009766  7986.770020  8298.469727   \n",
       "2371  2018-03-04  8298.469727  8360.799805  8049.160156  8353.980469   \n",
       "2372  2018-03-05  8353.980469  8460.690430  8284.519531  8330.690430   \n",
       "2373  2018-03-06  8330.089844  8330.089844  7640.700195  7753.879883   \n",
       "2374  2018-03-07  7753.879883  7876.069824  6862.290039  7214.490234   \n",
       "2375  2018-03-08  7214.490234  7350.169922  6619.729980  6740.560059   \n",
       "2376  2018-03-09  6740.560059  6810.810059  6111.959961  6739.060059   \n",
       "2377  2018-03-10  6739.060059  6930.890137  6337.459961  6360.379883   \n",
       "2378  2018-03-11  6360.379883  7065.200195  6194.930176  6930.689941   \n",
       "2379  2018-03-12  6930.689941  7178.500000  6370.870117  6595.370117   \n",
       "2380  2018-03-13  6594.600098  6815.180176  6398.020020  6603.700195   \n",
       "2381  2018-03-14  6605.890137  6744.250000  5380.189941  5920.549805   \n",
       "2382  2018-03-15  5920.549805  6065.549805  5547.439941  5955.470215   \n",
       "2383  2018-03-16  5955.009766  6220.310059  5719.129883  6017.270020   \n",
       "2384  2018-03-17  6017.270020  6073.259766  5523.720215  5715.779785   \n",
       "2385  2018-03-18  5715.779785  5938.100098  5224.970215  5911.439941   \n",
       "2386  2018-03-19  5911.350098  6177.660156  5805.819824  6116.589844   \n",
       "2387  2018-03-20  6116.589844  6185.200195  5932.419922  6116.759766   \n",
       "\n",
       "        Adj Close    Volume  \n",
       "0        4.250000       839  \n",
       "1        4.260000       127  \n",
       "2        4.210000        50  \n",
       "3        3.160000       626  \n",
       "4        3.000000        72  \n",
       "5        3.000000       233  \n",
       "6        2.970000        88  \n",
       "7        3.690000      1017  \n",
       "8        3.500000        28  \n",
       "9        3.210000       172  \n",
       "10       3.040000       464  \n",
       "11       3.040000       233  \n",
       "12       3.290000         6  \n",
       "13       3.570000         7  \n",
       "14       3.850000        31  \n",
       "15       3.620000      2893  \n",
       "16       3.600000       628  \n",
       "17       3.740000       417  \n",
       "18       3.620000        10  \n",
       "19       3.620000         0  \n",
       "20       3.240000       113  \n",
       "21       3.230000       524  \n",
       "22       3.150000      1316  \n",
       "23       3.110000      1001  \n",
       "24       3.350000       189  \n",
       "25       3.300000         1  \n",
       "26       3.300000         0  \n",
       "27       3.260000        77  \n",
       "28       3.280000      2393  \n",
       "29       3.280000        53  \n",
       "...           ...       ...  \n",
       "2358  8044.759766   9892277  \n",
       "2359  8083.680176  13822017  \n",
       "2360  7544.459961  15530011  \n",
       "2361  7067.890137  12061927  \n",
       "2362  7287.620117  10208262  \n",
       "2363  6988.009766   6440407  \n",
       "2364  6915.089844   4460097  \n",
       "2365  7368.629883   7814616  \n",
       "2366  7628.270020   6562764  \n",
       "2367  7532.189941   7743166  \n",
       "2368  7939.640137   7405333  \n",
       "2369  7987.040039   4931479  \n",
       "2370  8298.469727   4433092  \n",
       "2371  8353.980469   3337587  \n",
       "2372  8330.690430   5140175  \n",
       "2373  7753.879883   8367044  \n",
       "2374  7214.490234   9869668  \n",
       "2375  6740.560059   9127864  \n",
       "2376  6739.060059  12142982  \n",
       "2377  6360.379883   4641304  \n",
       "2378  6930.689941   5402358  \n",
       "2379  6595.370117   7588986  \n",
       "2380  6603.700195   7061280  \n",
       "2381  5920.549805  10549544  \n",
       "2382  5955.470215   9480642  \n",
       "2383  6017.270020   5937362  \n",
       "2384  5715.779785   6165841  \n",
       "2385  5911.439941  10658450  \n",
       "2386  6116.589844   8172788  \n",
       "2387  6116.759766   2310430  \n",
       "\n",
       "[2388 rows x 7 columns]"
      ]
     },
     "execution_count": 3,
     "metadata": {},
     "output_type": "execute_result"
    }
   ],
   "source": [
    "data = pd.read_csv('BTC-GBP.csv')\n",
    "data"
   ]
  },
  {
   "cell_type": "markdown",
   "metadata": {},
   "source": [
    "__Use the Adjusted Closing Price__ to avoid complications from divedends and other events"
   ]
  },
  {
   "cell_type": "code",
   "execution_count": 4,
   "metadata": {
    "collapsed": false
   },
   "outputs": [],
   "source": [
    "adj_close = data['Adj Close']"
   ]
  },
  {
   "cell_type": "markdown",
   "metadata": {},
   "source": [
    "This Histogram was plotted using data from the last 6.5 years. "
   ]
  },
  {
   "cell_type": "code",
   "execution_count": 5,
   "metadata": {
    "collapsed": false
   },
   "outputs": [
    {
     "data": {
      "text/plain": [
       "6.542465753424658"
      ]
     },
     "execution_count": 5,
     "metadata": {},
     "output_type": "execute_result"
    }
   ],
   "source": [
    "len(adj_close) / 365"
   ]
  },
  {
   "cell_type": "markdown",
   "metadata": {},
   "source": [
    "## (a) (i) Plot a histogram of the daily returns over the last few years"
   ]
  },
  {
   "cell_type": "markdown",
   "metadata": {},
   "source": [
    "The formula used to calculate the daily return is as follows:\n",
    "\n",
    "__Daily Return = (Price / Price of previous day) - 1__"
   ]
  },
  {
   "cell_type": "code",
   "execution_count": 6,
   "metadata": {
    "collapsed": true
   },
   "outputs": [],
   "source": [
    "returns = []\n",
    "for day in range(len(adj_close)-1):\n",
    "    returns.append(adj_close[day+1] / adj_close[day] - 1)"
   ]
  },
  {
   "cell_type": "code",
   "execution_count": 7,
   "metadata": {
    "collapsed": false
   },
   "outputs": [],
   "source": [
    "m, s = stats.norm.fit(returns) # get mean and standard deviation "
   ]
  },
  {
   "cell_type": "code",
   "execution_count": 8,
   "metadata": {
    "collapsed": false
   },
   "outputs": [],
   "source": [
    "m, s\n",
    "m1=m\n",
    "s1=s"
   ]
  },
  {
   "cell_type": "code",
   "execution_count": 9,
   "metadata": {
    "collapsed": false
   },
   "outputs": [
    {
     "data": {
      "text/plain": [
       "[<matplotlib.lines.Line2D at 0x1e5377d6eb8>]"
      ]
     },
     "execution_count": 9,
     "metadata": {},
     "output_type": "execute_result"
    }
   ],
   "source": [
    "plt.figure(figsize=(10,8))\n",
    "plt.hist(returns, bins=len(returns), normed=True)#, normed=True)\n",
    "lnspc1 = np.linspace(-0.4, 0.4, len(returns))\n",
    "pdf_g1 = stats.norm.pdf(lnspc1, m, s) \n",
    "plt.plot(lnspc1, pdf_g1, label=\"Normal ($\\mu = 0.006$, $\\sigma = 0.101$)\") # plot it\n",
    "pdf_cauch = stats.cauchy.pdf(lnspc1, m, 0.02)  # This gamma of 0.02 was chosen totally randomly\n",
    "plt.plot(lnspc1, pdf_cauch, label=\"Cauchy ($\\mu = 0.006$, $\\gamma = 0.02$)\", linewidth=2.5) # plot it"
   ]
  },
  {
   "cell_type": "code",
   "execution_count": 10,
   "metadata": {
    "collapsed": false
   },
   "outputs": [
    {
     "data": {
      "image/png": "[encoded data removed]",
      "text/plain": [
       "<matplotlib.figure.Figure at 0x1e53b1975f8>"
      ]
     },
     "metadata": {},
     "output_type": "display_data"
    }
   ],
   "source": [
    "# Visualize\n",
    "plt.legend()\n",
    "plt.title('BTC-GBP')\n",
    "plt.ylabel('Density')\n",
    "plt.xlabel('Daily Return')\n",
    "plt.xlim(-0.3,0.3)\n",
    "# plt.savefig('Normalised Histogram (BTC-USD)')\n",
    "plt.show()"
   ]
  },
  {
   "cell_type": "markdown",
   "metadata": {},
   "source": [
    "For further work section, use Monte Carlo sampling from this distribution and use a random walk to find what the price of BTC would be in the future."
   ]
  },
  {
   "cell_type": "markdown",
   "metadata": {
    "collapsed": false
   },
   "source": [
    "## (iii) Present a normal quantile plot to establish the extent to which your data follows a normal distribution. "
   ]
  },
  {
   "cell_type": "code",
   "execution_count": 11,
   "metadata": {
    "collapsed": false
   },
   "outputs": [
    {
     "data": {
      "image/png": "[encoded data removed]",
      "text/plain": [
       "<matplotlib.figure.Figure at 0x1e53b182dd8>"
      ]
     },
     "metadata": {},
     "output_type": "display_data"
    }
   ],
   "source": [
    "stats.probplot(returns, dist=\"norm\", plot=plt)\n",
    "plt.title('Probability Plot: Normal Distribution')\n",
    "plt.show()"
   ]
  },
  {
   "cell_type": "markdown",
   "metadata": {},
   "source": [
    "From this Q-Q plot, since it curves down then upwards - this suggests that there are fat tails. Which means that there are more extreme price movements."
   ]
  },
  {
   "cell_type": "code",
   "execution_count": 12,
   "metadata": {
    "collapsed": false
   },
   "outputs": [
    {
     "data": {
      "image/png": "[encoded data removed]",
      "text/plain": [
       "<matplotlib.figure.Figure at 0x1e53e83ecf8>"
      ]
     },
     "metadata": {},
     "output_type": "display_data"
    }
   ],
   "source": [
    "stats.probplot(returns, dist=stats.cauchy, plot=plt)\n",
    "# plt.xlim(-200,200)\n",
    "plt.title('Probability Plot: Cauchy')\n",
    "plt.show()"
   ]
  },
  {
   "cell_type": "markdown",
   "metadata": {},
   "source": [
    "## (iv) Repeat this analysis for 5 day and 10 day intervals and investigate any change in the probability density function."
   ]
  },
  {
   "cell_type": "markdown",
   "metadata": {},
   "source": [
    "* Consider doing subplots for all three in a single plot. Interval in columns, first row histogram pdf, second row qq plot.\n",
    "* Double check how the plots look without putting x limits"
   ]
  },
  {
   "cell_type": "markdown",
   "metadata": {},
   "source": [
    "### 5 day Interval"
   ]
  },
  {
   "cell_type": "markdown",
   "metadata": {},
   "source": [
    "__5 Day Return = (Price today / Price 5 days ago) - 1__"
   ]
  },
  {
   "cell_type": "code",
   "execution_count": 13,
   "metadata": {
    "collapsed": false
   },
   "outputs": [],
   "source": [
    "returns = []\n",
    "day = 0\n",
    "while day < len(adj_close) - 5:\n",
    "    returns.append(adj_close[day+5] / adj_close[day] - 1)\n",
    "    day += 5"
   ]
  },
  {
   "cell_type": "code",
   "execution_count": 14,
   "metadata": {
    "collapsed": false
   },
   "outputs": [],
   "source": [
    "m, s = stats.norm.fit(returns) # get mean and standard deviation \n",
    "m, s\n",
    "m5=m\n",
    "s5=s"
   ]
  },
  {
   "cell_type": "code",
   "execution_count": 15,
   "metadata": {
    "collapsed": false
   },
   "outputs": [
    {
     "data": {
      "image/png": "[encoded data removed]",
      "text/plain": [
       "<matplotlib.figure.Figure at 0x1e53f12c8d0>"
      ]
     },
     "metadata": {},
     "output_type": "display_data"
    }
   ],
   "source": [
    "plt.figure(figsize=(10,8))\n",
    "plt.hist(returns, bins=len(returns), normed=True)#, normed=True)\n",
    "lnspc5 = np.linspace(-0.4, 0.4, len(returns))\n",
    "pdf_g5 = stats.norm.pdf(lnspc5, m, s) \n",
    "plt.plot(lnspc5, pdf_g5, label=\"Normal ($\\mu = 0.023$, $\\sigma = 0.131$)\") # plot it\n",
    "pdf_cauch = stats.cauchy.pdf(lnspc5, m, 0.04)  # This gamma of 0.02 was chosen totally randomly\n",
    "plt.plot(lnspc5, pdf_cauch, label=\"Cauchy ($\\mu = 0.023$, $\\gamma = 0.04$)\", linewidth=2.5) # plot it\n",
    "\n",
    "# Visualize\n",
    "plt.legend()\n",
    "plt.title('BTC-GBP (5 day interval)')\n",
    "plt.ylabel('Density')\n",
    "plt.xlabel('Return (5 day interval)')\n",
    "plt.xlim(-0.3,0.3)\n",
    "# plt.savefig('Normalised Histogram (BTC-USD)')\n",
    "plt.show()"
   ]
  },
  {
   "cell_type": "code",
   "execution_count": 16,
   "metadata": {
    "collapsed": false
   },
   "outputs": [
    {
     "data": {
      "image/png": "[encoded data removed]",
      "text/plain": [
       "<matplotlib.figure.Figure at 0x1e53f9bcd30>"
      ]
     },
     "metadata": {},
     "output_type": "display_data"
    }
   ],
   "source": [
    "stats.probplot(returns, dist=\"norm\", plot=plt)\n",
    "plt.title('Probability Plot: Normal Distribution')\n",
    "plt.show()"
   ]
  },
  {
   "cell_type": "code",
   "execution_count": 17,
   "metadata": {
    "collapsed": false
   },
   "outputs": [
    {
     "data": {
      "image/png": "[encoded data removed]",
      "text/plain": [
       "<matplotlib.figure.Figure at 0x1e53f17d278>"
      ]
     },
     "metadata": {},
     "output_type": "display_data"
    }
   ],
   "source": [
    "stats.probplot(returns, dist=stats.cauchy, plot=plt)\n",
    "# plt.xlim(-200,200)\n",
    "plt.title('Probability Plot: Cauchy')\n",
    "plt.show()"
   ]
  },
  {
   "cell_type": "markdown",
   "metadata": {},
   "source": [
    "### 10 Day Interval"
   ]
  },
  {
   "cell_type": "code",
   "execution_count": 18,
   "metadata": {
    "collapsed": true
   },
   "outputs": [],
   "source": [
    "returns = []\n",
    "day = 0\n",
    "while day < len(adj_close) - 10:\n",
    "    returns.append(adj_close[day+10] / adj_close[day] - 1)\n",
    "    day += 10"
   ]
  },
  {
   "cell_type": "code",
   "execution_count": 19,
   "metadata": {
    "collapsed": false
   },
   "outputs": [],
   "source": [
    "m, s = stats.norm.fit(returns) # get mean and standard deviation \n",
    "m, s\n",
    "m10=m\n",
    "s10=s"
   ]
  },
  {
   "cell_type": "code",
   "execution_count": 20,
   "metadata": {
    "collapsed": false
   },
   "outputs": [
    {
     "data": {
      "image/png": "[encoded data removed]",
      "text/plain": [
       "<matplotlib.figure.Figure at 0x1e53f195f98>"
      ]
     },
     "metadata": {},
     "output_type": "display_data"
    }
   ],
   "source": [
    "plt.figure(figsize=(10,8))\n",
    "plt.hist(returns, bins=len(returns), normed=True)#, normed=True)\n",
    "lnspc10 = np.linspace(-0.4, 0.4, len(returns))\n",
    "pdf_g10 = stats.norm.pdf(lnspc10, m, s) \n",
    "plt.plot(lnspc10, pdf_g10, label=\"Normal ($\\mu = 0.023$, $\\sigma = 0.131$)\") # plot it\n",
    "pdf_cauch = stats.cauchy.pdf(lnspc10, m, 0.06)  # This gamma of 0.02 was chosen totally randomly\n",
    "plt.plot(lnspc10, pdf_cauch, label=\"Cauchy ($\\mu = 0.023$, $\\gamma = 0.06$)\", linewidth=2.5) # plot it\n",
    "\n",
    "# Visualize\n",
    "plt.legend()\n",
    "plt.title('BTC-GBP (10 day interval)')\n",
    "plt.ylabel('Density')\n",
    "plt.xlabel('Return (10 day interval)')\n",
    "plt.xlim(-0.3,0.3)\n",
    "# plt.savefig('Normalised Histogram (BTC-USD)')\n",
    "plt.show()"
   ]
  },
  {
   "cell_type": "code",
   "execution_count": 21,
   "metadata": {
    "collapsed": false
   },
   "outputs": [
    {
     "data": {
      "image/png": "[encoded data removed]",
      "text/plain": [
       "<matplotlib.figure.Figure at 0x1e5403d00f0>"
      ]
     },
     "metadata": {},
     "output_type": "display_data"
    }
   ],
   "source": [
    "stats.probplot(returns, dist=\"norm\", plot=plt)\n",
    "plt.title('Probability Plot: Normal Distribution')\n",
    "plt.show()"
   ]
  },
  {
   "cell_type": "code",
   "execution_count": 22,
   "metadata": {
    "collapsed": false
   },
   "outputs": [
    {
     "data": {
      "image/png": "[encoded data removed]",
      "text/plain": [
       "<matplotlib.figure.Figure at 0x1e53fc2efd0>"
      ]
     },
     "metadata": {},
     "output_type": "display_data"
    }
   ],
   "source": [
    "stats.probplot(returns, dist=stats.cauchy, plot=plt)\n",
    "# plt.xlim(-200,200)\n",
    "plt.title('Probability Plot: Cauchy')\n",
    "plt.show()"
   ]
  },
  {
   "cell_type": "markdown",
   "metadata": {},
   "source": [
    "### Compare PDFs by overlaying the probability density functions for different intervals"
   ]
  },
  {
   "cell_type": "code",
   "execution_count": 23,
   "metadata": {
    "collapsed": false
   },
   "outputs": [
    {
     "data": {
      "image/png": "[encoded data removed]",
      "text/plain": [
       "<matplotlib.figure.Figure at 0x1e5406ee358>"
      ]
     },
     "metadata": {},
     "output_type": "display_data"
    }
   ],
   "source": [
    "plt.figure(figsize=(10,8))\n",
    "plt.plot(lnspc1, pdf_g1, label=\"1 day interval\", c='C0')\n",
    "plt.axvline(x=m1, ls='--', lw=0.8, c='C0')\n",
    "# plt.axvline(x=-s1, ls='-.', lw=0.8, c='C0')\n",
    "plt.axvline(x=s1, ls=':', lw=0.8, c='C0')\n",
    "plt.plot(lnspc5, pdf_g5, label=\"5 day interval\", c='C1')\n",
    "plt.axvline(x=m5, ls='--', lw=0.8, c='C1')\n",
    "# plt.axvline(x=-s5, ls='-.', lw=0.8, c='C1')\n",
    "plt.axvline(x=s5, ls=':', lw=0.8, c='C1')\n",
    "plt.plot(lnspc10, pdf_g10, label=\"10 day interval\", c='C2')\n",
    "plt.axvline(x=m10, ls='--', lw=0.8, c='C2')\n",
    "# plt.axvline(x=-s10, ls='-.', lw=0.8, c='C2')\n",
    "plt.axvline(x=s10, ls=':', lw=0.8, c='C2')\n",
    "plt.legend()\n",
    "plt.xlabel('Return')\n",
    "plt.ylabel('Density')\n",
    "plt.show()"
   ]
  },
  {
   "cell_type": "markdown",
   "metadata": {},
   "source": [
    "It can be observed that for this dataset, as the width of the time interval for returns increases: the mean of the PDF increases, the peak density decreases, and the standard deviation increases. \n",
    "\n",
    "Therefore we can see that using a higher timeframe interval, "
   ]
  },
  {
   "cell_type": "markdown",
   "metadata": {},
   "source": [
    "## (b) (i) Calculate the annual drift and volatility of the share price using a 60 day rolling average over the last year, plotting your results on a graph as a function of time. "
   ]
  },
  {
   "cell_type": "code",
   "execution_count": 24,
   "metadata": {
    "collapsed": false
   },
   "outputs": [
    {
     "data": {
      "text/html": [
       "<div>\n",
       "<table border=\"1\" class=\"dataframe\">\n",
       "  <thead>\n",
       "    <tr style=\"text-align: right;\">\n",
       "      <th></th>\n",
       "      <th>Date</th>\n",
       "      <th>Open</th>\n",
       "      <th>High</th>\n",
       "      <th>Low</th>\n",
       "      <th>Close</th>\n",
       "      <th>Adj Close</th>\n",
       "      <th>Volume</th>\n",
       "    </tr>\n",
       "  </thead>\n",
       "  <tbody>\n",
       "    <tr>\n",
       "      <th>0</th>\n",
       "      <td>2011-09-05</td>\n",
       "      <td>4.440000</td>\n",
       "      <td>4.440000</td>\n",
       "      <td>4.060000</td>\n",
       "      <td>4.250000</td>\n",
       "      <td>4.250000</td>\n",
       "      <td>839</td>\n",
       "    </tr>\n",
       "    <tr>\n",
       "      <th>1</th>\n",
       "      <td>2011-09-06</td>\n",
       "      <td>4.250000</td>\n",
       "      <td>4.510000</td>\n",
       "      <td>4.260000</td>\n",
       "      <td>4.260000</td>\n",
       "      <td>4.260000</td>\n",
       "      <td>127</td>\n",
       "    </tr>\n",
       "    <tr>\n",
       "      <th>2</th>\n",
       "      <td>2011-09-07</td>\n",
       "      <td>4.260000</td>\n",
       "      <td>4.430000</td>\n",
       "      <td>4.210000</td>\n",
       "      <td>4.210000</td>\n",
       "      <td>4.210000</td>\n",
       "      <td>50</td>\n",
       "    </tr>\n",
       "    <tr>\n",
       "      <th>3</th>\n",
       "      <td>2011-09-08</td>\n",
       "      <td>4.210000</td>\n",
       "      <td>3.890000</td>\n",
       "      <td>3.000000</td>\n",
       "      <td>3.160000</td>\n",
       "      <td>3.160000</td>\n",
       "      <td>626</td>\n",
       "    </tr>\n",
       "    <tr>\n",
       "      <th>4</th>\n",
       "      <td>2011-09-09</td>\n",
       "      <td>3.160000</td>\n",
       "      <td>3.300000</td>\n",
       "      <td>3.000000</td>\n",
       "      <td>3.000000</td>\n",
       "      <td>3.000000</td>\n",
       "      <td>72</td>\n",
       "    </tr>\n",
       "    <tr>\n",
       "      <th>5</th>\n",
       "      <td>2011-09-10</td>\n",
       "      <td>3.000000</td>\n",
       "      <td>4.000000</td>\n",
       "      <td>2.950000</td>\n",
       "      <td>3.000000</td>\n",
       "      <td>3.000000</td>\n",
       "      <td>233</td>\n",
       "    </tr>\n",
       "    <tr>\n",
       "      <th>6</th>\n",
       "      <td>2011-09-11</td>\n",
       "      <td>3.000000</td>\n",
       "      <td>3.990000</td>\n",
       "      <td>2.970000</td>\n",
       "      <td>2.970000</td>\n",
       "      <td>2.970000</td>\n",
       "      <td>88</td>\n",
       "    </tr>\n",
       "    <tr>\n",
       "      <th>7</th>\n",
       "      <td>2011-09-12</td>\n",
       "      <td>2.970000</td>\n",
       "      <td>3.850000</td>\n",
       "      <td>3.620000</td>\n",
       "      <td>3.690000</td>\n",
       "      <td>3.690000</td>\n",
       "      <td>1017</td>\n",
       "    </tr>\n",
       "    <tr>\n",
       "      <th>8</th>\n",
       "      <td>2011-09-13</td>\n",
       "      <td>3.690000</td>\n",
       "      <td>3.600000</td>\n",
       "      <td>3.500000</td>\n",
       "      <td>3.500000</td>\n",
       "      <td>3.500000</td>\n",
       "      <td>28</td>\n",
       "    </tr>\n",
       "    <tr>\n",
       "      <th>9</th>\n",
       "      <td>2011-09-14</td>\n",
       "      <td>3.500000</td>\n",
       "      <td>3.210000</td>\n",
       "      <td>2.950000</td>\n",
       "      <td>3.210000</td>\n",
       "      <td>3.210000</td>\n",
       "      <td>172</td>\n",
       "    </tr>\n",
       "    <tr>\n",
       "      <th>10</th>\n",
       "      <td>2011-09-15</td>\n",
       "      <td>3.210000</td>\n",
       "      <td>3.180000</td>\n",
       "      <td>3.040000</td>\n",
       "      <td>3.040000</td>\n",
       "      <td>3.040000</td>\n",
       "      <td>464</td>\n",
       "    </tr>\n",
       "    <tr>\n",
       "      <th>11</th>\n",
       "      <td>2011-09-16</td>\n",
       "      <td>3.040000</td>\n",
       "      <td>3.190000</td>\n",
       "      <td>3.040000</td>\n",
       "      <td>3.040000</td>\n",
       "      <td>3.040000</td>\n",
       "      <td>233</td>\n",
       "    </tr>\n",
       "    <tr>\n",
       "      <th>12</th>\n",
       "      <td>2011-09-17</td>\n",
       "      <td>3.040000</td>\n",
       "      <td>3.290000</td>\n",
       "      <td>3.290000</td>\n",
       "      <td>3.290000</td>\n",
       "      <td>3.290000</td>\n",
       "      <td>6</td>\n",
       "    </tr>\n",
       "    <tr>\n",
       "      <th>13</th>\n",
       "      <td>2011-09-18</td>\n",
       "      <td>3.290000</td>\n",
       "      <td>3.570000</td>\n",
       "      <td>3.200000</td>\n",
       "      <td>3.570000</td>\n",
       "      <td>3.570000</td>\n",
       "      <td>7</td>\n",
       "    </tr>\n",
       "    <tr>\n",
       "      <th>14</th>\n",
       "      <td>2011-09-19</td>\n",
       "      <td>3.570000</td>\n",
       "      <td>3.850000</td>\n",
       "      <td>3.720000</td>\n",
       "      <td>3.850000</td>\n",
       "      <td>3.850000</td>\n",
       "      <td>31</td>\n",
       "    </tr>\n",
       "    <tr>\n",
       "      <th>15</th>\n",
       "      <td>2011-09-20</td>\n",
       "      <td>3.850000</td>\n",
       "      <td>3.870000</td>\n",
       "      <td>3.280000</td>\n",
       "      <td>3.620000</td>\n",
       "      <td>3.620000</td>\n",
       "      <td>2893</td>\n",
       "    </tr>\n",
       "    <tr>\n",
       "      <th>16</th>\n",
       "      <td>2011-09-21</td>\n",
       "      <td>3.620000</td>\n",
       "      <td>3.700000</td>\n",
       "      <td>3.580000</td>\n",
       "      <td>3.600000</td>\n",
       "      <td>3.600000</td>\n",
       "      <td>628</td>\n",
       "    </tr>\n",
       "    <tr>\n",
       "      <th>17</th>\n",
       "      <td>2011-09-22</td>\n",
       "      <td>3.600000</td>\n",
       "      <td>3.740000</td>\n",
       "      <td>3.460000</td>\n",
       "      <td>3.740000</td>\n",
       "      <td>3.740000</td>\n",
       "      <td>417</td>\n",
       "    </tr>\n",
       "    <tr>\n",
       "      <th>18</th>\n",
       "      <td>2011-09-23</td>\n",
       "      <td>3.740000</td>\n",
       "      <td>3.620000</td>\n",
       "      <td>3.580000</td>\n",
       "      <td>3.620000</td>\n",
       "      <td>3.620000</td>\n",
       "      <td>10</td>\n",
       "    </tr>\n",
       "    <tr>\n",
       "      <th>19</th>\n",
       "      <td>2011-09-24</td>\n",
       "      <td>3.620000</td>\n",
       "      <td>3.620000</td>\n",
       "      <td>3.620000</td>\n",
       "      <td>3.620000</td>\n",
       "      <td>3.620000</td>\n",
       "      <td>0</td>\n",
       "    </tr>\n",
       "    <tr>\n",
       "      <th>20</th>\n",
       "      <td>2011-09-25</td>\n",
       "      <td>3.620000</td>\n",
       "      <td>3.400000</td>\n",
       "      <td>3.150000</td>\n",
       "      <td>3.240000</td>\n",
       "      <td>3.240000</td>\n",
       "      <td>113</td>\n",
       "    </tr>\n",
       "    <tr>\n",
       "      <th>21</th>\n",
       "      <td>2011-09-26</td>\n",
       "      <td>3.240000</td>\n",
       "      <td>3.270000</td>\n",
       "      <td>3.230000</td>\n",
       "      <td>3.230000</td>\n",
       "      <td>3.230000</td>\n",
       "      <td>524</td>\n",
       "    </tr>\n",
       "    <tr>\n",
       "      <th>22</th>\n",
       "      <td>2011-09-27</td>\n",
       "      <td>3.230000</td>\n",
       "      <td>3.200000</td>\n",
       "      <td>3.050000</td>\n",
       "      <td>3.150000</td>\n",
       "      <td>3.150000</td>\n",
       "      <td>1316</td>\n",
       "    </tr>\n",
       "    <tr>\n",
       "      <th>23</th>\n",
       "      <td>2011-09-28</td>\n",
       "      <td>3.150000</td>\n",
       "      <td>3.140000</td>\n",
       "      <td>3.070000</td>\n",
       "      <td>3.110000</td>\n",
       "      <td>3.110000</td>\n",
       "      <td>1001</td>\n",
       "    </tr>\n",
       "    <tr>\n",
       "      <th>24</th>\n",
       "      <td>2011-09-29</td>\n",
       "      <td>3.110000</td>\n",
       "      <td>3.350000</td>\n",
       "      <td>3.060000</td>\n",
       "      <td>3.350000</td>\n",
       "      <td>3.350000</td>\n",
       "      <td>189</td>\n",
       "    </tr>\n",
       "    <tr>\n",
       "      <th>25</th>\n",
       "      <td>2011-09-30</td>\n",
       "      <td>3.350000</td>\n",
       "      <td>3.300000</td>\n",
       "      <td>3.300000</td>\n",
       "      <td>3.300000</td>\n",
       "      <td>3.300000</td>\n",
       "      <td>1</td>\n",
       "    </tr>\n",
       "    <tr>\n",
       "      <th>26</th>\n",
       "      <td>2011-10-01</td>\n",
       "      <td>3.300000</td>\n",
       "      <td>3.300000</td>\n",
       "      <td>3.300000</td>\n",
       "      <td>3.300000</td>\n",
       "      <td>3.300000</td>\n",
       "      <td>0</td>\n",
       "    </tr>\n",
       "    <tr>\n",
       "      <th>27</th>\n",
       "      <td>2011-10-02</td>\n",
       "      <td>3.300000</td>\n",
       "      <td>3.270000</td>\n",
       "      <td>3.230000</td>\n",
       "      <td>3.260000</td>\n",
       "      <td>3.260000</td>\n",
       "      <td>77</td>\n",
       "    </tr>\n",
       "    <tr>\n",
       "      <th>28</th>\n",
       "      <td>2011-10-03</td>\n",
       "      <td>3.260000</td>\n",
       "      <td>3.310000</td>\n",
       "      <td>3.270000</td>\n",
       "      <td>3.280000</td>\n",
       "      <td>3.280000</td>\n",
       "      <td>2393</td>\n",
       "    </tr>\n",
       "    <tr>\n",
       "      <th>29</th>\n",
       "      <td>2011-10-04</td>\n",
       "      <td>3.280000</td>\n",
       "      <td>3.280000</td>\n",
       "      <td>3.270000</td>\n",
       "      <td>3.280000</td>\n",
       "      <td>3.280000</td>\n",
       "      <td>53</td>\n",
       "    </tr>\n",
       "    <tr>\n",
       "      <th>...</th>\n",
       "      <td>...</td>\n",
       "      <td>...</td>\n",
       "      <td>...</td>\n",
       "      <td>...</td>\n",
       "      <td>...</td>\n",
       "      <td>...</td>\n",
       "      <td>...</td>\n",
       "    </tr>\n",
       "    <tr>\n",
       "      <th>2358</th>\n",
       "      <td>2018-02-19</td>\n",
       "      <td>7524.169922</td>\n",
       "      <td>8093.049805</td>\n",
       "      <td>7479.350098</td>\n",
       "      <td>8044.759766</td>\n",
       "      <td>8044.759766</td>\n",
       "      <td>9892277</td>\n",
       "    </tr>\n",
       "    <tr>\n",
       "      <th>2359</th>\n",
       "      <td>2018-02-20</td>\n",
       "      <td>8046.790039</td>\n",
       "      <td>8510.049805</td>\n",
       "      <td>7988.439941</td>\n",
       "      <td>8083.680176</td>\n",
       "      <td>8083.680176</td>\n",
       "      <td>13822017</td>\n",
       "    </tr>\n",
       "    <tr>\n",
       "      <th>2360</th>\n",
       "      <td>2018-02-21</td>\n",
       "      <td>8083.680176</td>\n",
       "      <td>8113.990234</td>\n",
       "      <td>7359.569824</td>\n",
       "      <td>7544.459961</td>\n",
       "      <td>7544.459961</td>\n",
       "      <td>15530011</td>\n",
       "    </tr>\n",
       "    <tr>\n",
       "      <th>2361</th>\n",
       "      <td>2018-02-22</td>\n",
       "      <td>7536.819824</td>\n",
       "      <td>7927.609863</td>\n",
       "      <td>7034.459961</td>\n",
       "      <td>7067.890137</td>\n",
       "      <td>7067.890137</td>\n",
       "      <td>12061927</td>\n",
       "    </tr>\n",
       "    <tr>\n",
       "      <th>2362</th>\n",
       "      <td>2018-02-23</td>\n",
       "      <td>7067.890137</td>\n",
       "      <td>7463.490234</td>\n",
       "      <td>6881.890137</td>\n",
       "      <td>7287.620117</td>\n",
       "      <td>7287.620117</td>\n",
       "      <td>10208262</td>\n",
       "    </tr>\n",
       "    <tr>\n",
       "      <th>2363</th>\n",
       "      <td>2018-02-24</td>\n",
       "      <td>7287.620117</td>\n",
       "      <td>7495.459961</td>\n",
       "      <td>6779.540039</td>\n",
       "      <td>6988.009766</td>\n",
       "      <td>6988.009766</td>\n",
       "      <td>6440407</td>\n",
       "    </tr>\n",
       "    <tr>\n",
       "      <th>2364</th>\n",
       "      <td>2018-02-25</td>\n",
       "      <td>6987.830078</td>\n",
       "      <td>7086.890137</td>\n",
       "      <td>6744.959961</td>\n",
       "      <td>6915.089844</td>\n",
       "      <td>6915.089844</td>\n",
       "      <td>4460097</td>\n",
       "    </tr>\n",
       "    <tr>\n",
       "      <th>2365</th>\n",
       "      <td>2018-02-26</td>\n",
       "      <td>6915.009766</td>\n",
       "      <td>7466.879883</td>\n",
       "      <td>6768.660156</td>\n",
       "      <td>7368.629883</td>\n",
       "      <td>7368.629883</td>\n",
       "      <td>7814616</td>\n",
       "    </tr>\n",
       "    <tr>\n",
       "      <th>2366</th>\n",
       "      <td>2018-02-27</td>\n",
       "      <td>7368.629883</td>\n",
       "      <td>7803.459961</td>\n",
       "      <td>7273.259766</td>\n",
       "      <td>7628.270020</td>\n",
       "      <td>7628.270020</td>\n",
       "      <td>6562764</td>\n",
       "    </tr>\n",
       "    <tr>\n",
       "      <th>2367</th>\n",
       "      <td>2018-02-28</td>\n",
       "      <td>7628.270020</td>\n",
       "      <td>7935.350098</td>\n",
       "      <td>7486.890137</td>\n",
       "      <td>7532.189941</td>\n",
       "      <td>7532.189941</td>\n",
       "      <td>7743166</td>\n",
       "    </tr>\n",
       "    <tr>\n",
       "      <th>2368</th>\n",
       "      <td>2018-03-01</td>\n",
       "      <td>7532.189941</td>\n",
       "      <td>8015.279785</td>\n",
       "      <td>7461.629883</td>\n",
       "      <td>7939.640137</td>\n",
       "      <td>7939.640137</td>\n",
       "      <td>7405333</td>\n",
       "    </tr>\n",
       "    <tr>\n",
       "      <th>2369</th>\n",
       "      <td>2018-03-02</td>\n",
       "      <td>7939.640137</td>\n",
       "      <td>8122.259766</td>\n",
       "      <td>7860.600098</td>\n",
       "      <td>7987.040039</td>\n",
       "      <td>7987.040039</td>\n",
       "      <td>4931479</td>\n",
       "    </tr>\n",
       "    <tr>\n",
       "      <th>2370</th>\n",
       "      <td>2018-03-03</td>\n",
       "      <td>7987.040039</td>\n",
       "      <td>8387.009766</td>\n",
       "      <td>7986.770020</td>\n",
       "      <td>8298.469727</td>\n",
       "      <td>8298.469727</td>\n",
       "      <td>4433092</td>\n",
       "    </tr>\n",
       "    <tr>\n",
       "      <th>2371</th>\n",
       "      <td>2018-03-04</td>\n",
       "      <td>8298.469727</td>\n",
       "      <td>8360.799805</td>\n",
       "      <td>8049.160156</td>\n",
       "      <td>8353.980469</td>\n",
       "      <td>8353.980469</td>\n",
       "      <td>3337587</td>\n",
       "    </tr>\n",
       "    <tr>\n",
       "      <th>2372</th>\n",
       "      <td>2018-03-05</td>\n",
       "      <td>8353.980469</td>\n",
       "      <td>8460.690430</td>\n",
       "      <td>8284.519531</td>\n",
       "      <td>8330.690430</td>\n",
       "      <td>8330.690430</td>\n",
       "      <td>5140175</td>\n",
       "    </tr>\n",
       "    <tr>\n",
       "      <th>2373</th>\n",
       "      <td>2018-03-06</td>\n",
       "      <td>8330.089844</td>\n",
       "      <td>8330.089844</td>\n",
       "      <td>7640.700195</td>\n",
       "      <td>7753.879883</td>\n",
       "      <td>7753.879883</td>\n",
       "      <td>8367044</td>\n",
       "    </tr>\n",
       "    <tr>\n",
       "      <th>2374</th>\n",
       "      <td>2018-03-07</td>\n",
       "      <td>7753.879883</td>\n",
       "      <td>7876.069824</td>\n",
       "      <td>6862.290039</td>\n",
       "      <td>7214.490234</td>\n",
       "      <td>7214.490234</td>\n",
       "      <td>9869668</td>\n",
       "    </tr>\n",
       "    <tr>\n",
       "      <th>2375</th>\n",
       "      <td>2018-03-08</td>\n",
       "      <td>7214.490234</td>\n",
       "      <td>7350.169922</td>\n",
       "      <td>6619.729980</td>\n",
       "      <td>6740.560059</td>\n",
       "      <td>6740.560059</td>\n",
       "      <td>9127864</td>\n",
       "    </tr>\n",
       "    <tr>\n",
       "      <th>2376</th>\n",
       "      <td>2018-03-09</td>\n",
       "      <td>6740.560059</td>\n",
       "      <td>6810.810059</td>\n",
       "      <td>6111.959961</td>\n",
       "      <td>6739.060059</td>\n",
       "      <td>6739.060059</td>\n",
       "      <td>12142982</td>\n",
       "    </tr>\n",
       "    <tr>\n",
       "      <th>2377</th>\n",
       "      <td>2018-03-10</td>\n",
       "      <td>6739.060059</td>\n",
       "      <td>6930.890137</td>\n",
       "      <td>6337.459961</td>\n",
       "      <td>6360.379883</td>\n",
       "      <td>6360.379883</td>\n",
       "      <td>4641304</td>\n",
       "    </tr>\n",
       "    <tr>\n",
       "      <th>2378</th>\n",
       "      <td>2018-03-11</td>\n",
       "      <td>6360.379883</td>\n",
       "      <td>7065.200195</td>\n",
       "      <td>6194.930176</td>\n",
       "      <td>6930.689941</td>\n",
       "      <td>6930.689941</td>\n",
       "      <td>5402358</td>\n",
       "    </tr>\n",
       "    <tr>\n",
       "      <th>2379</th>\n",
       "      <td>2018-03-12</td>\n",
       "      <td>6930.689941</td>\n",
       "      <td>7178.500000</td>\n",
       "      <td>6370.870117</td>\n",
       "      <td>6595.370117</td>\n",
       "      <td>6595.370117</td>\n",
       "      <td>7588986</td>\n",
       "    </tr>\n",
       "    <tr>\n",
       "      <th>2380</th>\n",
       "      <td>2018-03-13</td>\n",
       "      <td>6594.600098</td>\n",
       "      <td>6815.180176</td>\n",
       "      <td>6398.020020</td>\n",
       "      <td>6603.700195</td>\n",
       "      <td>6603.700195</td>\n",
       "      <td>7061280</td>\n",
       "    </tr>\n",
       "    <tr>\n",
       "      <th>2381</th>\n",
       "      <td>2018-03-14</td>\n",
       "      <td>6605.890137</td>\n",
       "      <td>6744.250000</td>\n",
       "      <td>5380.189941</td>\n",
       "      <td>5920.549805</td>\n",
       "      <td>5920.549805</td>\n",
       "      <td>10549544</td>\n",
       "    </tr>\n",
       "    <tr>\n",
       "      <th>2382</th>\n",
       "      <td>2018-03-15</td>\n",
       "      <td>5920.549805</td>\n",
       "      <td>6065.549805</td>\n",
       "      <td>5547.439941</td>\n",
       "      <td>5955.470215</td>\n",
       "      <td>5955.470215</td>\n",
       "      <td>9480642</td>\n",
       "    </tr>\n",
       "    <tr>\n",
       "      <th>2383</th>\n",
       "      <td>2018-03-16</td>\n",
       "      <td>5955.009766</td>\n",
       "      <td>6220.310059</td>\n",
       "      <td>5719.129883</td>\n",
       "      <td>6017.270020</td>\n",
       "      <td>6017.270020</td>\n",
       "      <td>5937362</td>\n",
       "    </tr>\n",
       "    <tr>\n",
       "      <th>2384</th>\n",
       "      <td>2018-03-17</td>\n",
       "      <td>6017.270020</td>\n",
       "      <td>6073.259766</td>\n",
       "      <td>5523.720215</td>\n",
       "      <td>5715.779785</td>\n",
       "      <td>5715.779785</td>\n",
       "      <td>6165841</td>\n",
       "    </tr>\n",
       "    <tr>\n",
       "      <th>2385</th>\n",
       "      <td>2018-03-18</td>\n",
       "      <td>5715.779785</td>\n",
       "      <td>5938.100098</td>\n",
       "      <td>5224.970215</td>\n",
       "      <td>5911.439941</td>\n",
       "      <td>5911.439941</td>\n",
       "      <td>10658450</td>\n",
       "    </tr>\n",
       "    <tr>\n",
       "      <th>2386</th>\n",
       "      <td>2018-03-19</td>\n",
       "      <td>5911.350098</td>\n",
       "      <td>6177.660156</td>\n",
       "      <td>5805.819824</td>\n",
       "      <td>6116.589844</td>\n",
       "      <td>6116.589844</td>\n",
       "      <td>8172788</td>\n",
       "    </tr>\n",
       "    <tr>\n",
       "      <th>2387</th>\n",
       "      <td>2018-03-20</td>\n",
       "      <td>6116.589844</td>\n",
       "      <td>6185.200195</td>\n",
       "      <td>5932.419922</td>\n",
       "      <td>6116.759766</td>\n",
       "      <td>6116.759766</td>\n",
       "      <td>2310430</td>\n",
       "    </tr>\n",
       "  </tbody>\n",
       "</table>\n",
       "<p>2388 rows × 7 columns</p>\n",
       "</div>"
      ],
      "text/plain": [
       "            Date         Open         High          Low        Close  \\\n",
       "0     2011-09-05     4.440000     4.440000     4.060000     4.250000   \n",
       "1     2011-09-06     4.250000     4.510000     4.260000     4.260000   \n",
       "2     2011-09-07     4.260000     4.430000     4.210000     4.210000   \n",
       "3     2011-09-08     4.210000     3.890000     3.000000     3.160000   \n",
       "4     2011-09-09     3.160000     3.300000     3.000000     3.000000   \n",
       "5     2011-09-10     3.000000     4.000000     2.950000     3.000000   \n",
       "6     2011-09-11     3.000000     3.990000     2.970000     2.970000   \n",
       "7     2011-09-12     2.970000     3.850000     3.620000     3.690000   \n",
       "8     2011-09-13     3.690000     3.600000     3.500000     3.500000   \n",
       "9     2011-09-14     3.500000     3.210000     2.950000     3.210000   \n",
       "10    2011-09-15     3.210000     3.180000     3.040000     3.040000   \n",
       "11    2011-09-16     3.040000     3.190000     3.040000     3.040000   \n",
       "12    2011-09-17     3.040000     3.290000     3.290000     3.290000   \n",
       "13    2011-09-18     3.290000     3.570000     3.200000     3.570000   \n",
       "14    2011-09-19     3.570000     3.850000     3.720000     3.850000   \n",
       "15    2011-09-20     3.850000     3.870000     3.280000     3.620000   \n",
       "16    2011-09-21     3.620000     3.700000     3.580000     3.600000   \n",
       "17    2011-09-22     3.600000     3.740000     3.460000     3.740000   \n",
       "18    2011-09-23     3.740000     3.620000     3.580000     3.620000   \n",
       "19    2011-09-24     3.620000     3.620000     3.620000     3.620000   \n",
       "20    2011-09-25     3.620000     3.400000     3.150000     3.240000   \n",
       "21    2011-09-26     3.240000     3.270000     3.230000     3.230000   \n",
       "22    2011-09-27     3.230000     3.200000     3.050000     3.150000   \n",
       "23    2011-09-28     3.150000     3.140000     3.070000     3.110000   \n",
       "24    2011-09-29     3.110000     3.350000     3.060000     3.350000   \n",
       "25    2011-09-30     3.350000     3.300000     3.300000     3.300000   \n",
       "26    2011-10-01     3.300000     3.300000     3.300000     3.300000   \n",
       "27    2011-10-02     3.300000     3.270000     3.230000     3.260000   \n",
       "28    2011-10-03     3.260000     3.310000     3.270000     3.280000   \n",
       "29    2011-10-04     3.280000     3.280000     3.270000     3.280000   \n",
       "...          ...          ...          ...          ...          ...   \n",
       "2358  2018-02-19  7524.169922  8093.049805  7479.350098  8044.759766   \n",
       "2359  2018-02-20  8046.790039  8510.049805  7988.439941  8083.680176   \n",
       "2360  2018-02-21  8083.680176  8113.990234  7359.569824  7544.459961   \n",
       "2361  2018-02-22  7536.819824  7927.609863  7034.459961  7067.890137   \n",
       "2362  2018-02-23  7067.890137  7463.490234  6881.890137  7287.620117   \n",
       "2363  2018-02-24  7287.620117  7495.459961  6779.540039  6988.009766   \n",
       "2364  2018-02-25  6987.830078  7086.890137  6744.959961  6915.089844   \n",
       "2365  2018-02-26  6915.009766  7466.879883  6768.660156  7368.629883   \n",
       "2366  2018-02-27  7368.629883  7803.459961  7273.259766  7628.270020   \n",
       "2367  2018-02-28  7628.270020  7935.350098  7486.890137  7532.189941   \n",
       "2368  2018-03-01  7532.189941  8015.279785  7461.629883  7939.640137   \n",
       "2369  2018-03-02  7939.640137  8122.259766  7860.600098  7987.040039   \n",
       "2370  2018-03-03  7987.040039  8387.009766  7986.770020  8298.469727   \n",
       "2371  2018-03-04  8298.469727  8360.799805  8049.160156  8353.980469   \n",
       "2372  2018-03-05  8353.980469  8460.690430  8284.519531  8330.690430   \n",
       "2373  2018-03-06  8330.089844  8330.089844  7640.700195  7753.879883   \n",
       "2374  2018-03-07  7753.879883  7876.069824  6862.290039  7214.490234   \n",
       "2375  2018-03-08  7214.490234  7350.169922  6619.729980  6740.560059   \n",
       "2376  2018-03-09  6740.560059  6810.810059  6111.959961  6739.060059   \n",
       "2377  2018-03-10  6739.060059  6930.890137  6337.459961  6360.379883   \n",
       "2378  2018-03-11  6360.379883  7065.200195  6194.930176  6930.689941   \n",
       "2379  2018-03-12  6930.689941  7178.500000  6370.870117  6595.370117   \n",
       "2380  2018-03-13  6594.600098  6815.180176  6398.020020  6603.700195   \n",
       "2381  2018-03-14  6605.890137  6744.250000  5380.189941  5920.549805   \n",
       "2382  2018-03-15  5920.549805  6065.549805  5547.439941  5955.470215   \n",
       "2383  2018-03-16  5955.009766  6220.310059  5719.129883  6017.270020   \n",
       "2384  2018-03-17  6017.270020  6073.259766  5523.720215  5715.779785   \n",
       "2385  2018-03-18  5715.779785  5938.100098  5224.970215  5911.439941   \n",
       "2386  2018-03-19  5911.350098  6177.660156  5805.819824  6116.589844   \n",
       "2387  2018-03-20  6116.589844  6185.200195  5932.419922  6116.759766   \n",
       "\n",
       "        Adj Close    Volume  \n",
       "0        4.250000       839  \n",
       "1        4.260000       127  \n",
       "2        4.210000        50  \n",
       "3        3.160000       626  \n",
       "4        3.000000        72  \n",
       "5        3.000000       233  \n",
       "6        2.970000        88  \n",
       "7        3.690000      1017  \n",
       "8        3.500000        28  \n",
       "9        3.210000       172  \n",
       "10       3.040000       464  \n",
       "11       3.040000       233  \n",
       "12       3.290000         6  \n",
       "13       3.570000         7  \n",
       "14       3.850000        31  \n",
       "15       3.620000      2893  \n",
       "16       3.600000       628  \n",
       "17       3.740000       417  \n",
       "18       3.620000        10  \n",
       "19       3.620000         0  \n",
       "20       3.240000       113  \n",
       "21       3.230000       524  \n",
       "22       3.150000      1316  \n",
       "23       3.110000      1001  \n",
       "24       3.350000       189  \n",
       "25       3.300000         1  \n",
       "26       3.300000         0  \n",
       "27       3.260000        77  \n",
       "28       3.280000      2393  \n",
       "29       3.280000        53  \n",
       "...           ...       ...  \n",
       "2358  8044.759766   9892277  \n",
       "2359  8083.680176  13822017  \n",
       "2360  7544.459961  15530011  \n",
       "2361  7067.890137  12061927  \n",
       "2362  7287.620117  10208262  \n",
       "2363  6988.009766   6440407  \n",
       "2364  6915.089844   4460097  \n",
       "2365  7368.629883   7814616  \n",
       "2366  7628.270020   6562764  \n",
       "2367  7532.189941   7743166  \n",
       "2368  7939.640137   7405333  \n",
       "2369  7987.040039   4931479  \n",
       "2370  8298.469727   4433092  \n",
       "2371  8353.980469   3337587  \n",
       "2372  8330.690430   5140175  \n",
       "2373  7753.879883   8367044  \n",
       "2374  7214.490234   9869668  \n",
       "2375  6740.560059   9127864  \n",
       "2376  6739.060059  12142982  \n",
       "2377  6360.379883   4641304  \n",
       "2378  6930.689941   5402358  \n",
       "2379  6595.370117   7588986  \n",
       "2380  6603.700195   7061280  \n",
       "2381  5920.549805  10549544  \n",
       "2382  5955.470215   9480642  \n",
       "2383  6017.270020   5937362  \n",
       "2384  5715.779785   6165841  \n",
       "2385  5911.439941  10658450  \n",
       "2386  6116.589844   8172788  \n",
       "2387  6116.759766   2310430  \n",
       "\n",
       "[2388 rows x 7 columns]"
      ]
     },
     "execution_count": 24,
     "metadata": {},
     "output_type": "execute_result"
    }
   ],
   "source": [
    "data"
   ]
  },
  {
   "cell_type": "code",
   "execution_count": 25,
   "metadata": {
    "collapsed": false
   },
   "outputs": [],
   "source": [
    "last_year_adj_close = list(data['Adj Close'][-365-60:])"
   ]
  },
  {
   "cell_type": "markdown",
   "metadata": {},
   "source": [
    "Assuming the share price is log-normal distributed, calculate the drift:"
   ]
  },
  {
   "cell_type": "markdown",
   "metadata": {},
   "source": [
    "### Drift $\\mu$\n",
    "\n",
    "* Need to set a value for n"
   ]
  },
  {
   "cell_type": "markdown",
   "metadata": {},
   "source": [
    "$\\mu_{i} = \\ln{\\frac{S_{i}}{S_{i-1}}}$ \n",
    "\n",
    "$\\mu = \\frac{<\\mu_{i}>}{\\Delta t} + \\frac{\\sigma^{2}}{2}$"
   ]
  },
  {
   "cell_type": "code",
   "execution_count": 26,
   "metadata": {
    "collapsed": false
   },
   "outputs": [
    {
     "data": {
      "text/plain": [
       "(2388,)"
      ]
     },
     "execution_count": 26,
     "metadata": {},
     "output_type": "execute_result"
    }
   ],
   "source": [
    "data['Adj Close'].shape"
   ]
  },
  {
   "cell_type": "code",
   "execution_count": 27,
   "metadata": {
    "collapsed": false
   },
   "outputs": [],
   "source": [
    "from datetime import date"
   ]
  },
  {
   "cell_type": "markdown",
   "metadata": {},
   "source": [
    "Plot the share prices chosen at each of the intervals"
   ]
  },
  {
   "cell_type": "code",
   "execution_count": 28,
   "metadata": {
    "collapsed": false
   },
   "outputs": [
    {
     "name": "stdout",
     "output_type": "stream",
     "text": [
      "6116.759766 729.080017\n",
      "843.159973 6116.759766\n",
      "1517.439941 843.159973\n",
      "1789.939941 1517.439941\n",
      "2826.540039 1789.939941\n",
      "5550.189941 2826.540039\n",
      "10103.530273 5550.189941\n"
     ]
    },
    {
     "data": {
      "image/png": "[encoded data removed]",
      "text/plain": [
       "<matplotlib.figure.Figure at 0x1e540714cc0>"
      ]
     },
     "metadata": {},
     "output_type": "display_data"
    }
   ],
   "source": [
    "# plt.plot(data['Adj Close'][-365-60:])\n",
    "\n",
    "t = 0  # Corresponds to day -60.\n",
    "dt = 60\n",
    "mu_list = []\n",
    "t_list = []\n",
    "previous_S_i = last_year_adj_close[0]\n",
    "for i in range(int(365/60)+1):\n",
    "    t = i*dt # Update time\n",
    "    t_list.append(t+1)\n",
    "#     print(t)\n",
    "    S_i = last_year_adj_close[t-1]  # Current share price in time\n",
    "    plt.scatter(range(len(data['Adj Close'][len(data['Adj Close'])-1-365-60+t:])), data['Adj Close'][len(data['Adj Close'])-1-365-60+t:], label='$S_{i}$')\n",
    "    plt.legend()\n",
    "    print(S_i, previous_S_i)\n",
    "    mu_i = np.log(S_i / (previous_S_i))  # drift at each 60 day interval\n",
    "    mu_list.append(mu_i)\n",
    "    previous_S_i = S_i\n",
    "plt.show()"
   ]
  },
  {
   "cell_type": "code",
   "execution_count": 29,
   "metadata": {
    "collapsed": false
   },
   "outputs": [
    {
     "data": {
      "image/png": "[encoded data removed]",
      "text/plain": [
       "<matplotlib.figure.Figure at 0x1e540764fd0>"
      ]
     },
     "metadata": {},
     "output_type": "display_data"
    }
   ],
   "source": [
    "plt.plot(range(len(last_year_adj_close)), last_year_adj_close)\n",
    "# plt.scatter()\n",
    "plt.show()"
   ]
  },
  {
   "cell_type": "code",
   "execution_count": 48,
   "metadata": {
    "collapsed": false
   },
   "outputs": [
    {
     "data": {
      "text/plain": [
       "425"
      ]
     },
     "execution_count": 48,
     "metadata": {},
     "output_type": "execute_result"
    }
   ],
   "source": [
    "len(last_year_adj_close)"
   ]
  },
  {
   "cell_type": "code",
   "execution_count": 31,
   "metadata": {
    "collapsed": false
   },
   "outputs": [
    {
     "data": {
      "text/plain": [
       "729.080017"
      ]
     },
     "execution_count": 31,
     "metadata": {},
     "output_type": "execute_result"
    }
   ],
   "source": [
    "last_year_adj_close[0]"
   ]
  },
  {
   "cell_type": "markdown",
   "metadata": {},
   "source": [
    "## Plot the drift using a 60 day rolling average.\n",
    "\n",
    "i.e. Plot the drift at each day, taking an average of the 60 days before that day."
   ]
  },
  {
   "cell_type": "code",
   "execution_count": 32,
   "metadata": {
    "collapsed": false
   },
   "outputs": [
    {
     "name": "stdout",
     "output_type": "stream",
     "text": [
      "6116.759766 729.080017\n",
      "843.159973 6116.759766\n",
      "1517.439941 843.159973\n",
      "1789.939941 1517.439941\n",
      "2826.540039 1789.939941\n",
      "5550.189941 2826.540039\n",
      "10103.530273 5550.189941\n"
     ]
    }
   ],
   "source": [
    "t = 0  # Corresponds to day -60.\n",
    "dt = 60\n",
    "mu_list = []\n",
    "t_list = []\n",
    "previous_S_i = last_year_adj_close[0]\n",
    "for i in range(int(365/60)+1):\n",
    "    t = i*dt # Update time\n",
    "    t_list.append(t+1)\n",
    "#     print(t)\n",
    "#     S_i = last_year_adj_close[t-1]  # Current share price in time\n",
    "    print(S_i, previous_S_i)\n",
    "    mu_i = np.log(S_i / (previous_S_i))  # drift at each 60 day interval\n",
    "    mu_list.append(mu_i)\n",
    "    previous_S_i = S_i"
   ]
  },
  {
   "cell_type": "code",
   "execution_count": 53,
   "metadata": {
    "collapsed": false
   },
   "outputs": [
    {
     "data": {
      "text/plain": [
       "425"
      ]
     },
     "execution_count": 53,
     "metadata": {},
     "output_type": "execute_result"
    }
   ],
   "source": [
    "S_i_list = last_year_adj_close\n",
    "len(S_i_list)"
   ]
  },
  {
   "cell_type": "code",
   "execution_count": 54,
   "metadata": {
    "collapsed": false
   },
   "outputs": [
    {
     "data": {
      "text/plain": [
       "365"
      ]
     },
     "execution_count": 54,
     "metadata": {},
     "output_type": "execute_result"
    }
   ],
   "source": [
    "425-60"
   ]
  },
  {
   "cell_type": "code",
   "execution_count": 80,
   "metadata": {
    "collapsed": false
   },
   "outputs": [],
   "source": [
    "t = 0\n",
    "dt = 60\n",
    "mu_i_list = []\n",
    "t_list = []\n",
    "drift_list = []\n",
    "\n",
    "# Calculate drift for each day for a year\n",
    "for i in range(1, len(S_i_list)):\n",
    "    mu_i = np.log(S_i_list[i] / S_i_list[i-1])\n",
    "    mu_i_list.append(mu_i)\n",
    "\n",
    "t0 = 0\n",
    "for i in range(365):\n",
    "    take_average_of = mu_i_list[t0:t0+60]    \n",
    "    drift_list.append(np.mean(take_average_of)) \n",
    "    t0 += 1"
   ]
  },
  {
   "cell_type": "code",
   "execution_count": 62,
   "metadata": {
    "collapsed": false
   },
   "outputs": [
    {
     "data": {
      "image/png": "[encoded data removed]",
      "text/plain": [
       "<matplotlib.figure.Figure at 0x1e53fc23e80>"
      ]
     },
     "metadata": {},
     "output_type": "display_data"
    }
   ],
   "source": [
    "plt.plot(drift_list)\n",
    "plt.title('Drift of Bitcoin Since the Past Year')\n",
    "plt.ylabel('Drift')\n",
    "plt.xlabel('Days')\n",
    "plt.show()"
   ]
  },
  {
   "cell_type": "markdown",
   "metadata": {},
   "source": [
    "## Get the standard deviation to get the volatility"
   ]
  },
  {
   "cell_type": "code",
   "execution_count": 78,
   "metadata": {
    "collapsed": false
   },
   "outputs": [
    {
     "data": {
      "text/plain": [
       "424"
      ]
     },
     "execution_count": 78,
     "metadata": {},
     "output_type": "execute_result"
    }
   ],
   "source": [
    "len(mu_i_list)"
   ]
  },
  {
   "cell_type": "code",
   "execution_count": 81,
   "metadata": {
    "collapsed": false
   },
   "outputs": [],
   "source": [
    "t0 = 0\n",
    "volatility_list = []\n",
    "while t0 < 365:\n",
    "    first_sum = 0\n",
    "    second_sum = 0\n",
    "    for i in range(t0, t0+60):\n",
    "        first_sum += mu_i_list[i] ** 2 \n",
    "        second_sum += mu_i_list[i]\n",
    "    t0 += 1\n",
    "    n = 60\n",
    "    variance = 1/(n-1) * first_sum - 1/(n*(n-1)) * second_sum ** 2\n",
    "    s = np.sqrt(variance)  # standard deviation\n",
    "#     dt = 1/365  # 1 day\n",
    "    volatility = s / np.sqrt(1/365)\n",
    "    volatility_list.append(volatility)"
   ]
  },
  {
   "cell_type": "code",
   "execution_count": 85,
   "metadata": {
    "collapsed": false
   },
   "outputs": [
    {
     "data": {
      "image/png": "[encoded data removed]",
      "text/plain": [
       "<matplotlib.figure.Figure at 0x1e53fbb1f28>"
      ]
     },
     "metadata": {},
     "output_type": "display_data"
    }
   ],
   "source": [
    "plt.plot(volatility_list)\n",
    "plt.title('Volatility of BTC-GBP for the past year, using a 60 day rolling average')\n",
    "plt.ylabel('Volatility')\n",
    "plt.xlabel('Days')\n",
    "plt.show()"
   ]
  },
  {
   "cell_type": "markdown",
   "metadata": {},
   "source": [
    "Note that they are always above 0, as you can not have a negative volatility. A volatility of zero means that the price stays constant."
   ]
  },
  {
   "cell_type": "markdown",
   "metadata": {},
   "source": [
    "# Repeat the Calculation, but using Median to calculate drift, and median absolute deviation to find volatility"
   ]
  },
  {
   "cell_type": "code",
   "execution_count": 86,
   "metadata": {
    "collapsed": true
   },
   "outputs": [],
   "source": [
    "t = 0\n",
    "dt = 60\n",
    "mu_i_list = []\n",
    "t_list = []\n",
    "drift_list = []\n",
    "\n",
    "# Calculate drift for each day for a year\n",
    "for i in range(1, len(S_i_list)):\n",
    "    mu_i = np.log(S_i_list[i] / S_i_list[i-1])\n",
    "    mu_i_list.append(mu_i)\n",
    "\n",
    "t0 = 0\n",
    "for i in range(365):\n",
    "    take_average_of = mu_i_list[t0:t0+60]    \n",
    "    drift_list.append(np.median(take_average_of)) \n",
    "    t0 += 1"
   ]
  },
  {
   "cell_type": "code",
   "execution_count": 87,
   "metadata": {
    "collapsed": false
   },
   "outputs": [
    {
     "data": {
      "image/png": "[encoded data removed]",
      "text/plain": [
       "<matplotlib.figure.Figure at 0x1e53f9b6be0>"
      ]
     },
     "metadata": {},
     "output_type": "display_data"
    }
   ],
   "source": [
    "plt.plot(drift_list)\n",
    "plt.title('Drift of Bitcoin Since the Past Year, using Median')\n",
    "plt.ylabel('Drift')\n",
    "plt.xlabel('Days')\n",
    "plt.show()"
   ]
  },
  {
   "cell_type": "markdown",
   "metadata": {},
   "source": [
    "## Median Absolute Deviation\n",
    "\n",
    "$MAD = 1.4826 Median(|x_{i} - Median(x)|) $  "
   ]
  },
  {
   "cell_type": "code",
   "execution_count": 94,
   "metadata": {
    "collapsed": false
   },
   "outputs": [
    {
     "data": {
      "text/plain": [
       "424"
      ]
     },
     "execution_count": 94,
     "metadata": {},
     "output_type": "execute_result"
    }
   ],
   "source": [
    "len(mu_i_list)"
   ]
  },
  {
   "cell_type": "code",
   "execution_count": null,
   "metadata": {
    "collapsed": true
   },
   "outputs": [],
   "source": [
    "t0 = 0\n",
    "data = mu_i_list[t0:t0+60]"
   ]
  },
  {
   "cell_type": "code",
   "execution_count": 103,
   "metadata": {
    "collapsed": false
   },
   "outputs": [],
   "source": [
    "t0 = 0\n",
    "MAD = []\n",
    "volatility = []\n",
    "while t0 < 365:\n",
    "    data = mu_i_list[t0:t0+60]\n",
    "    take_median_of = []\n",
    "    for i in range(len(data)):\n",
    "        take_median_of.append(abs(data[i] - np.median(data))) \n",
    "    t0 += 1\n",
    "    MAD = 1.4826 * np.median(take_median_of)\n",
    "    volatility.append(MAD / np.sqrt(1/365))"
   ]
  },
  {
   "cell_type": "code",
   "execution_count": 106,
   "metadata": {
    "collapsed": false
   },
   "outputs": [
    {
     "data": {
      "image/png": "[encoded data removed]",
      "text/plain": [
       "<matplotlib.figure.Figure at 0x1e53f7b5390>"
      ]
     },
     "metadata": {},
     "output_type": "display_data"
    }
   ],
   "source": [
    "plt.plot(volatility)\n",
    "plt.title('Volatility of BTC-GBP calculated using MAD for 60 day rolling average')\n",
    "plt.ylabel('Volatility')\n",
    "plt.xlabel('Days')\n",
    "plt.show()"
   ]
  },
  {
   "cell_type": "markdown",
   "metadata": {},
   "source": [
    "# (c) (i) Using LIBOR as the risk free borrowing rate calculate the value of 1 month and 6 month at-the-money call option, stating any assumptions you make. \n",
    "\n",
    "## Assumptions\n",
    "\n",
    "* No transaction fees\n",
    "* No divedends, i.e. q=0\n",
    "\n",
    "You should mention that the trading days for bitcoin in a year are 365, as it nevers stops."
   ]
  },
  {
   "cell_type": "markdown",
   "metadata": {},
   "source": [
    "k = strike price, therefore k = s0, since it is at the money"
   ]
  },
  {
   "cell_type": "markdown",
   "metadata": {},
   "source": [
    "Take volatility at last day, normalise it, by timesing it by np.sqrt(365) (trading days in a year)"
   ]
  },
  {
   "cell_type": "code",
   "execution_count": 119,
   "metadata": {
    "collapsed": true
   },
   "outputs": [],
   "source": [
    "from scipy.stats import norm"
   ]
  },
  {
   "cell_type": "code",
   "execution_count": 108,
   "metadata": {
    "collapsed": false
   },
   "outputs": [
    {
     "data": {
      "text/plain": [
       "6116.7597659999992"
      ]
     },
     "execution_count": 108,
     "metadata": {},
     "output_type": "execute_result"
    }
   ],
   "source": [
    "S0 = last_year_adj_close[-1]\n",
    "S0"
   ]
  },
  {
   "cell_type": "markdown",
   "metadata": {},
   "source": [
    "Price of at-the-money call option for __1 month__:"
   ]
  },
  {
   "cell_type": "code",
   "execution_count": 131,
   "metadata": {
    "collapsed": false
   },
   "outputs": [
    {
     "data": {
      "text/plain": [
       "929.59759719424778"
      ]
     },
     "execution_count": 131,
     "metadata": {},
     "output_type": "execute_result"
    }
   ],
   "source": [
    "S0 = last_year_adj_close[-1]\n",
    "k = S0\n",
    "sigma = volatility[-1]\n",
    "r = 0.04  # LIBOR risk free rate\n",
    "T = 1/12  # 6 months\n",
    "\n",
    "z_plus = ((r + sigma**2 / 2) * T) / (sigma * np.sqrt(T))\n",
    "z_minus = ((r - sigma**2 / 2) * T) / (sigma * np.sqrt(T))\n",
    "\n",
    "C = S0 * (norm.cdf(z_plus) - np.exp(-r * T) * norm.cdf(z_minus))\n",
    "\n",
    "C"
   ]
  },
  {
   "cell_type": "markdown",
   "metadata": {},
   "source": [
    "Price of at-the-money call option for __6 months__:"
   ]
  },
  {
   "cell_type": "code",
   "execution_count": 130,
   "metadata": {
    "collapsed": false
   },
   "outputs": [
    {
     "data": {
      "text/plain": [
       "2229.485854431221"
      ]
     },
     "execution_count": 130,
     "metadata": {},
     "output_type": "execute_result"
    }
   ],
   "source": [
    "S0 = last_year_adj_close[-1]\n",
    "k = S0\n",
    "sigma = volatility[-1]\n",
    "r = 0.04  # LIBOR risk free rate\n",
    "T = 6/12  # 6 months\n",
    "\n",
    "z_plus = ((r + sigma**2 / 2) * T) / (sigma * np.sqrt(T))\n",
    "z_minus = ((r - sigma**2 / 2) * T) / (sigma * np.sqrt(T))\n",
    "\n",
    "C = S0 * (norm.cdf(z_plus) - np.exp(-r * T) * norm.cdf(z_minus))\n",
    "\n",
    "C"
   ]
  },
  {
   "cell_type": "code",
   "execution_count": null,
   "metadata": {
    "collapsed": true
   },
   "outputs": [],
   "source": []
  },
  {
   "cell_type": "code",
   "execution_count": null,
   "metadata": {
    "collapsed": true
   },
   "outputs": [],
   "source": []
  },
  {
   "cell_type": "code",
   "execution_count": null,
   "metadata": {
    "collapsed": true
   },
   "outputs": [],
   "source": []
  },
  {
   "cell_type": "code",
   "execution_count": null,
   "metadata": {
    "collapsed": true
   },
   "outputs": [],
   "source": []
  },
  {
   "cell_type": "code",
   "execution_count": null,
   "metadata": {
    "collapsed": true
   },
   "outputs": [],
   "source": []
  },
  {
   "cell_type": "code",
   "execution_count": null,
   "metadata": {
    "collapsed": true
   },
   "outputs": [],
   "source": []
  },
  {
   "cell_type": "code",
   "execution_count": null,
   "metadata": {
    "collapsed": true
   },
   "outputs": [],
   "source": []
  },
  {
   "cell_type": "code",
   "execution_count": null,
   "metadata": {
    "collapsed": true
   },
   "outputs": [],
   "source": []
  },
  {
   "cell_type": "markdown",
   "metadata": {},
   "source": [
    "Plot the annualized drift as a dashed line on the same plot:\n",
    "\n",
    "$\\mu = \\frac{<\\mu_{i}>}{\\Delta t} + \\frac{\\sigma^{2}}{2}$\n",
    "\n",
    "To do this, we need the volatility"
   ]
  },
  {
   "cell_type": "markdown",
   "metadata": {},
   "source": [
    "### Volatility $\\sigma$\n",
    "\n",
    "$\\sigma = \\frac {s} {\\sqrt{\\Delta t}}$\n",
    "\n",
    "$s^2 = \\frac{1}{n-1} \\sum_{i=1}^{n} \\mu_{i}^{2}-\\frac{1}{n(n-1)}(\\sum_{i=1}^{n}\\mu_{i})^{2}$\n",
    "\n",
    "\"Shares typically have a volatility of 20% to 50%.\" Why is our volatility so low?\n",
    "\n",
    "First calculate standard deviation"
   ]
  },
  {
   "cell_type": "markdown",
   "metadata": {},
   "source": [
    "* I think mu_list should be larger, like 60 days long"
   ]
  },
  {
   "cell_type": "code",
   "execution_count": 43,
   "metadata": {
    "collapsed": false
   },
   "outputs": [
    {
     "data": {
      "image/png": "[encoded data removed]",
      "text/plain": [
       "<matplotlib.figure.Figure at 0x1e5401f4978>"
      ]
     },
     "metadata": {},
     "output_type": "display_data"
    },
    {
     "name": "stdout",
     "output_type": "stream",
     "text": [
      "Annual mu =  0.0185636817414\n",
      "Average mu = 0.375550955009\n",
      "Volatility =  0.156872554374\n"
     ]
    }
   ],
   "source": [
    "# plt.scatter(t_list, mu)\n",
    "plt.plot(t_list, mu_list, marker='o', label='$\\mu_{i}$', color='C0')\n",
    "plt.axhline(y=annual_mu, label='Annual $\\mu$', color='orange',linestyle='--')\n",
    "plt.axhline(y=ave_mu, label='Average $\\mu$', color='green', linestyle='-.')\n",
    "plt.title('Drift since 21.03.17 using 60 day Intervals')\n",
    "plt.ylabel('Drift $\\mu_{i}$')\n",
    "plt.xlabel('Days')\n",
    "plt.legend()\n",
    "plt.show()\n",
    "print('Annual mu = ', annual_mu)\n",
    "print('Average mu =', ave_mu)\n",
    "print('Volatility = ', volatility)"
   ]
  },
  {
   "cell_type": "markdown",
   "metadata": {},
   "source": [
    "* Include error bars on the mu_i, using standard deviation"
   ]
  }
 ],
 "metadata": {
  "kernelspec": {
   "display_name": "Python 3",
   "language": "python",
   "name": "python3"
  },
  "language_info": {
   "codemirror_mode": {
    "name": "ipython",
    "version": 3
   },
   "file_extension": ".py",
   "mimetype": "text/x-python",
   "name": "python",
   "nbconvert_exporter": "python",
   "pygments_lexer": "ipython3",
   "version": "3.6.0"
  }
 },
 "nbformat": 4,
 "nbformat_minor": 2
}
