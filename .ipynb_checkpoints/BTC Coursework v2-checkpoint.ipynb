{
 "cells": [
  {
   "cell_type": "code",
   "execution_count": 50,
   "metadata": {
    "collapsed": false
   },
   "outputs": [],
   "source": [
    "import matplotlib.pyplot as plt\n",
    "import numpy as np\n",
    "from datetime import datetime\n",
    "from scipy import stats"
   ]
  },
  {
   "cell_type": "code",
   "execution_count": 51,
   "metadata": {
    "collapsed": true
   },
   "outputs": [],
   "source": [
    "import pandas as pd"
   ]
  },
  {
   "cell_type": "code",
   "execution_count": 52,
   "metadata": {
    "collapsed": false
   },
   "outputs": [
    {
     "data": {
      "text/html": [
       "<div>\n",
       "<table border=\"1\" class=\"dataframe\">\n",
       "  <thead>\n",
       "    <tr style=\"text-align: right;\">\n",
       "      <th></th>\n",
       "      <th>Date</th>\n",
       "      <th>Open</th>\n",
       "      <th>High</th>\n",
       "      <th>Low</th>\n",
       "      <th>Close</th>\n",
       "      <th>Adj Close</th>\n",
       "      <th>Volume</th>\n",
       "    </tr>\n",
       "  </thead>\n",
       "  <tbody>\n",
       "    <tr>\n",
       "      <th>0</th>\n",
       "      <td>2011-09-05</td>\n",
       "      <td>4.440000</td>\n",
       "      <td>4.440000</td>\n",
       "      <td>4.060000</td>\n",
       "      <td>4.250000</td>\n",
       "      <td>4.250000</td>\n",
       "      <td>839</td>\n",
       "    </tr>\n",
       "    <tr>\n",
       "      <th>1</th>\n",
       "      <td>2011-09-06</td>\n",
       "      <td>4.250000</td>\n",
       "      <td>4.510000</td>\n",
       "      <td>4.260000</td>\n",
       "      <td>4.260000</td>\n",
       "      <td>4.260000</td>\n",
       "      <td>127</td>\n",
       "    </tr>\n",
       "    <tr>\n",
       "      <th>2</th>\n",
       "      <td>2011-09-07</td>\n",
       "      <td>4.260000</td>\n",
       "      <td>4.430000</td>\n",
       "      <td>4.210000</td>\n",
       "      <td>4.210000</td>\n",
       "      <td>4.210000</td>\n",
       "      <td>50</td>\n",
       "    </tr>\n",
       "    <tr>\n",
       "      <th>3</th>\n",
       "      <td>2011-09-08</td>\n",
       "      <td>4.210000</td>\n",
       "      <td>3.890000</td>\n",
       "      <td>3.000000</td>\n",
       "      <td>3.160000</td>\n",
       "      <td>3.160000</td>\n",
       "      <td>626</td>\n",
       "    </tr>\n",
       "    <tr>\n",
       "      <th>4</th>\n",
       "      <td>2011-09-09</td>\n",
       "      <td>3.160000</td>\n",
       "      <td>3.300000</td>\n",
       "      <td>3.000000</td>\n",
       "      <td>3.000000</td>\n",
       "      <td>3.000000</td>\n",
       "      <td>72</td>\n",
       "    </tr>\n",
       "    <tr>\n",
       "      <th>5</th>\n",
       "      <td>2011-09-10</td>\n",
       "      <td>3.000000</td>\n",
       "      <td>4.000000</td>\n",
       "      <td>2.950000</td>\n",
       "      <td>3.000000</td>\n",
       "      <td>3.000000</td>\n",
       "      <td>233</td>\n",
       "    </tr>\n",
       "    <tr>\n",
       "      <th>6</th>\n",
       "      <td>2011-09-11</td>\n",
       "      <td>3.000000</td>\n",
       "      <td>3.990000</td>\n",
       "      <td>2.970000</td>\n",
       "      <td>2.970000</td>\n",
       "      <td>2.970000</td>\n",
       "      <td>88</td>\n",
       "    </tr>\n",
       "    <tr>\n",
       "      <th>7</th>\n",
       "      <td>2011-09-12</td>\n",
       "      <td>2.970000</td>\n",
       "      <td>3.850000</td>\n",
       "      <td>3.620000</td>\n",
       "      <td>3.690000</td>\n",
       "      <td>3.690000</td>\n",
       "      <td>1017</td>\n",
       "    </tr>\n",
       "    <tr>\n",
       "      <th>8</th>\n",
       "      <td>2011-09-13</td>\n",
       "      <td>3.690000</td>\n",
       "      <td>3.600000</td>\n",
       "      <td>3.500000</td>\n",
       "      <td>3.500000</td>\n",
       "      <td>3.500000</td>\n",
       "      <td>28</td>\n",
       "    </tr>\n",
       "    <tr>\n",
       "      <th>9</th>\n",
       "      <td>2011-09-14</td>\n",
       "      <td>3.500000</td>\n",
       "      <td>3.210000</td>\n",
       "      <td>2.950000</td>\n",
       "      <td>3.210000</td>\n",
       "      <td>3.210000</td>\n",
       "      <td>172</td>\n",
       "    </tr>\n",
       "    <tr>\n",
       "      <th>10</th>\n",
       "      <td>2011-09-15</td>\n",
       "      <td>3.210000</td>\n",
       "      <td>3.180000</td>\n",
       "      <td>3.040000</td>\n",
       "      <td>3.040000</td>\n",
       "      <td>3.040000</td>\n",
       "      <td>464</td>\n",
       "    </tr>\n",
       "    <tr>\n",
       "      <th>11</th>\n",
       "      <td>2011-09-16</td>\n",
       "      <td>3.040000</td>\n",
       "      <td>3.190000</td>\n",
       "      <td>3.040000</td>\n",
       "      <td>3.040000</td>\n",
       "      <td>3.040000</td>\n",
       "      <td>233</td>\n",
       "    </tr>\n",
       "    <tr>\n",
       "      <th>12</th>\n",
       "      <td>2011-09-17</td>\n",
       "      <td>3.040000</td>\n",
       "      <td>3.290000</td>\n",
       "      <td>3.290000</td>\n",
       "      <td>3.290000</td>\n",
       "      <td>3.290000</td>\n",
       "      <td>6</td>\n",
       "    </tr>\n",
       "    <tr>\n",
       "      <th>13</th>\n",
       "      <td>2011-09-18</td>\n",
       "      <td>3.290000</td>\n",
       "      <td>3.570000</td>\n",
       "      <td>3.200000</td>\n",
       "      <td>3.570000</td>\n",
       "      <td>3.570000</td>\n",
       "      <td>7</td>\n",
       "    </tr>\n",
       "    <tr>\n",
       "      <th>14</th>\n",
       "      <td>2011-09-19</td>\n",
       "      <td>3.570000</td>\n",
       "      <td>3.850000</td>\n",
       "      <td>3.720000</td>\n",
       "      <td>3.850000</td>\n",
       "      <td>3.850000</td>\n",
       "      <td>31</td>\n",
       "    </tr>\n",
       "    <tr>\n",
       "      <th>15</th>\n",
       "      <td>2011-09-20</td>\n",
       "      <td>3.850000</td>\n",
       "      <td>3.870000</td>\n",
       "      <td>3.280000</td>\n",
       "      <td>3.620000</td>\n",
       "      <td>3.620000</td>\n",
       "      <td>2893</td>\n",
       "    </tr>\n",
       "    <tr>\n",
       "      <th>16</th>\n",
       "      <td>2011-09-21</td>\n",
       "      <td>3.620000</td>\n",
       "      <td>3.700000</td>\n",
       "      <td>3.580000</td>\n",
       "      <td>3.600000</td>\n",
       "      <td>3.600000</td>\n",
       "      <td>628</td>\n",
       "    </tr>\n",
       "    <tr>\n",
       "      <th>17</th>\n",
       "      <td>2011-09-22</td>\n",
       "      <td>3.600000</td>\n",
       "      <td>3.740000</td>\n",
       "      <td>3.460000</td>\n",
       "      <td>3.740000</td>\n",
       "      <td>3.740000</td>\n",
       "      <td>417</td>\n",
       "    </tr>\n",
       "    <tr>\n",
       "      <th>18</th>\n",
       "      <td>2011-09-23</td>\n",
       "      <td>3.740000</td>\n",
       "      <td>3.620000</td>\n",
       "      <td>3.580000</td>\n",
       "      <td>3.620000</td>\n",
       "      <td>3.620000</td>\n",
       "      <td>10</td>\n",
       "    </tr>\n",
       "    <tr>\n",
       "      <th>19</th>\n",
       "      <td>2011-09-24</td>\n",
       "      <td>3.620000</td>\n",
       "      <td>3.620000</td>\n",
       "      <td>3.620000</td>\n",
       "      <td>3.620000</td>\n",
       "      <td>3.620000</td>\n",
       "      <td>0</td>\n",
       "    </tr>\n",
       "    <tr>\n",
       "      <th>20</th>\n",
       "      <td>2011-09-25</td>\n",
       "      <td>3.620000</td>\n",
       "      <td>3.400000</td>\n",
       "      <td>3.150000</td>\n",
       "      <td>3.240000</td>\n",
       "      <td>3.240000</td>\n",
       "      <td>113</td>\n",
       "    </tr>\n",
       "    <tr>\n",
       "      <th>21</th>\n",
       "      <td>2011-09-26</td>\n",
       "      <td>3.240000</td>\n",
       "      <td>3.270000</td>\n",
       "      <td>3.230000</td>\n",
       "      <td>3.230000</td>\n",
       "      <td>3.230000</td>\n",
       "      <td>524</td>\n",
       "    </tr>\n",
       "    <tr>\n",
       "      <th>22</th>\n",
       "      <td>2011-09-27</td>\n",
       "      <td>3.230000</td>\n",
       "      <td>3.200000</td>\n",
       "      <td>3.050000</td>\n",
       "      <td>3.150000</td>\n",
       "      <td>3.150000</td>\n",
       "      <td>1316</td>\n",
       "    </tr>\n",
       "    <tr>\n",
       "      <th>23</th>\n",
       "      <td>2011-09-28</td>\n",
       "      <td>3.150000</td>\n",
       "      <td>3.140000</td>\n",
       "      <td>3.070000</td>\n",
       "      <td>3.110000</td>\n",
       "      <td>3.110000</td>\n",
       "      <td>1001</td>\n",
       "    </tr>\n",
       "    <tr>\n",
       "      <th>24</th>\n",
       "      <td>2011-09-29</td>\n",
       "      <td>3.110000</td>\n",
       "      <td>3.350000</td>\n",
       "      <td>3.060000</td>\n",
       "      <td>3.350000</td>\n",
       "      <td>3.350000</td>\n",
       "      <td>189</td>\n",
       "    </tr>\n",
       "    <tr>\n",
       "      <th>25</th>\n",
       "      <td>2011-09-30</td>\n",
       "      <td>3.350000</td>\n",
       "      <td>3.300000</td>\n",
       "      <td>3.300000</td>\n",
       "      <td>3.300000</td>\n",
       "      <td>3.300000</td>\n",
       "      <td>1</td>\n",
       "    </tr>\n",
       "    <tr>\n",
       "      <th>26</th>\n",
       "      <td>2011-10-01</td>\n",
       "      <td>3.300000</td>\n",
       "      <td>3.300000</td>\n",
       "      <td>3.300000</td>\n",
       "      <td>3.300000</td>\n",
       "      <td>3.300000</td>\n",
       "      <td>0</td>\n",
       "    </tr>\n",
       "    <tr>\n",
       "      <th>27</th>\n",
       "      <td>2011-10-02</td>\n",
       "      <td>3.300000</td>\n",
       "      <td>3.270000</td>\n",
       "      <td>3.230000</td>\n",
       "      <td>3.260000</td>\n",
       "      <td>3.260000</td>\n",
       "      <td>77</td>\n",
       "    </tr>\n",
       "    <tr>\n",
       "      <th>28</th>\n",
       "      <td>2011-10-03</td>\n",
       "      <td>3.260000</td>\n",
       "      <td>3.310000</td>\n",
       "      <td>3.270000</td>\n",
       "      <td>3.280000</td>\n",
       "      <td>3.280000</td>\n",
       "      <td>2393</td>\n",
       "    </tr>\n",
       "    <tr>\n",
       "      <th>29</th>\n",
       "      <td>2011-10-04</td>\n",
       "      <td>3.280000</td>\n",
       "      <td>3.280000</td>\n",
       "      <td>3.270000</td>\n",
       "      <td>3.280000</td>\n",
       "      <td>3.280000</td>\n",
       "      <td>53</td>\n",
       "    </tr>\n",
       "    <tr>\n",
       "      <th>...</th>\n",
       "      <td>...</td>\n",
       "      <td>...</td>\n",
       "      <td>...</td>\n",
       "      <td>...</td>\n",
       "      <td>...</td>\n",
       "      <td>...</td>\n",
       "      <td>...</td>\n",
       "    </tr>\n",
       "    <tr>\n",
       "      <th>2358</th>\n",
       "      <td>2018-02-19</td>\n",
       "      <td>7524.169922</td>\n",
       "      <td>8093.049805</td>\n",
       "      <td>7479.350098</td>\n",
       "      <td>8044.759766</td>\n",
       "      <td>8044.759766</td>\n",
       "      <td>9892277</td>\n",
       "    </tr>\n",
       "    <tr>\n",
       "      <th>2359</th>\n",
       "      <td>2018-02-20</td>\n",
       "      <td>8046.790039</td>\n",
       "      <td>8510.049805</td>\n",
       "      <td>7988.439941</td>\n",
       "      <td>8083.680176</td>\n",
       "      <td>8083.680176</td>\n",
       "      <td>13822017</td>\n",
       "    </tr>\n",
       "    <tr>\n",
       "      <th>2360</th>\n",
       "      <td>2018-02-21</td>\n",
       "      <td>8083.680176</td>\n",
       "      <td>8113.990234</td>\n",
       "      <td>7359.569824</td>\n",
       "      <td>7544.459961</td>\n",
       "      <td>7544.459961</td>\n",
       "      <td>15530011</td>\n",
       "    </tr>\n",
       "    <tr>\n",
       "      <th>2361</th>\n",
       "      <td>2018-02-22</td>\n",
       "      <td>7536.819824</td>\n",
       "      <td>7927.609863</td>\n",
       "      <td>7034.459961</td>\n",
       "      <td>7067.890137</td>\n",
       "      <td>7067.890137</td>\n",
       "      <td>12061927</td>\n",
       "    </tr>\n",
       "    <tr>\n",
       "      <th>2362</th>\n",
       "      <td>2018-02-23</td>\n",
       "      <td>7067.890137</td>\n",
       "      <td>7463.490234</td>\n",
       "      <td>6881.890137</td>\n",
       "      <td>7287.620117</td>\n",
       "      <td>7287.620117</td>\n",
       "      <td>10208262</td>\n",
       "    </tr>\n",
       "    <tr>\n",
       "      <th>2363</th>\n",
       "      <td>2018-02-24</td>\n",
       "      <td>7287.620117</td>\n",
       "      <td>7495.459961</td>\n",
       "      <td>6779.540039</td>\n",
       "      <td>6988.009766</td>\n",
       "      <td>6988.009766</td>\n",
       "      <td>6440407</td>\n",
       "    </tr>\n",
       "    <tr>\n",
       "      <th>2364</th>\n",
       "      <td>2018-02-25</td>\n",
       "      <td>6987.830078</td>\n",
       "      <td>7086.890137</td>\n",
       "      <td>6744.959961</td>\n",
       "      <td>6915.089844</td>\n",
       "      <td>6915.089844</td>\n",
       "      <td>4460097</td>\n",
       "    </tr>\n",
       "    <tr>\n",
       "      <th>2365</th>\n",
       "      <td>2018-02-26</td>\n",
       "      <td>6915.009766</td>\n",
       "      <td>7466.879883</td>\n",
       "      <td>6768.660156</td>\n",
       "      <td>7368.629883</td>\n",
       "      <td>7368.629883</td>\n",
       "      <td>7814616</td>\n",
       "    </tr>\n",
       "    <tr>\n",
       "      <th>2366</th>\n",
       "      <td>2018-02-27</td>\n",
       "      <td>7368.629883</td>\n",
       "      <td>7803.459961</td>\n",
       "      <td>7273.259766</td>\n",
       "      <td>7628.270020</td>\n",
       "      <td>7628.270020</td>\n",
       "      <td>6562764</td>\n",
       "    </tr>\n",
       "    <tr>\n",
       "      <th>2367</th>\n",
       "      <td>2018-02-28</td>\n",
       "      <td>7628.270020</td>\n",
       "      <td>7935.350098</td>\n",
       "      <td>7486.890137</td>\n",
       "      <td>7532.189941</td>\n",
       "      <td>7532.189941</td>\n",
       "      <td>7743166</td>\n",
       "    </tr>\n",
       "    <tr>\n",
       "      <th>2368</th>\n",
       "      <td>2018-03-01</td>\n",
       "      <td>7532.189941</td>\n",
       "      <td>8015.279785</td>\n",
       "      <td>7461.629883</td>\n",
       "      <td>7939.640137</td>\n",
       "      <td>7939.640137</td>\n",
       "      <td>7405333</td>\n",
       "    </tr>\n",
       "    <tr>\n",
       "      <th>2369</th>\n",
       "      <td>2018-03-02</td>\n",
       "      <td>7939.640137</td>\n",
       "      <td>8122.259766</td>\n",
       "      <td>7860.600098</td>\n",
       "      <td>7987.040039</td>\n",
       "      <td>7987.040039</td>\n",
       "      <td>4931479</td>\n",
       "    </tr>\n",
       "    <tr>\n",
       "      <th>2370</th>\n",
       "      <td>2018-03-03</td>\n",
       "      <td>7987.040039</td>\n",
       "      <td>8387.009766</td>\n",
       "      <td>7986.770020</td>\n",
       "      <td>8298.469727</td>\n",
       "      <td>8298.469727</td>\n",
       "      <td>4433092</td>\n",
       "    </tr>\n",
       "    <tr>\n",
       "      <th>2371</th>\n",
       "      <td>2018-03-04</td>\n",
       "      <td>8298.469727</td>\n",
       "      <td>8360.799805</td>\n",
       "      <td>8049.160156</td>\n",
       "      <td>8353.980469</td>\n",
       "      <td>8353.980469</td>\n",
       "      <td>3337587</td>\n",
       "    </tr>\n",
       "    <tr>\n",
       "      <th>2372</th>\n",
       "      <td>2018-03-05</td>\n",
       "      <td>8353.980469</td>\n",
       "      <td>8460.690430</td>\n",
       "      <td>8284.519531</td>\n",
       "      <td>8330.690430</td>\n",
       "      <td>8330.690430</td>\n",
       "      <td>5140175</td>\n",
       "    </tr>\n",
       "    <tr>\n",
       "      <th>2373</th>\n",
       "      <td>2018-03-06</td>\n",
       "      <td>8330.089844</td>\n",
       "      <td>8330.089844</td>\n",
       "      <td>7640.700195</td>\n",
       "      <td>7753.879883</td>\n",
       "      <td>7753.879883</td>\n",
       "      <td>8367044</td>\n",
       "    </tr>\n",
       "    <tr>\n",
       "      <th>2374</th>\n",
       "      <td>2018-03-07</td>\n",
       "      <td>7753.879883</td>\n",
       "      <td>7876.069824</td>\n",
       "      <td>6862.290039</td>\n",
       "      <td>7214.490234</td>\n",
       "      <td>7214.490234</td>\n",
       "      <td>9869668</td>\n",
       "    </tr>\n",
       "    <tr>\n",
       "      <th>2375</th>\n",
       "      <td>2018-03-08</td>\n",
       "      <td>7214.490234</td>\n",
       "      <td>7350.169922</td>\n",
       "      <td>6619.729980</td>\n",
       "      <td>6740.560059</td>\n",
       "      <td>6740.560059</td>\n",
       "      <td>9127864</td>\n",
       "    </tr>\n",
       "    <tr>\n",
       "      <th>2376</th>\n",
       "      <td>2018-03-09</td>\n",
       "      <td>6740.560059</td>\n",
       "      <td>6810.810059</td>\n",
       "      <td>6111.959961</td>\n",
       "      <td>6739.060059</td>\n",
       "      <td>6739.060059</td>\n",
       "      <td>12142982</td>\n",
       "    </tr>\n",
       "    <tr>\n",
       "      <th>2377</th>\n",
       "      <td>2018-03-10</td>\n",
       "      <td>6739.060059</td>\n",
       "      <td>6930.890137</td>\n",
       "      <td>6337.459961</td>\n",
       "      <td>6360.379883</td>\n",
       "      <td>6360.379883</td>\n",
       "      <td>4641304</td>\n",
       "    </tr>\n",
       "    <tr>\n",
       "      <th>2378</th>\n",
       "      <td>2018-03-11</td>\n",
       "      <td>6360.379883</td>\n",
       "      <td>7065.200195</td>\n",
       "      <td>6194.930176</td>\n",
       "      <td>6930.689941</td>\n",
       "      <td>6930.689941</td>\n",
       "      <td>5402358</td>\n",
       "    </tr>\n",
       "    <tr>\n",
       "      <th>2379</th>\n",
       "      <td>2018-03-12</td>\n",
       "      <td>6930.689941</td>\n",
       "      <td>7178.500000</td>\n",
       "      <td>6370.870117</td>\n",
       "      <td>6595.370117</td>\n",
       "      <td>6595.370117</td>\n",
       "      <td>7588986</td>\n",
       "    </tr>\n",
       "    <tr>\n",
       "      <th>2380</th>\n",
       "      <td>2018-03-13</td>\n",
       "      <td>6594.600098</td>\n",
       "      <td>6815.180176</td>\n",
       "      <td>6398.020020</td>\n",
       "      <td>6603.700195</td>\n",
       "      <td>6603.700195</td>\n",
       "      <td>7061280</td>\n",
       "    </tr>\n",
       "    <tr>\n",
       "      <th>2381</th>\n",
       "      <td>2018-03-14</td>\n",
       "      <td>6605.890137</td>\n",
       "      <td>6744.250000</td>\n",
       "      <td>5380.189941</td>\n",
       "      <td>5920.549805</td>\n",
       "      <td>5920.549805</td>\n",
       "      <td>10549544</td>\n",
       "    </tr>\n",
       "    <tr>\n",
       "      <th>2382</th>\n",
       "      <td>2018-03-15</td>\n",
       "      <td>5920.549805</td>\n",
       "      <td>6065.549805</td>\n",
       "      <td>5547.439941</td>\n",
       "      <td>5955.470215</td>\n",
       "      <td>5955.470215</td>\n",
       "      <td>9480642</td>\n",
       "    </tr>\n",
       "    <tr>\n",
       "      <th>2383</th>\n",
       "      <td>2018-03-16</td>\n",
       "      <td>5955.009766</td>\n",
       "      <td>6220.310059</td>\n",
       "      <td>5719.129883</td>\n",
       "      <td>6017.270020</td>\n",
       "      <td>6017.270020</td>\n",
       "      <td>5937362</td>\n",
       "    </tr>\n",
       "    <tr>\n",
       "      <th>2384</th>\n",
       "      <td>2018-03-17</td>\n",
       "      <td>6017.270020</td>\n",
       "      <td>6073.259766</td>\n",
       "      <td>5523.720215</td>\n",
       "      <td>5715.779785</td>\n",
       "      <td>5715.779785</td>\n",
       "      <td>6165841</td>\n",
       "    </tr>\n",
       "    <tr>\n",
       "      <th>2385</th>\n",
       "      <td>2018-03-18</td>\n",
       "      <td>5715.779785</td>\n",
       "      <td>5938.100098</td>\n",
       "      <td>5224.970215</td>\n",
       "      <td>5911.439941</td>\n",
       "      <td>5911.439941</td>\n",
       "      <td>10658450</td>\n",
       "    </tr>\n",
       "    <tr>\n",
       "      <th>2386</th>\n",
       "      <td>2018-03-19</td>\n",
       "      <td>5911.350098</td>\n",
       "      <td>6177.660156</td>\n",
       "      <td>5805.819824</td>\n",
       "      <td>6116.589844</td>\n",
       "      <td>6116.589844</td>\n",
       "      <td>8172788</td>\n",
       "    </tr>\n",
       "    <tr>\n",
       "      <th>2387</th>\n",
       "      <td>2018-03-20</td>\n",
       "      <td>6116.589844</td>\n",
       "      <td>6185.200195</td>\n",
       "      <td>5932.419922</td>\n",
       "      <td>6116.759766</td>\n",
       "      <td>6116.759766</td>\n",
       "      <td>2310430</td>\n",
       "    </tr>\n",
       "  </tbody>\n",
       "</table>\n",
       "<p>2388 rows × 7 columns</p>\n",
       "</div>"
      ],
      "text/plain": [
       "            Date         Open         High          Low        Close  \\\n",
       "0     2011-09-05     4.440000     4.440000     4.060000     4.250000   \n",
       "1     2011-09-06     4.250000     4.510000     4.260000     4.260000   \n",
       "2     2011-09-07     4.260000     4.430000     4.210000     4.210000   \n",
       "3     2011-09-08     4.210000     3.890000     3.000000     3.160000   \n",
       "4     2011-09-09     3.160000     3.300000     3.000000     3.000000   \n",
       "5     2011-09-10     3.000000     4.000000     2.950000     3.000000   \n",
       "6     2011-09-11     3.000000     3.990000     2.970000     2.970000   \n",
       "7     2011-09-12     2.970000     3.850000     3.620000     3.690000   \n",
       "8     2011-09-13     3.690000     3.600000     3.500000     3.500000   \n",
       "9     2011-09-14     3.500000     3.210000     2.950000     3.210000   \n",
       "10    2011-09-15     3.210000     3.180000     3.040000     3.040000   \n",
       "11    2011-09-16     3.040000     3.190000     3.040000     3.040000   \n",
       "12    2011-09-17     3.040000     3.290000     3.290000     3.290000   \n",
       "13    2011-09-18     3.290000     3.570000     3.200000     3.570000   \n",
       "14    2011-09-19     3.570000     3.850000     3.720000     3.850000   \n",
       "15    2011-09-20     3.850000     3.870000     3.280000     3.620000   \n",
       "16    2011-09-21     3.620000     3.700000     3.580000     3.600000   \n",
       "17    2011-09-22     3.600000     3.740000     3.460000     3.740000   \n",
       "18    2011-09-23     3.740000     3.620000     3.580000     3.620000   \n",
       "19    2011-09-24     3.620000     3.620000     3.620000     3.620000   \n",
       "20    2011-09-25     3.620000     3.400000     3.150000     3.240000   \n",
       "21    2011-09-26     3.240000     3.270000     3.230000     3.230000   \n",
       "22    2011-09-27     3.230000     3.200000     3.050000     3.150000   \n",
       "23    2011-09-28     3.150000     3.140000     3.070000     3.110000   \n",
       "24    2011-09-29     3.110000     3.350000     3.060000     3.350000   \n",
       "25    2011-09-30     3.350000     3.300000     3.300000     3.300000   \n",
       "26    2011-10-01     3.300000     3.300000     3.300000     3.300000   \n",
       "27    2011-10-02     3.300000     3.270000     3.230000     3.260000   \n",
       "28    2011-10-03     3.260000     3.310000     3.270000     3.280000   \n",
       "29    2011-10-04     3.280000     3.280000     3.270000     3.280000   \n",
       "...          ...          ...          ...          ...          ...   \n",
       "2358  2018-02-19  7524.169922  8093.049805  7479.350098  8044.759766   \n",
       "2359  2018-02-20  8046.790039  8510.049805  7988.439941  8083.680176   \n",
       "2360  2018-02-21  8083.680176  8113.990234  7359.569824  7544.459961   \n",
       "2361  2018-02-22  7536.819824  7927.609863  7034.459961  7067.890137   \n",
       "2362  2018-02-23  7067.890137  7463.490234  6881.890137  7287.620117   \n",
       "2363  2018-02-24  7287.620117  7495.459961  6779.540039  6988.009766   \n",
       "2364  2018-02-25  6987.830078  7086.890137  6744.959961  6915.089844   \n",
       "2365  2018-02-26  6915.009766  7466.879883  6768.660156  7368.629883   \n",
       "2366  2018-02-27  7368.629883  7803.459961  7273.259766  7628.270020   \n",
       "2367  2018-02-28  7628.270020  7935.350098  7486.890137  7532.189941   \n",
       "2368  2018-03-01  7532.189941  8015.279785  7461.629883  7939.640137   \n",
       "2369  2018-03-02  7939.640137  8122.259766  7860.600098  7987.040039   \n",
       "2370  2018-03-03  7987.040039  8387.009766  7986.770020  8298.469727   \n",
       "2371  2018-03-04  8298.469727  8360.799805  8049.160156  8353.980469   \n",
       "2372  2018-03-05  8353.980469  8460.690430  8284.519531  8330.690430   \n",
       "2373  2018-03-06  8330.089844  8330.089844  7640.700195  7753.879883   \n",
       "2374  2018-03-07  7753.879883  7876.069824  6862.290039  7214.490234   \n",
       "2375  2018-03-08  7214.490234  7350.169922  6619.729980  6740.560059   \n",
       "2376  2018-03-09  6740.560059  6810.810059  6111.959961  6739.060059   \n",
       "2377  2018-03-10  6739.060059  6930.890137  6337.459961  6360.379883   \n",
       "2378  2018-03-11  6360.379883  7065.200195  6194.930176  6930.689941   \n",
       "2379  2018-03-12  6930.689941  7178.500000  6370.870117  6595.370117   \n",
       "2380  2018-03-13  6594.600098  6815.180176  6398.020020  6603.700195   \n",
       "2381  2018-03-14  6605.890137  6744.250000  5380.189941  5920.549805   \n",
       "2382  2018-03-15  5920.549805  6065.549805  5547.439941  5955.470215   \n",
       "2383  2018-03-16  5955.009766  6220.310059  5719.129883  6017.270020   \n",
       "2384  2018-03-17  6017.270020  6073.259766  5523.720215  5715.779785   \n",
       "2385  2018-03-18  5715.779785  5938.100098  5224.970215  5911.439941   \n",
       "2386  2018-03-19  5911.350098  6177.660156  5805.819824  6116.589844   \n",
       "2387  2018-03-20  6116.589844  6185.200195  5932.419922  6116.759766   \n",
       "\n",
       "        Adj Close    Volume  \n",
       "0        4.250000       839  \n",
       "1        4.260000       127  \n",
       "2        4.210000        50  \n",
       "3        3.160000       626  \n",
       "4        3.000000        72  \n",
       "5        3.000000       233  \n",
       "6        2.970000        88  \n",
       "7        3.690000      1017  \n",
       "8        3.500000        28  \n",
       "9        3.210000       172  \n",
       "10       3.040000       464  \n",
       "11       3.040000       233  \n",
       "12       3.290000         6  \n",
       "13       3.570000         7  \n",
       "14       3.850000        31  \n",
       "15       3.620000      2893  \n",
       "16       3.600000       628  \n",
       "17       3.740000       417  \n",
       "18       3.620000        10  \n",
       "19       3.620000         0  \n",
       "20       3.240000       113  \n",
       "21       3.230000       524  \n",
       "22       3.150000      1316  \n",
       "23       3.110000      1001  \n",
       "24       3.350000       189  \n",
       "25       3.300000         1  \n",
       "26       3.300000         0  \n",
       "27       3.260000        77  \n",
       "28       3.280000      2393  \n",
       "29       3.280000        53  \n",
       "...           ...       ...  \n",
       "2358  8044.759766   9892277  \n",
       "2359  8083.680176  13822017  \n",
       "2360  7544.459961  15530011  \n",
       "2361  7067.890137  12061927  \n",
       "2362  7287.620117  10208262  \n",
       "2363  6988.009766   6440407  \n",
       "2364  6915.089844   4460097  \n",
       "2365  7368.629883   7814616  \n",
       "2366  7628.270020   6562764  \n",
       "2367  7532.189941   7743166  \n",
       "2368  7939.640137   7405333  \n",
       "2369  7987.040039   4931479  \n",
       "2370  8298.469727   4433092  \n",
       "2371  8353.980469   3337587  \n",
       "2372  8330.690430   5140175  \n",
       "2373  7753.879883   8367044  \n",
       "2374  7214.490234   9869668  \n",
       "2375  6740.560059   9127864  \n",
       "2376  6739.060059  12142982  \n",
       "2377  6360.379883   4641304  \n",
       "2378  6930.689941   5402358  \n",
       "2379  6595.370117   7588986  \n",
       "2380  6603.700195   7061280  \n",
       "2381  5920.549805  10549544  \n",
       "2382  5955.470215   9480642  \n",
       "2383  6017.270020   5937362  \n",
       "2384  5715.779785   6165841  \n",
       "2385  5911.439941  10658450  \n",
       "2386  6116.589844   8172788  \n",
       "2387  6116.759766   2310430  \n",
       "\n",
       "[2388 rows x 7 columns]"
      ]
     },
     "execution_count": 52,
     "metadata": {},
     "output_type": "execute_result"
    }
   ],
   "source": [
    "data = pd.read_csv('BTC-GBP.csv')\n",
    "data"
   ]
  },
  {
   "cell_type": "markdown",
   "metadata": {},
   "source": [
    "__Use the Adjusted Closing Price__ to avoid complications from divedends and other events"
   ]
  },
  {
   "cell_type": "code",
   "execution_count": 53,
   "metadata": {
    "collapsed": false
   },
   "outputs": [],
   "source": [
    "adj_close = data['Adj Close']"
   ]
  },
  {
   "cell_type": "markdown",
   "metadata": {},
   "source": [
    "This Histogram was plotted using data from the last 6.5 years. "
   ]
  },
  {
   "cell_type": "code",
   "execution_count": 54,
   "metadata": {
    "collapsed": false
   },
   "outputs": [
    {
     "data": {
      "text/plain": [
       "6.542465753424658"
      ]
     },
     "execution_count": 54,
     "metadata": {},
     "output_type": "execute_result"
    }
   ],
   "source": [
    "len(adj_close) / 365"
   ]
  },
  {
   "cell_type": "markdown",
   "metadata": {},
   "source": [
    "## (a) (i) Plot a histogram of the daily returns over the last few years"
   ]
  },
  {
   "cell_type": "markdown",
   "metadata": {},
   "source": [
    "The formula used to calculate the daily return is as follows:\n",
    "\n",
    "__Daily Return = (Price / Price of previous day) - 1__"
   ]
  },
  {
   "cell_type": "code",
   "execution_count": 55,
   "metadata": {
    "collapsed": true
   },
   "outputs": [],
   "source": [
    "returns = []\n",
    "for day in range(len(adj_close)-1):\n",
    "    returns.append(adj_close[day+1] / adj_close[day] - 1)"
   ]
  },
  {
   "cell_type": "code",
   "execution_count": 56,
   "metadata": {
    "collapsed": false
   },
   "outputs": [],
   "source": [
    "m, s = stats.norm.fit(returns) # get mean and standard deviation "
   ]
  },
  {
   "cell_type": "code",
   "execution_count": 57,
   "metadata": {
    "collapsed": false
   },
   "outputs": [],
   "source": [
    "m, s\n",
    "m1=m\n",
    "s1=s"
   ]
  },
  {
   "cell_type": "code",
   "execution_count": 58,
   "metadata": {
    "collapsed": false
   },
   "outputs": [
    {
     "data": {
      "text/plain": [
       "[<matplotlib.lines.Line2D at 0x17f33672438>]"
      ]
     },
     "execution_count": 58,
     "metadata": {},
     "output_type": "execute_result"
    }
   ],
   "source": [
    "plt.figure(figsize=(10,8))\n",
    "plt.hist(returns, bins=len(returns), normed=True)#, normed=True)\n",
    "lnspc1 = np.linspace(-0.4, 0.4, len(returns))\n",
    "pdf_g1 = stats.norm.pdf(lnspc1, m, s) \n",
    "plt.plot(lnspc1, pdf_g1, label=\"Normal ($\\mu = 0.006$, $\\sigma = 0.101$)\") # plot it\n",
    "pdf_cauch = stats.cauchy.pdf(lnspc1, m, 0.02)  # This gamma of 0.02 was chosen totally randomly\n",
    "plt.plot(lnspc1, pdf_cauch, label=\"Cauchy ($\\mu = 0.006$, $\\gamma = 0.02$)\", linewidth=2.5) # plot it"
   ]
  },
  {
   "cell_type": "code",
   "execution_count": 59,
   "metadata": {
    "collapsed": false
   },
   "outputs": [
    {
     "data": {
      "image/png": "[encoded data removed]",
      "text/plain": [
       "<matplotlib.figure.Figure at 0x17f33668a20>"
      ]
     },
     "metadata": {},
     "output_type": "display_data"
    }
   ],
   "source": [
    "# Visualize\n",
    "plt.legend()\n",
    "plt.title('BTC-GBP')\n",
    "plt.ylabel('Density')\n",
    "plt.xlabel('Daily Return')\n",
    "plt.xlim(-0.3,0.3)\n",
    "# plt.savefig('Normalised Histogram (BTC-USD)')\n",
    "plt.show()"
   ]
  },
  {
   "cell_type": "markdown",
   "metadata": {},
   "source": [
    "For further work section, use Monte Carlo sampling from this distribution and use a random walk to find what the price of BTC would be in the future."
   ]
  },
  {
   "cell_type": "markdown",
   "metadata": {
    "collapsed": false
   },
   "source": [
    "## (iii) Present a normal quantile plot to establish the extent to which your data follows a normal distribution. "
   ]
  },
  {
   "cell_type": "code",
   "execution_count": 60,
   "metadata": {
    "collapsed": false
   },
   "outputs": [
    {
     "data": {
      "image/png": "[encoded data removed]",
      "text/plain": [
       "<matplotlib.figure.Figure at 0x17f34c04b70>"
      ]
     },
     "metadata": {},
     "output_type": "display_data"
    }
   ],
   "source": [
    "stats.probplot(returns, dist=\"norm\", plot=plt)\n",
    "plt.title('Probability Plot: Normal Distribution')\n",
    "plt.show()"
   ]
  },
  {
   "cell_type": "code",
   "execution_count": 61,
   "metadata": {
    "collapsed": false
   },
   "outputs": [
    {
     "data": {
      "image/png": "[encoded data removed]",
      "text/plain": [
       "<matplotlib.figure.Figure at 0x17f2f391748>"
      ]
     },
     "metadata": {},
     "output_type": "display_data"
    }
   ],
   "source": [
    "stats.probplot(returns, dist=stats.cauchy, plot=plt)\n",
    "# plt.xlim(-200,200)\n",
    "plt.title('Probability Plot: Cauchy')\n",
    "plt.show()"
   ]
  },
  {
   "cell_type": "markdown",
   "metadata": {},
   "source": [
    "## (iv) Repeat this analysis for 5 day and 10 day intervals and investigate any change in the probability density function."
   ]
  },
  {
   "cell_type": "markdown",
   "metadata": {},
   "source": [
    "* Consider doing subplots for all three in a single plot. Interval in columns, first row histogram pdf, second row qq plot.\n",
    "* Double check how the plots look without putting x limits"
   ]
  },
  {
   "cell_type": "markdown",
   "metadata": {},
   "source": [
    "### 5 day Interval"
   ]
  },
  {
   "cell_type": "markdown",
   "metadata": {},
   "source": [
    "__5 Day Return = (Price today / Price 5 days ago) - 1__"
   ]
  },
  {
   "cell_type": "code",
   "execution_count": 62,
   "metadata": {
    "collapsed": false
   },
   "outputs": [],
   "source": [
    "returns = []\n",
    "day = 0\n",
    "while day < len(adj_close) - 5:\n",
    "    returns.append(adj_close[day+5] / adj_close[day] - 1)\n",
    "    day += 5"
   ]
  },
  {
   "cell_type": "code",
   "execution_count": 63,
   "metadata": {
    "collapsed": false
   },
   "outputs": [],
   "source": [
    "m, s = stats.norm.fit(returns) # get mean and standard deviation \n",
    "m, s\n",
    "m5=m\n",
    "s5=s"
   ]
  },
  {
   "cell_type": "code",
   "execution_count": 64,
   "metadata": {
    "collapsed": false
   },
   "outputs": [
    {
     "data": {
      "image/png": "[encoded data removed]",
      "text/plain": [
       "<matplotlib.figure.Figure at 0x17f34c7a400>"
      ]
     },
     "metadata": {},
     "output_type": "display_data"
    }
   ],
   "source": [
    "plt.figure(figsize=(10,8))\n",
    "plt.hist(returns, bins=len(returns), normed=True)#, normed=True)\n",
    "lnspc5 = np.linspace(-0.4, 0.4, len(returns))\n",
    "pdf_g5 = stats.norm.pdf(lnspc5, m, s) \n",
    "plt.plot(lnspc5, pdf_g5, label=\"Normal ($\\mu = 0.023$, $\\sigma = 0.131$)\") # plot it\n",
    "pdf_cauch = stats.cauchy.pdf(lnspc5, m, 0.04)  # This gamma of 0.02 was chosen totally randomly\n",
    "plt.plot(lnspc5, pdf_cauch, label=\"Cauchy ($\\mu = 0.023$, $\\gamma = 0.04$)\", linewidth=2.5) # plot it\n",
    "\n",
    "# Visualize\n",
    "plt.legend()\n",
    "plt.title('BTC-GBP (5 day interval)')\n",
    "plt.ylabel('Density')\n",
    "plt.xlabel('Return (5 day interval)')\n",
    "plt.xlim(-0.3,0.3)\n",
    "# plt.savefig('Normalised Histogram (BTC-USD)')\n",
    "plt.show()"
   ]
  },
  {
   "cell_type": "code",
   "execution_count": 65,
   "metadata": {
    "collapsed": false
   },
   "outputs": [
    {
     "data": {
      "image/png": "[encoded data removed]",
      "text/plain": [
       "<matplotlib.figure.Figure at 0x17f30c5d9b0>"
      ]
     },
     "metadata": {},
     "output_type": "display_data"
    }
   ],
   "source": [
    "stats.probplot(returns, dist=\"norm\", plot=plt)\n",
    "plt.title('Probability Plot: Normal Distribution')\n",
    "plt.show()"
   ]
  },
  {
   "cell_type": "code",
   "execution_count": 66,
   "metadata": {
    "collapsed": false
   },
   "outputs": [
    {
     "data": {
      "image/png": "[encoded data removed]",
      "text/plain": [
       "<matplotlib.figure.Figure at 0x17f30c6a978>"
      ]
     },
     "metadata": {},
     "output_type": "display_data"
    }
   ],
   "source": [
    "stats.probplot(returns, dist=stats.cauchy, plot=plt)\n",
    "# plt.xlim(-200,200)\n",
    "plt.title('Probability Plot: Cauchy')\n",
    "plt.show()"
   ]
  },
  {
   "cell_type": "markdown",
   "metadata": {},
   "source": [
    "### 10 Day Interval"
   ]
  },
  {
   "cell_type": "code",
   "execution_count": 67,
   "metadata": {
    "collapsed": true
   },
   "outputs": [],
   "source": [
    "returns = []\n",
    "day = 0\n",
    "while day < len(adj_close) - 10:\n",
    "    returns.append(adj_close[day+10] / adj_close[day] - 1)\n",
    "    day += 10"
   ]
  },
  {
   "cell_type": "code",
   "execution_count": 68,
   "metadata": {
    "collapsed": false
   },
   "outputs": [],
   "source": [
    "m, s = stats.norm.fit(returns) # get mean and standard deviation \n",
    "m, s\n",
    "m10=m\n",
    "s10=s"
   ]
  },
  {
   "cell_type": "code",
   "execution_count": 69,
   "metadata": {
    "collapsed": false
   },
   "outputs": [
    {
     "data": {
      "image/png": "[encoded data removed]",
      "text/plain": [
       "<matplotlib.figure.Figure at 0x17f34a414e0>"
      ]
     },
     "metadata": {},
     "output_type": "display_data"
    }
   ],
   "source": [
    "plt.figure(figsize=(10,8))\n",
    "plt.hist(returns, bins=len(returns), normed=True)#, normed=True)\n",
    "lnspc10 = np.linspace(-0.4, 0.4, len(returns))\n",
    "pdf_g10 = stats.norm.pdf(lnspc10, m, s) \n",
    "plt.plot(lnspc10, pdf_g10, label=\"Normal ($\\mu = 0.023$, $\\sigma = 0.131$)\") # plot it\n",
    "pdf_cauch = stats.cauchy.pdf(lnspc10, m, 0.06)  # This gamma of 0.02 was chosen totally randomly\n",
    "plt.plot(lnspc10, pdf_cauch, label=\"Cauchy ($\\mu = 0.023$, $\\gamma = 0.06$)\", linewidth=2.5) # plot it\n",
    "\n",
    "# Visualize\n",
    "plt.legend()\n",
    "plt.title('BTC-GBP (10 day interval)')\n",
    "plt.ylabel('Density')\n",
    "plt.xlabel('Return (10 day interval)')\n",
    "plt.xlim(-0.3,0.3)\n",
    "# plt.savefig('Normalised Histogram (BTC-USD)')\n",
    "plt.show()"
   ]
  },
  {
   "cell_type": "code",
   "execution_count": 71,
   "metadata": {
    "collapsed": false
   },
   "outputs": [
    {
     "data": {
      "image/png": "[encoded data removed]",
      "text/plain": [
       "<matplotlib.figure.Figure at 0x17f35e437f0>"
      ]
     },
     "metadata": {},
     "output_type": "display_data"
    }
   ],
   "source": [
    "stats.probplot(returns, dist=\"norm\", plot=plt)\n",
    "plt.title('Probability Plot: Normal Distribution')\n",
    "plt.show()"
   ]
  },
  {
   "cell_type": "code",
   "execution_count": 72,
   "metadata": {
    "collapsed": false
   },
   "outputs": [
    {
     "data": {
      "image/png": "[encoded data removed]",
      "text/plain": [
       "<matplotlib.figure.Figure at 0x17f360f8978>"
      ]
     },
     "metadata": {},
     "output_type": "display_data"
    }
   ],
   "source": [
    "stats.probplot(returns, dist=stats.cauchy, plot=plt)\n",
    "# plt.xlim(-200,200)\n",
    "plt.title('Probability Plot: Cauchy')\n",
    "plt.show()"
   ]
  },
  {
   "cell_type": "markdown",
   "metadata": {},
   "source": [
    "### Compare PDFs by overlaying the probability density functions for different intervals"
   ]
  },
  {
   "cell_type": "code",
   "execution_count": 92,
   "metadata": {
    "collapsed": false
   },
   "outputs": [
    {
     "data": {
      "image/png": "[encoded data removed]",
      "text/plain": [
       "<matplotlib.figure.Figure at 0x17f381b3cc0>"
      ]
     },
     "metadata": {},
     "output_type": "display_data"
    }
   ],
   "source": [
    "plt.figure(figsize=(10,8))\n",
    "plt.plot(lnspc1, pdf_g1, label=\"1 day interval\", c='C0')\n",
    "plt.axvline(x=m1, ls='--', lw=0.8, c='C0')\n",
    "# plt.axvline(x=-s1, ls='-.', lw=0.8, c='C0')\n",
    "plt.axvline(x=s1, ls=':', lw=0.8, c='C0')\n",
    "plt.plot(lnspc5, pdf_g5, label=\"5 day interval\", c='C1')\n",
    "plt.axvline(x=m5, ls='--', lw=0.8, c='C1')\n",
    "# plt.axvline(x=-s5, ls='-.', lw=0.8, c='C1')\n",
    "plt.axvline(x=s5, ls=':', lw=0.8, c='C1')\n",
    "plt.plot(lnspc10, pdf_g10, label=\"10 day interval\", c='C2')\n",
    "plt.axvline(x=m10, ls='--', lw=0.8, c='C2')\n",
    "# plt.axvline(x=-s10, ls='-.', lw=0.8, c='C2')\n",
    "plt.axvline(x=s10, ls=':', lw=0.8, c='C2')\n",
    "plt.legend()\n",
    "plt.xlabel('Return')\n",
    "plt.ylabel('Density')\n",
    "plt.show()"
   ]
  },
  {
   "cell_type": "markdown",
   "metadata": {},
   "source": [
    "It can be observed that for this dataset, as the width of the time interval for returns increases: the mean of the PDF increases, the peak density decreases, and the standard deviation increases. \n",
    "\n",
    "Therefore we can see that using a higher timeframe interval, "
   ]
  },
  {
   "cell_type": "markdown",
   "metadata": {},
   "source": [
    "## (b) (i) Calculate the annual drift and volatility of the share price using a 60 day rolling average over the last year, plotting your results on a graph as a function of time. "
   ]
  },
  {
   "cell_type": "code",
   "execution_count": 73,
   "metadata": {
    "collapsed": false
   },
   "outputs": [
    {
     "data": {
      "text/html": [
       "<div>\n",
       "<table border=\"1\" class=\"dataframe\">\n",
       "  <thead>\n",
       "    <tr style=\"text-align: right;\">\n",
       "      <th></th>\n",
       "      <th>Date</th>\n",
       "      <th>Open</th>\n",
       "      <th>High</th>\n",
       "      <th>Low</th>\n",
       "      <th>Close</th>\n",
       "      <th>Adj Close</th>\n",
       "      <th>Volume</th>\n",
       "    </tr>\n",
       "  </thead>\n",
       "  <tbody>\n",
       "    <tr>\n",
       "      <th>0</th>\n",
       "      <td>2011-09-05</td>\n",
       "      <td>4.440000</td>\n",
       "      <td>4.440000</td>\n",
       "      <td>4.060000</td>\n",
       "      <td>4.250000</td>\n",
       "      <td>4.250000</td>\n",
       "      <td>839</td>\n",
       "    </tr>\n",
       "    <tr>\n",
       "      <th>1</th>\n",
       "      <td>2011-09-06</td>\n",
       "      <td>4.250000</td>\n",
       "      <td>4.510000</td>\n",
       "      <td>4.260000</td>\n",
       "      <td>4.260000</td>\n",
       "      <td>4.260000</td>\n",
       "      <td>127</td>\n",
       "    </tr>\n",
       "    <tr>\n",
       "      <th>2</th>\n",
       "      <td>2011-09-07</td>\n",
       "      <td>4.260000</td>\n",
       "      <td>4.430000</td>\n",
       "      <td>4.210000</td>\n",
       "      <td>4.210000</td>\n",
       "      <td>4.210000</td>\n",
       "      <td>50</td>\n",
       "    </tr>\n",
       "    <tr>\n",
       "      <th>3</th>\n",
       "      <td>2011-09-08</td>\n",
       "      <td>4.210000</td>\n",
       "      <td>3.890000</td>\n",
       "      <td>3.000000</td>\n",
       "      <td>3.160000</td>\n",
       "      <td>3.160000</td>\n",
       "      <td>626</td>\n",
       "    </tr>\n",
       "    <tr>\n",
       "      <th>4</th>\n",
       "      <td>2011-09-09</td>\n",
       "      <td>3.160000</td>\n",
       "      <td>3.300000</td>\n",
       "      <td>3.000000</td>\n",
       "      <td>3.000000</td>\n",
       "      <td>3.000000</td>\n",
       "      <td>72</td>\n",
       "    </tr>\n",
       "    <tr>\n",
       "      <th>5</th>\n",
       "      <td>2011-09-10</td>\n",
       "      <td>3.000000</td>\n",
       "      <td>4.000000</td>\n",
       "      <td>2.950000</td>\n",
       "      <td>3.000000</td>\n",
       "      <td>3.000000</td>\n",
       "      <td>233</td>\n",
       "    </tr>\n",
       "    <tr>\n",
       "      <th>6</th>\n",
       "      <td>2011-09-11</td>\n",
       "      <td>3.000000</td>\n",
       "      <td>3.990000</td>\n",
       "      <td>2.970000</td>\n",
       "      <td>2.970000</td>\n",
       "      <td>2.970000</td>\n",
       "      <td>88</td>\n",
       "    </tr>\n",
       "    <tr>\n",
       "      <th>7</th>\n",
       "      <td>2011-09-12</td>\n",
       "      <td>2.970000</td>\n",
       "      <td>3.850000</td>\n",
       "      <td>3.620000</td>\n",
       "      <td>3.690000</td>\n",
       "      <td>3.690000</td>\n",
       "      <td>1017</td>\n",
       "    </tr>\n",
       "    <tr>\n",
       "      <th>8</th>\n",
       "      <td>2011-09-13</td>\n",
       "      <td>3.690000</td>\n",
       "      <td>3.600000</td>\n",
       "      <td>3.500000</td>\n",
       "      <td>3.500000</td>\n",
       "      <td>3.500000</td>\n",
       "      <td>28</td>\n",
       "    </tr>\n",
       "    <tr>\n",
       "      <th>9</th>\n",
       "      <td>2011-09-14</td>\n",
       "      <td>3.500000</td>\n",
       "      <td>3.210000</td>\n",
       "      <td>2.950000</td>\n",
       "      <td>3.210000</td>\n",
       "      <td>3.210000</td>\n",
       "      <td>172</td>\n",
       "    </tr>\n",
       "    <tr>\n",
       "      <th>10</th>\n",
       "      <td>2011-09-15</td>\n",
       "      <td>3.210000</td>\n",
       "      <td>3.180000</td>\n",
       "      <td>3.040000</td>\n",
       "      <td>3.040000</td>\n",
       "      <td>3.040000</td>\n",
       "      <td>464</td>\n",
       "    </tr>\n",
       "    <tr>\n",
       "      <th>11</th>\n",
       "      <td>2011-09-16</td>\n",
       "      <td>3.040000</td>\n",
       "      <td>3.190000</td>\n",
       "      <td>3.040000</td>\n",
       "      <td>3.040000</td>\n",
       "      <td>3.040000</td>\n",
       "      <td>233</td>\n",
       "    </tr>\n",
       "    <tr>\n",
       "      <th>12</th>\n",
       "      <td>2011-09-17</td>\n",
       "      <td>3.040000</td>\n",
       "      <td>3.290000</td>\n",
       "      <td>3.290000</td>\n",
       "      <td>3.290000</td>\n",
       "      <td>3.290000</td>\n",
       "      <td>6</td>\n",
       "    </tr>\n",
       "    <tr>\n",
       "      <th>13</th>\n",
       "      <td>2011-09-18</td>\n",
       "      <td>3.290000</td>\n",
       "      <td>3.570000</td>\n",
       "      <td>3.200000</td>\n",
       "      <td>3.570000</td>\n",
       "      <td>3.570000</td>\n",
       "      <td>7</td>\n",
       "    </tr>\n",
       "    <tr>\n",
       "      <th>14</th>\n",
       "      <td>2011-09-19</td>\n",
       "      <td>3.570000</td>\n",
       "      <td>3.850000</td>\n",
       "      <td>3.720000</td>\n",
       "      <td>3.850000</td>\n",
       "      <td>3.850000</td>\n",
       "      <td>31</td>\n",
       "    </tr>\n",
       "    <tr>\n",
       "      <th>15</th>\n",
       "      <td>2011-09-20</td>\n",
       "      <td>3.850000</td>\n",
       "      <td>3.870000</td>\n",
       "      <td>3.280000</td>\n",
       "      <td>3.620000</td>\n",
       "      <td>3.620000</td>\n",
       "      <td>2893</td>\n",
       "    </tr>\n",
       "    <tr>\n",
       "      <th>16</th>\n",
       "      <td>2011-09-21</td>\n",
       "      <td>3.620000</td>\n",
       "      <td>3.700000</td>\n",
       "      <td>3.580000</td>\n",
       "      <td>3.600000</td>\n",
       "      <td>3.600000</td>\n",
       "      <td>628</td>\n",
       "    </tr>\n",
       "    <tr>\n",
       "      <th>17</th>\n",
       "      <td>2011-09-22</td>\n",
       "      <td>3.600000</td>\n",
       "      <td>3.740000</td>\n",
       "      <td>3.460000</td>\n",
       "      <td>3.740000</td>\n",
       "      <td>3.740000</td>\n",
       "      <td>417</td>\n",
       "    </tr>\n",
       "    <tr>\n",
       "      <th>18</th>\n",
       "      <td>2011-09-23</td>\n",
       "      <td>3.740000</td>\n",
       "      <td>3.620000</td>\n",
       "      <td>3.580000</td>\n",
       "      <td>3.620000</td>\n",
       "      <td>3.620000</td>\n",
       "      <td>10</td>\n",
       "    </tr>\n",
       "    <tr>\n",
       "      <th>19</th>\n",
       "      <td>2011-09-24</td>\n",
       "      <td>3.620000</td>\n",
       "      <td>3.620000</td>\n",
       "      <td>3.620000</td>\n",
       "      <td>3.620000</td>\n",
       "      <td>3.620000</td>\n",
       "      <td>0</td>\n",
       "    </tr>\n",
       "    <tr>\n",
       "      <th>20</th>\n",
       "      <td>2011-09-25</td>\n",
       "      <td>3.620000</td>\n",
       "      <td>3.400000</td>\n",
       "      <td>3.150000</td>\n",
       "      <td>3.240000</td>\n",
       "      <td>3.240000</td>\n",
       "      <td>113</td>\n",
       "    </tr>\n",
       "    <tr>\n",
       "      <th>21</th>\n",
       "      <td>2011-09-26</td>\n",
       "      <td>3.240000</td>\n",
       "      <td>3.270000</td>\n",
       "      <td>3.230000</td>\n",
       "      <td>3.230000</td>\n",
       "      <td>3.230000</td>\n",
       "      <td>524</td>\n",
       "    </tr>\n",
       "    <tr>\n",
       "      <th>22</th>\n",
       "      <td>2011-09-27</td>\n",
       "      <td>3.230000</td>\n",
       "      <td>3.200000</td>\n",
       "      <td>3.050000</td>\n",
       "      <td>3.150000</td>\n",
       "      <td>3.150000</td>\n",
       "      <td>1316</td>\n",
       "    </tr>\n",
       "    <tr>\n",
       "      <th>23</th>\n",
       "      <td>2011-09-28</td>\n",
       "      <td>3.150000</td>\n",
       "      <td>3.140000</td>\n",
       "      <td>3.070000</td>\n",
       "      <td>3.110000</td>\n",
       "      <td>3.110000</td>\n",
       "      <td>1001</td>\n",
       "    </tr>\n",
       "    <tr>\n",
       "      <th>24</th>\n",
       "      <td>2011-09-29</td>\n",
       "      <td>3.110000</td>\n",
       "      <td>3.350000</td>\n",
       "      <td>3.060000</td>\n",
       "      <td>3.350000</td>\n",
       "      <td>3.350000</td>\n",
       "      <td>189</td>\n",
       "    </tr>\n",
       "    <tr>\n",
       "      <th>25</th>\n",
       "      <td>2011-09-30</td>\n",
       "      <td>3.350000</td>\n",
       "      <td>3.300000</td>\n",
       "      <td>3.300000</td>\n",
       "      <td>3.300000</td>\n",
       "      <td>3.300000</td>\n",
       "      <td>1</td>\n",
       "    </tr>\n",
       "    <tr>\n",
       "      <th>26</th>\n",
       "      <td>2011-10-01</td>\n",
       "      <td>3.300000</td>\n",
       "      <td>3.300000</td>\n",
       "      <td>3.300000</td>\n",
       "      <td>3.300000</td>\n",
       "      <td>3.300000</td>\n",
       "      <td>0</td>\n",
       "    </tr>\n",
       "    <tr>\n",
       "      <th>27</th>\n",
       "      <td>2011-10-02</td>\n",
       "      <td>3.300000</td>\n",
       "      <td>3.270000</td>\n",
       "      <td>3.230000</td>\n",
       "      <td>3.260000</td>\n",
       "      <td>3.260000</td>\n",
       "      <td>77</td>\n",
       "    </tr>\n",
       "    <tr>\n",
       "      <th>28</th>\n",
       "      <td>2011-10-03</td>\n",
       "      <td>3.260000</td>\n",
       "      <td>3.310000</td>\n",
       "      <td>3.270000</td>\n",
       "      <td>3.280000</td>\n",
       "      <td>3.280000</td>\n",
       "      <td>2393</td>\n",
       "    </tr>\n",
       "    <tr>\n",
       "      <th>29</th>\n",
       "      <td>2011-10-04</td>\n",
       "      <td>3.280000</td>\n",
       "      <td>3.280000</td>\n",
       "      <td>3.270000</td>\n",
       "      <td>3.280000</td>\n",
       "      <td>3.280000</td>\n",
       "      <td>53</td>\n",
       "    </tr>\n",
       "    <tr>\n",
       "      <th>...</th>\n",
       "      <td>...</td>\n",
       "      <td>...</td>\n",
       "      <td>...</td>\n",
       "      <td>...</td>\n",
       "      <td>...</td>\n",
       "      <td>...</td>\n",
       "      <td>...</td>\n",
       "    </tr>\n",
       "    <tr>\n",
       "      <th>2358</th>\n",
       "      <td>2018-02-19</td>\n",
       "      <td>7524.169922</td>\n",
       "      <td>8093.049805</td>\n",
       "      <td>7479.350098</td>\n",
       "      <td>8044.759766</td>\n",
       "      <td>8044.759766</td>\n",
       "      <td>9892277</td>\n",
       "    </tr>\n",
       "    <tr>\n",
       "      <th>2359</th>\n",
       "      <td>2018-02-20</td>\n",
       "      <td>8046.790039</td>\n",
       "      <td>8510.049805</td>\n",
       "      <td>7988.439941</td>\n",
       "      <td>8083.680176</td>\n",
       "      <td>8083.680176</td>\n",
       "      <td>13822017</td>\n",
       "    </tr>\n",
       "    <tr>\n",
       "      <th>2360</th>\n",
       "      <td>2018-02-21</td>\n",
       "      <td>8083.680176</td>\n",
       "      <td>8113.990234</td>\n",
       "      <td>7359.569824</td>\n",
       "      <td>7544.459961</td>\n",
       "      <td>7544.459961</td>\n",
       "      <td>15530011</td>\n",
       "    </tr>\n",
       "    <tr>\n",
       "      <th>2361</th>\n",
       "      <td>2018-02-22</td>\n",
       "      <td>7536.819824</td>\n",
       "      <td>7927.609863</td>\n",
       "      <td>7034.459961</td>\n",
       "      <td>7067.890137</td>\n",
       "      <td>7067.890137</td>\n",
       "      <td>12061927</td>\n",
       "    </tr>\n",
       "    <tr>\n",
       "      <th>2362</th>\n",
       "      <td>2018-02-23</td>\n",
       "      <td>7067.890137</td>\n",
       "      <td>7463.490234</td>\n",
       "      <td>6881.890137</td>\n",
       "      <td>7287.620117</td>\n",
       "      <td>7287.620117</td>\n",
       "      <td>10208262</td>\n",
       "    </tr>\n",
       "    <tr>\n",
       "      <th>2363</th>\n",
       "      <td>2018-02-24</td>\n",
       "      <td>7287.620117</td>\n",
       "      <td>7495.459961</td>\n",
       "      <td>6779.540039</td>\n",
       "      <td>6988.009766</td>\n",
       "      <td>6988.009766</td>\n",
       "      <td>6440407</td>\n",
       "    </tr>\n",
       "    <tr>\n",
       "      <th>2364</th>\n",
       "      <td>2018-02-25</td>\n",
       "      <td>6987.830078</td>\n",
       "      <td>7086.890137</td>\n",
       "      <td>6744.959961</td>\n",
       "      <td>6915.089844</td>\n",
       "      <td>6915.089844</td>\n",
       "      <td>4460097</td>\n",
       "    </tr>\n",
       "    <tr>\n",
       "      <th>2365</th>\n",
       "      <td>2018-02-26</td>\n",
       "      <td>6915.009766</td>\n",
       "      <td>7466.879883</td>\n",
       "      <td>6768.660156</td>\n",
       "      <td>7368.629883</td>\n",
       "      <td>7368.629883</td>\n",
       "      <td>7814616</td>\n",
       "    </tr>\n",
       "    <tr>\n",
       "      <th>2366</th>\n",
       "      <td>2018-02-27</td>\n",
       "      <td>7368.629883</td>\n",
       "      <td>7803.459961</td>\n",
       "      <td>7273.259766</td>\n",
       "      <td>7628.270020</td>\n",
       "      <td>7628.270020</td>\n",
       "      <td>6562764</td>\n",
       "    </tr>\n",
       "    <tr>\n",
       "      <th>2367</th>\n",
       "      <td>2018-02-28</td>\n",
       "      <td>7628.270020</td>\n",
       "      <td>7935.350098</td>\n",
       "      <td>7486.890137</td>\n",
       "      <td>7532.189941</td>\n",
       "      <td>7532.189941</td>\n",
       "      <td>7743166</td>\n",
       "    </tr>\n",
       "    <tr>\n",
       "      <th>2368</th>\n",
       "      <td>2018-03-01</td>\n",
       "      <td>7532.189941</td>\n",
       "      <td>8015.279785</td>\n",
       "      <td>7461.629883</td>\n",
       "      <td>7939.640137</td>\n",
       "      <td>7939.640137</td>\n",
       "      <td>7405333</td>\n",
       "    </tr>\n",
       "    <tr>\n",
       "      <th>2369</th>\n",
       "      <td>2018-03-02</td>\n",
       "      <td>7939.640137</td>\n",
       "      <td>8122.259766</td>\n",
       "      <td>7860.600098</td>\n",
       "      <td>7987.040039</td>\n",
       "      <td>7987.040039</td>\n",
       "      <td>4931479</td>\n",
       "    </tr>\n",
       "    <tr>\n",
       "      <th>2370</th>\n",
       "      <td>2018-03-03</td>\n",
       "      <td>7987.040039</td>\n",
       "      <td>8387.009766</td>\n",
       "      <td>7986.770020</td>\n",
       "      <td>8298.469727</td>\n",
       "      <td>8298.469727</td>\n",
       "      <td>4433092</td>\n",
       "    </tr>\n",
       "    <tr>\n",
       "      <th>2371</th>\n",
       "      <td>2018-03-04</td>\n",
       "      <td>8298.469727</td>\n",
       "      <td>8360.799805</td>\n",
       "      <td>8049.160156</td>\n",
       "      <td>8353.980469</td>\n",
       "      <td>8353.980469</td>\n",
       "      <td>3337587</td>\n",
       "    </tr>\n",
       "    <tr>\n",
       "      <th>2372</th>\n",
       "      <td>2018-03-05</td>\n",
       "      <td>8353.980469</td>\n",
       "      <td>8460.690430</td>\n",
       "      <td>8284.519531</td>\n",
       "      <td>8330.690430</td>\n",
       "      <td>8330.690430</td>\n",
       "      <td>5140175</td>\n",
       "    </tr>\n",
       "    <tr>\n",
       "      <th>2373</th>\n",
       "      <td>2018-03-06</td>\n",
       "      <td>8330.089844</td>\n",
       "      <td>8330.089844</td>\n",
       "      <td>7640.700195</td>\n",
       "      <td>7753.879883</td>\n",
       "      <td>7753.879883</td>\n",
       "      <td>8367044</td>\n",
       "    </tr>\n",
       "    <tr>\n",
       "      <th>2374</th>\n",
       "      <td>2018-03-07</td>\n",
       "      <td>7753.879883</td>\n",
       "      <td>7876.069824</td>\n",
       "      <td>6862.290039</td>\n",
       "      <td>7214.490234</td>\n",
       "      <td>7214.490234</td>\n",
       "      <td>9869668</td>\n",
       "    </tr>\n",
       "    <tr>\n",
       "      <th>2375</th>\n",
       "      <td>2018-03-08</td>\n",
       "      <td>7214.490234</td>\n",
       "      <td>7350.169922</td>\n",
       "      <td>6619.729980</td>\n",
       "      <td>6740.560059</td>\n",
       "      <td>6740.560059</td>\n",
       "      <td>9127864</td>\n",
       "    </tr>\n",
       "    <tr>\n",
       "      <th>2376</th>\n",
       "      <td>2018-03-09</td>\n",
       "      <td>6740.560059</td>\n",
       "      <td>6810.810059</td>\n",
       "      <td>6111.959961</td>\n",
       "      <td>6739.060059</td>\n",
       "      <td>6739.060059</td>\n",
       "      <td>12142982</td>\n",
       "    </tr>\n",
       "    <tr>\n",
       "      <th>2377</th>\n",
       "      <td>2018-03-10</td>\n",
       "      <td>6739.060059</td>\n",
       "      <td>6930.890137</td>\n",
       "      <td>6337.459961</td>\n",
       "      <td>6360.379883</td>\n",
       "      <td>6360.379883</td>\n",
       "      <td>4641304</td>\n",
       "    </tr>\n",
       "    <tr>\n",
       "      <th>2378</th>\n",
       "      <td>2018-03-11</td>\n",
       "      <td>6360.379883</td>\n",
       "      <td>7065.200195</td>\n",
       "      <td>6194.930176</td>\n",
       "      <td>6930.689941</td>\n",
       "      <td>6930.689941</td>\n",
       "      <td>5402358</td>\n",
       "    </tr>\n",
       "    <tr>\n",
       "      <th>2379</th>\n",
       "      <td>2018-03-12</td>\n",
       "      <td>6930.689941</td>\n",
       "      <td>7178.500000</td>\n",
       "      <td>6370.870117</td>\n",
       "      <td>6595.370117</td>\n",
       "      <td>6595.370117</td>\n",
       "      <td>7588986</td>\n",
       "    </tr>\n",
       "    <tr>\n",
       "      <th>2380</th>\n",
       "      <td>2018-03-13</td>\n",
       "      <td>6594.600098</td>\n",
       "      <td>6815.180176</td>\n",
       "      <td>6398.020020</td>\n",
       "      <td>6603.700195</td>\n",
       "      <td>6603.700195</td>\n",
       "      <td>7061280</td>\n",
       "    </tr>\n",
       "    <tr>\n",
       "      <th>2381</th>\n",
       "      <td>2018-03-14</td>\n",
       "      <td>6605.890137</td>\n",
       "      <td>6744.250000</td>\n",
       "      <td>5380.189941</td>\n",
       "      <td>5920.549805</td>\n",
       "      <td>5920.549805</td>\n",
       "      <td>10549544</td>\n",
       "    </tr>\n",
       "    <tr>\n",
       "      <th>2382</th>\n",
       "      <td>2018-03-15</td>\n",
       "      <td>5920.549805</td>\n",
       "      <td>6065.549805</td>\n",
       "      <td>5547.439941</td>\n",
       "      <td>5955.470215</td>\n",
       "      <td>5955.470215</td>\n",
       "      <td>9480642</td>\n",
       "    </tr>\n",
       "    <tr>\n",
       "      <th>2383</th>\n",
       "      <td>2018-03-16</td>\n",
       "      <td>5955.009766</td>\n",
       "      <td>6220.310059</td>\n",
       "      <td>5719.129883</td>\n",
       "      <td>6017.270020</td>\n",
       "      <td>6017.270020</td>\n",
       "      <td>5937362</td>\n",
       "    </tr>\n",
       "    <tr>\n",
       "      <th>2384</th>\n",
       "      <td>2018-03-17</td>\n",
       "      <td>6017.270020</td>\n",
       "      <td>6073.259766</td>\n",
       "      <td>5523.720215</td>\n",
       "      <td>5715.779785</td>\n",
       "      <td>5715.779785</td>\n",
       "      <td>6165841</td>\n",
       "    </tr>\n",
       "    <tr>\n",
       "      <th>2385</th>\n",
       "      <td>2018-03-18</td>\n",
       "      <td>5715.779785</td>\n",
       "      <td>5938.100098</td>\n",
       "      <td>5224.970215</td>\n",
       "      <td>5911.439941</td>\n",
       "      <td>5911.439941</td>\n",
       "      <td>10658450</td>\n",
       "    </tr>\n",
       "    <tr>\n",
       "      <th>2386</th>\n",
       "      <td>2018-03-19</td>\n",
       "      <td>5911.350098</td>\n",
       "      <td>6177.660156</td>\n",
       "      <td>5805.819824</td>\n",
       "      <td>6116.589844</td>\n",
       "      <td>6116.589844</td>\n",
       "      <td>8172788</td>\n",
       "    </tr>\n",
       "    <tr>\n",
       "      <th>2387</th>\n",
       "      <td>2018-03-20</td>\n",
       "      <td>6116.589844</td>\n",
       "      <td>6185.200195</td>\n",
       "      <td>5932.419922</td>\n",
       "      <td>6116.759766</td>\n",
       "      <td>6116.759766</td>\n",
       "      <td>2310430</td>\n",
       "    </tr>\n",
       "  </tbody>\n",
       "</table>\n",
       "<p>2388 rows × 7 columns</p>\n",
       "</div>"
      ],
      "text/plain": [
       "            Date         Open         High          Low        Close  \\\n",
       "0     2011-09-05     4.440000     4.440000     4.060000     4.250000   \n",
       "1     2011-09-06     4.250000     4.510000     4.260000     4.260000   \n",
       "2     2011-09-07     4.260000     4.430000     4.210000     4.210000   \n",
       "3     2011-09-08     4.210000     3.890000     3.000000     3.160000   \n",
       "4     2011-09-09     3.160000     3.300000     3.000000     3.000000   \n",
       "5     2011-09-10     3.000000     4.000000     2.950000     3.000000   \n",
       "6     2011-09-11     3.000000     3.990000     2.970000     2.970000   \n",
       "7     2011-09-12     2.970000     3.850000     3.620000     3.690000   \n",
       "8     2011-09-13     3.690000     3.600000     3.500000     3.500000   \n",
       "9     2011-09-14     3.500000     3.210000     2.950000     3.210000   \n",
       "10    2011-09-15     3.210000     3.180000     3.040000     3.040000   \n",
       "11    2011-09-16     3.040000     3.190000     3.040000     3.040000   \n",
       "12    2011-09-17     3.040000     3.290000     3.290000     3.290000   \n",
       "13    2011-09-18     3.290000     3.570000     3.200000     3.570000   \n",
       "14    2011-09-19     3.570000     3.850000     3.720000     3.850000   \n",
       "15    2011-09-20     3.850000     3.870000     3.280000     3.620000   \n",
       "16    2011-09-21     3.620000     3.700000     3.580000     3.600000   \n",
       "17    2011-09-22     3.600000     3.740000     3.460000     3.740000   \n",
       "18    2011-09-23     3.740000     3.620000     3.580000     3.620000   \n",
       "19    2011-09-24     3.620000     3.620000     3.620000     3.620000   \n",
       "20    2011-09-25     3.620000     3.400000     3.150000     3.240000   \n",
       "21    2011-09-26     3.240000     3.270000     3.230000     3.230000   \n",
       "22    2011-09-27     3.230000     3.200000     3.050000     3.150000   \n",
       "23    2011-09-28     3.150000     3.140000     3.070000     3.110000   \n",
       "24    2011-09-29     3.110000     3.350000     3.060000     3.350000   \n",
       "25    2011-09-30     3.350000     3.300000     3.300000     3.300000   \n",
       "26    2011-10-01     3.300000     3.300000     3.300000     3.300000   \n",
       "27    2011-10-02     3.300000     3.270000     3.230000     3.260000   \n",
       "28    2011-10-03     3.260000     3.310000     3.270000     3.280000   \n",
       "29    2011-10-04     3.280000     3.280000     3.270000     3.280000   \n",
       "...          ...          ...          ...          ...          ...   \n",
       "2358  2018-02-19  7524.169922  8093.049805  7479.350098  8044.759766   \n",
       "2359  2018-02-20  8046.790039  8510.049805  7988.439941  8083.680176   \n",
       "2360  2018-02-21  8083.680176  8113.990234  7359.569824  7544.459961   \n",
       "2361  2018-02-22  7536.819824  7927.609863  7034.459961  7067.890137   \n",
       "2362  2018-02-23  7067.890137  7463.490234  6881.890137  7287.620117   \n",
       "2363  2018-02-24  7287.620117  7495.459961  6779.540039  6988.009766   \n",
       "2364  2018-02-25  6987.830078  7086.890137  6744.959961  6915.089844   \n",
       "2365  2018-02-26  6915.009766  7466.879883  6768.660156  7368.629883   \n",
       "2366  2018-02-27  7368.629883  7803.459961  7273.259766  7628.270020   \n",
       "2367  2018-02-28  7628.270020  7935.350098  7486.890137  7532.189941   \n",
       "2368  2018-03-01  7532.189941  8015.279785  7461.629883  7939.640137   \n",
       "2369  2018-03-02  7939.640137  8122.259766  7860.600098  7987.040039   \n",
       "2370  2018-03-03  7987.040039  8387.009766  7986.770020  8298.469727   \n",
       "2371  2018-03-04  8298.469727  8360.799805  8049.160156  8353.980469   \n",
       "2372  2018-03-05  8353.980469  8460.690430  8284.519531  8330.690430   \n",
       "2373  2018-03-06  8330.089844  8330.089844  7640.700195  7753.879883   \n",
       "2374  2018-03-07  7753.879883  7876.069824  6862.290039  7214.490234   \n",
       "2375  2018-03-08  7214.490234  7350.169922  6619.729980  6740.560059   \n",
       "2376  2018-03-09  6740.560059  6810.810059  6111.959961  6739.060059   \n",
       "2377  2018-03-10  6739.060059  6930.890137  6337.459961  6360.379883   \n",
       "2378  2018-03-11  6360.379883  7065.200195  6194.930176  6930.689941   \n",
       "2379  2018-03-12  6930.689941  7178.500000  6370.870117  6595.370117   \n",
       "2380  2018-03-13  6594.600098  6815.180176  6398.020020  6603.700195   \n",
       "2381  2018-03-14  6605.890137  6744.250000  5380.189941  5920.549805   \n",
       "2382  2018-03-15  5920.549805  6065.549805  5547.439941  5955.470215   \n",
       "2383  2018-03-16  5955.009766  6220.310059  5719.129883  6017.270020   \n",
       "2384  2018-03-17  6017.270020  6073.259766  5523.720215  5715.779785   \n",
       "2385  2018-03-18  5715.779785  5938.100098  5224.970215  5911.439941   \n",
       "2386  2018-03-19  5911.350098  6177.660156  5805.819824  6116.589844   \n",
       "2387  2018-03-20  6116.589844  6185.200195  5932.419922  6116.759766   \n",
       "\n",
       "        Adj Close    Volume  \n",
       "0        4.250000       839  \n",
       "1        4.260000       127  \n",
       "2        4.210000        50  \n",
       "3        3.160000       626  \n",
       "4        3.000000        72  \n",
       "5        3.000000       233  \n",
       "6        2.970000        88  \n",
       "7        3.690000      1017  \n",
       "8        3.500000        28  \n",
       "9        3.210000       172  \n",
       "10       3.040000       464  \n",
       "11       3.040000       233  \n",
       "12       3.290000         6  \n",
       "13       3.570000         7  \n",
       "14       3.850000        31  \n",
       "15       3.620000      2893  \n",
       "16       3.600000       628  \n",
       "17       3.740000       417  \n",
       "18       3.620000        10  \n",
       "19       3.620000         0  \n",
       "20       3.240000       113  \n",
       "21       3.230000       524  \n",
       "22       3.150000      1316  \n",
       "23       3.110000      1001  \n",
       "24       3.350000       189  \n",
       "25       3.300000         1  \n",
       "26       3.300000         0  \n",
       "27       3.260000        77  \n",
       "28       3.280000      2393  \n",
       "29       3.280000        53  \n",
       "...           ...       ...  \n",
       "2358  8044.759766   9892277  \n",
       "2359  8083.680176  13822017  \n",
       "2360  7544.459961  15530011  \n",
       "2361  7067.890137  12061927  \n",
       "2362  7287.620117  10208262  \n",
       "2363  6988.009766   6440407  \n",
       "2364  6915.089844   4460097  \n",
       "2365  7368.629883   7814616  \n",
       "2366  7628.270020   6562764  \n",
       "2367  7532.189941   7743166  \n",
       "2368  7939.640137   7405333  \n",
       "2369  7987.040039   4931479  \n",
       "2370  8298.469727   4433092  \n",
       "2371  8353.980469   3337587  \n",
       "2372  8330.690430   5140175  \n",
       "2373  7753.879883   8367044  \n",
       "2374  7214.490234   9869668  \n",
       "2375  6740.560059   9127864  \n",
       "2376  6739.060059  12142982  \n",
       "2377  6360.379883   4641304  \n",
       "2378  6930.689941   5402358  \n",
       "2379  6595.370117   7588986  \n",
       "2380  6603.700195   7061280  \n",
       "2381  5920.549805  10549544  \n",
       "2382  5955.470215   9480642  \n",
       "2383  6017.270020   5937362  \n",
       "2384  5715.779785   6165841  \n",
       "2385  5911.439941  10658450  \n",
       "2386  6116.589844   8172788  \n",
       "2387  6116.759766   2310430  \n",
       "\n",
       "[2388 rows x 7 columns]"
      ]
     },
     "execution_count": 73,
     "metadata": {},
     "output_type": "execute_result"
    }
   ],
   "source": [
    "data"
   ]
  },
  {
   "cell_type": "code",
   "execution_count": 74,
   "metadata": {
    "collapsed": false
   },
   "outputs": [],
   "source": [
    "last_year_adj_close = list(data['Adj Close'][-365-60:])"
   ]
  },
  {
   "cell_type": "markdown",
   "metadata": {},
   "source": [
    "Assuming the share price is log-normal distributed, calculate the drift:"
   ]
  },
  {
   "cell_type": "markdown",
   "metadata": {},
   "source": [
    "### Drift $\\mu$\n",
    "\n",
    "* Need to set a value for n"
   ]
  },
  {
   "cell_type": "markdown",
   "metadata": {},
   "source": [
    "$\\mu_{i} = \\ln{\\frac{S_{i}}{S_{i-1}}}$ \n",
    "\n",
    "$\\mu = \\frac{<\\mu_{i}>}{\\Delta t} + \\frac{\\sigma^{2}}{2}$"
   ]
  },
  {
   "cell_type": "code",
   "execution_count": 94,
   "metadata": {
    "collapsed": false
   },
   "outputs": [
    {
     "data": {
      "text/plain": [
       "(2388,)"
      ]
     },
     "execution_count": 94,
     "metadata": {},
     "output_type": "execute_result"
    }
   ],
   "source": [
    "data['Adj Close'].shape"
   ]
  },
  {
   "cell_type": "code",
   "execution_count": 101,
   "metadata": {
    "collapsed": false
   },
   "outputs": [],
   "source": [
    "from datetime import date"
   ]
  },
  {
   "cell_type": "code",
   "execution_count": 123,
   "metadata": {
    "collapsed": false
   },
   "outputs": [
    {
     "data": {
      "text/plain": [
       "(66,)"
      ]
     },
     "execution_count": 123,
     "metadata": {},
     "output_type": "execute_result"
    }
   ],
   "source": [
    "data['Date'][len(data['Adj Close'])-1-365-60+t:].shape"
   ]
  },
  {
   "cell_type": "markdown",
   "metadata": {},
   "source": [
    "Plot the share prices chosen at each of the intervals"
   ]
  },
  {
   "cell_type": "code",
   "execution_count": 122,
   "metadata": {
    "collapsed": false
   },
   "outputs": [
    {
     "name": "stdout",
     "output_type": "stream",
     "text": [
      "6116.759766 729.080017\n",
      "843.159973 6116.759766\n",
      "1517.439941 843.159973\n",
      "1789.939941 1517.439941\n",
      "2826.540039 1789.939941\n",
      "5550.189941 2826.540039\n",
      "10103.530273 5550.189941\n"
     ]
    },
    {
     "data": {
      "image/png": "[encoded data removed]",
      "text/plain": [
       "<matplotlib.figure.Figure at 0x17f3888c320>"
      ]
     },
     "metadata": {},
     "output_type": "display_data"
    }
   ],
   "source": [
    "# plt.plot(data['Adj Close'][-365-60:])\n",
    "\n",
    "t = 0  # Corresponds to day -60.\n",
    "dt = 60\n",
    "mu_list = []\n",
    "t_list = []\n",
    "previous_S_i = last_year_adj_close[0]\n",
    "for i in range(int(365/60)+1):\n",
    "    t = i*dt # Update time\n",
    "    t_list.append(t+1)\n",
    "#     print(t)\n",
    "    S_i = last_year_adj_close[t-1]  # Current share price in time\n",
    "    plt.scatter(range(len(data['Adj Close'][len(data['Adj Close'])-1-365-60+t:])), data['Adj Close'][len(data['Adj Close'])-1-365-60+t:], label='$S_{i}$')\n",
    "    plt.legend()\n",
    "    print(S_i, previous_S_i)\n",
    "    mu_i = np.log(S_i / (previous_S_i))  # drift at each 60 day interval\n",
    "    mu_list.append(mu_i)\n",
    "    previous_S_i = S_i\n",
    "plt.show()\n",
    "\n"
   ]
  },
  {
   "cell_type": "code",
   "execution_count": 125,
   "metadata": {
    "collapsed": false
   },
   "outputs": [
    {
     "data": {
      "image/png": "[encoded data removed]",
      "text/plain": [
       "<matplotlib.figure.Figure at 0x17f388da080>"
      ]
     },
     "metadata": {},
     "output_type": "display_data"
    }
   ],
   "source": [
    "plt.plot(range(len(last_year_adj_close)), last_year_adj_close)\n",
    "# plt.scatter()\n",
    "plt.show()"
   ]
  },
  {
   "cell_type": "code",
   "execution_count": null,
   "metadata": {
    "collapsed": false
   },
   "outputs": [],
   "source": [
    "last_year_adj_close"
   ]
  },
  {
   "cell_type": "code",
   "execution_count": null,
   "metadata": {
    "collapsed": false
   },
   "outputs": [],
   "source": [
    "last_year_adj_close[0]"
   ]
  },
  {
   "cell_type": "code",
   "execution_count": 126,
   "metadata": {
    "collapsed": false
   },
   "outputs": [
    {
     "name": "stdout",
     "output_type": "stream",
     "text": [
      "6116.759766 729.080017\n",
      "843.159973 6116.759766\n",
      "1517.439941 843.159973\n",
      "1789.939941 1517.439941\n",
      "2826.540039 1789.939941\n",
      "5550.189941 2826.540039\n",
      "10103.530273 5550.189941\n"
     ]
    }
   ],
   "source": [
    "t = 0  # Corresponds to day -60.\n",
    "dt = 60\n",
    "mu_list = []\n",
    "t_list = []\n",
    "previous_S_i = last_year_adj_close[0]\n",
    "for i in range(int(365/60)+1):\n",
    "    t = i*dt # Update time\n",
    "    t_list.append(t+1)\n",
    "#     print(t)\n",
    "    S_i = last_year_adj_close[t-1]  # Current share price in time\n",
    "    print(S_i, previous_S_i)\n",
    "    mu_i = np.log(S_i / (previous_S_i))  # drift at each 60 day interval\n",
    "    mu_list.append(mu_i)\n",
    "    previous_S_i = S_i"
   ]
  },
  {
   "cell_type": "markdown",
   "metadata": {},
   "source": [
    "These numbers don't look quite right. Double check them"
   ]
  },
  {
   "cell_type": "code",
   "execution_count": 127,
   "metadata": {
    "collapsed": false
   },
   "outputs": [
    {
     "data": {
      "text/plain": [
       "[1, 61, 121, 181, 241, 301, 361]"
      ]
     },
     "execution_count": 127,
     "metadata": {},
     "output_type": "execute_result"
    }
   ],
   "source": [
    "t_list  # Adjust this, should be 1, 61, 121, etc."
   ]
  },
  {
   "cell_type": "code",
   "execution_count": 128,
   "metadata": {
    "collapsed": false
   },
   "outputs": [
    {
     "data": {
      "image/png": "[encoded data removed]",
      "text/plain": [
       "<matplotlib.figure.Figure at 0x17f3831bcc0>"
      ]
     },
     "metadata": {},
     "output_type": "display_data"
    }
   ],
   "source": [
    "# plt.scatter(t_list, mu)\n",
    "plt.plot(t_list, mu_list, marker='o')\n",
    "plt.title('Drift since 21.03.17 using 60 day Intervals')\n",
    "plt.ylabel('Drift $\\mu_{i}$')\n",
    "plt.xlabel('Days')\n",
    "plt.show()"
   ]
  },
  {
   "cell_type": "markdown",
   "metadata": {},
   "source": [
    "Plot the annualized drift as a dashed line on the same plot:\n",
    "\n",
    "$\\mu = \\frac{<\\mu_{i}>}{\\Delta t} + \\frac{\\sigma^{2}}{2}$\n",
    "\n",
    "To do this, we need the volatility"
   ]
  },
  {
   "cell_type": "markdown",
   "metadata": {},
   "source": [
    "### Volatility $\\sigma$\n",
    "\n",
    "$\\sigma = \\frac {s} {\\sqrt{\\Delta t}}$\n",
    "\n",
    "$s^2 = \\frac{1}{n-1} \\sum_{i=1}^{n} \\mu_{i}^{2}-\\frac{1}{n(n-1)}(\\sum_{i=1}^{n}\\mu_{i})^{2}$\n",
    "\n",
    "\"Shares typically have a volatility of 20% to 50%.\" Why is our volatility so low?\n",
    "\n",
    "First calculate standard deviation"
   ]
  },
  {
   "cell_type": "markdown",
   "metadata": {},
   "source": [
    "* I think mu_list should be larger, like 60 days long"
   ]
  },
  {
   "cell_type": "code",
   "execution_count": 129,
   "metadata": {
    "collapsed": false
   },
   "outputs": [
    {
     "data": {
      "text/plain": [
       "7"
      ]
     },
     "execution_count": 129,
     "metadata": {},
     "output_type": "execute_result"
    }
   ],
   "source": [
    "n = len(mu_list)\n",
    "n"
   ]
  },
  {
   "cell_type": "code",
   "execution_count": 130,
   "metadata": {
    "collapsed": false
   },
   "outputs": [],
   "source": [
    "# Calculate standard deviation\n",
    "first_sum = second_sum = 0\n",
    "for i in range(n):\n",
    "    first_sum += mu_list[i] ** 2 \n",
    "    second_sum += mu_list[i]\n",
    "std = np.sqrt(1/(n-1) * first_sum - (1/(n*(n-1))) * second_sum ** 2) "
   ]
  },
  {
   "cell_type": "code",
   "execution_count": 131,
   "metadata": {
    "collapsed": false
   },
   "outputs": [
    {
     "data": {
      "text/plain": [
       "1.2151295811353346"
      ]
     },
     "execution_count": 131,
     "metadata": {},
     "output_type": "execute_result"
    }
   ],
   "source": [
    "std"
   ]
  },
  {
   "cell_type": "code",
   "execution_count": 132,
   "metadata": {
    "collapsed": false
   },
   "outputs": [
    {
     "data": {
      "text/plain": [
       "0.15687255437403816"
      ]
     },
     "execution_count": 132,
     "metadata": {},
     "output_type": "execute_result"
    }
   ],
   "source": [
    "volatility = std / np.sqrt(dt)\n",
    "volatility"
   ]
  },
  {
   "cell_type": "code",
   "execution_count": 133,
   "metadata": {
    "collapsed": false
   },
   "outputs": [],
   "source": [
    "ave_mu = 0\n",
    "for i in range(n):\n",
    "    ave_mu += mu_list[i] \n",
    "ave_mu /= n"
   ]
  },
  {
   "cell_type": "code",
   "execution_count": 134,
   "metadata": {
    "collapsed": true
   },
   "outputs": [],
   "source": [
    "annual_mu = ave_mu / dt + volatility ** 2 / 2 "
   ]
  },
  {
   "cell_type": "code",
   "execution_count": 135,
   "metadata": {
    "collapsed": true
   },
   "outputs": [],
   "source": [
    "sigma = std / np.sqrt(dt)  # Volatility"
   ]
  },
  {
   "cell_type": "code",
   "execution_count": 136,
   "metadata": {
    "collapsed": false
   },
   "outputs": [
    {
     "data": {
      "text/plain": [
       "0.15687255437403816"
      ]
     },
     "execution_count": 136,
     "metadata": {},
     "output_type": "execute_result"
    }
   ],
   "source": [
    "sigma"
   ]
  },
  {
   "cell_type": "code",
   "execution_count": 137,
   "metadata": {
    "collapsed": false
   },
   "outputs": [
    {
     "data": {
      "image/png": "[encoded data removed]",
      "text/plain": [
       "<matplotlib.figure.Figure at 0x17f38b3dcc0>"
      ]
     },
     "metadata": {},
     "output_type": "display_data"
    },
    {
     "name": "stdout",
     "output_type": "stream",
     "text": [
      "Annual mu =  0.0185636817414\n",
      "Average mu = 0.375550955009\n",
      "Volatility =  0.156872554374\n"
     ]
    }
   ],
   "source": [
    "# plt.scatter(t_list, mu)\n",
    "plt.plot(t_list, mu_list, marker='o', label='$\\mu_{i}$', color='C0')\n",
    "plt.axhline(y=annual_mu, label='Annual $\\mu$', color='orange',linestyle='--')\n",
    "plt.axhline(y=ave_mu, label='Average $\\mu$', color='green', linestyle='-.')\n",
    "plt.title('Drift since 21.03.17 using 60 day Intervals')\n",
    "plt.ylabel('Drift $\\mu_{i}$')\n",
    "plt.xlabel('Days')\n",
    "plt.legend()\n",
    "plt.show()\n",
    "print('Annual mu = ', annual_mu)\n",
    "print('Average mu =', ave_mu)\n",
    "print('Volatility = ', volatility)"
   ]
  },
  {
   "cell_type": "markdown",
   "metadata": {},
   "source": [
    "* Include error bars on the mu_i, using standard deviation"
   ]
  },
  {
   "cell_type": "markdown",
   "metadata": {},
   "source": [
    "How to best plot volatility on the same plot? Draw a box about which line, annual mu or average mu?"
   ]
  },
  {
   "cell_type": "markdown",
   "metadata": {},
   "source": [
    "## (ii) Repeat the calculation above, but use the more robust estimate of the median to find the drift, and the median absolute deviation (MAD) to find the volatility: \n",
    "\n",
    "MAD = 1.4826Median(|xi −Median(x)|) \n",
    "\n",
    "This formula gives a more robust estimate for the standard deviation of the data points xi."
   ]
  },
  {
   "cell_type": "code",
   "execution_count": 138,
   "metadata": {
    "collapsed": false
   },
   "outputs": [
    {
     "ename": "SyntaxError",
     "evalue": "invalid syntax (<ipython-input-138-0cf78e650753>, line 5)",
     "output_type": "error",
     "traceback": [
      "\u001b[0;36m  File \u001b[0;32m\"<ipython-input-138-0cf78e650753>\"\u001b[0;36m, line \u001b[0;32m5\u001b[0m\n\u001b[0;31m    std =\u001b[0m\n\u001b[0m          ^\u001b[0m\n\u001b[0;31mSyntaxError\u001b[0m\u001b[0;31m:\u001b[0m invalid syntax\n"
     ]
    }
   ],
   "source": [
    "for i in mu_list:\n",
    "    MAD_i = 1.4826 * np.median(abs(mu_list[i] - np.median(mu_list)))\n",
    "    MAD_list.append(MAD_i)\n",
    "    \n",
    "std = "
   ]
  }
 ],
 "metadata": {
  "kernelspec": {
   "display_name": "Python 3",
   "language": "python",
   "name": "python3"
  },
  "language_info": {
   "codemirror_mode": {
    "name": "ipython",
    "version": 3
   },
   "file_extension": ".py",
   "mimetype": "text/x-python",
   "name": "python",
   "nbconvert_exporter": "python",
   "pygments_lexer": "ipython3",
   "version": "3.6.0"
  }
 },
 "nbformat": 4,
 "nbformat_minor": 2
}
