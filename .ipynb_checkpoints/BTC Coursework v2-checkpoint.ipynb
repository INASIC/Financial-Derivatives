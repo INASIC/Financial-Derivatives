{
 "cells": [
  {
   "cell_type": "code",
   "execution_count": 70,
   "metadata": {
    "collapsed": false
   },
   "outputs": [],
   "source": [
    "import matplotlib.pyplot as plt\n",
    "import numpy as np\n",
    "from datetime import datetime\n",
    "from scipy import stats"
   ]
  },
  {
   "cell_type": "code",
   "execution_count": 71,
   "metadata": {
    "collapsed": true
   },
   "outputs": [],
   "source": [
    "import pandas as pd"
   ]
  },
  {
   "cell_type": "code",
   "execution_count": 72,
   "metadata": {
    "collapsed": false
   },
   "outputs": [
    {
     "data": {
      "text/html": [
       "<div>\n",
       "<table border=\"1\" class=\"dataframe\">\n",
       "  <thead>\n",
       "    <tr style=\"text-align: right;\">\n",
       "      <th></th>\n",
       "      <th>Date</th>\n",
       "      <th>Open</th>\n",
       "      <th>High</th>\n",
       "      <th>Low</th>\n",
       "      <th>Close</th>\n",
       "      <th>Adj Close</th>\n",
       "      <th>Volume</th>\n",
       "    </tr>\n",
       "  </thead>\n",
       "  <tbody>\n",
       "    <tr>\n",
       "      <th>0</th>\n",
       "      <td>2011-09-05</td>\n",
       "      <td>4.440000</td>\n",
       "      <td>4.440000</td>\n",
       "      <td>4.060000</td>\n",
       "      <td>4.250000</td>\n",
       "      <td>4.250000</td>\n",
       "      <td>839</td>\n",
       "    </tr>\n",
       "    <tr>\n",
       "      <th>1</th>\n",
       "      <td>2011-09-06</td>\n",
       "      <td>4.250000</td>\n",
       "      <td>4.510000</td>\n",
       "      <td>4.260000</td>\n",
       "      <td>4.260000</td>\n",
       "      <td>4.260000</td>\n",
       "      <td>127</td>\n",
       "    </tr>\n",
       "    <tr>\n",
       "      <th>2</th>\n",
       "      <td>2011-09-07</td>\n",
       "      <td>4.260000</td>\n",
       "      <td>4.430000</td>\n",
       "      <td>4.210000</td>\n",
       "      <td>4.210000</td>\n",
       "      <td>4.210000</td>\n",
       "      <td>50</td>\n",
       "    </tr>\n",
       "    <tr>\n",
       "      <th>3</th>\n",
       "      <td>2011-09-08</td>\n",
       "      <td>4.210000</td>\n",
       "      <td>3.890000</td>\n",
       "      <td>3.000000</td>\n",
       "      <td>3.160000</td>\n",
       "      <td>3.160000</td>\n",
       "      <td>626</td>\n",
       "    </tr>\n",
       "    <tr>\n",
       "      <th>4</th>\n",
       "      <td>2011-09-09</td>\n",
       "      <td>3.160000</td>\n",
       "      <td>3.300000</td>\n",
       "      <td>3.000000</td>\n",
       "      <td>3.000000</td>\n",
       "      <td>3.000000</td>\n",
       "      <td>72</td>\n",
       "    </tr>\n",
       "    <tr>\n",
       "      <th>5</th>\n",
       "      <td>2011-09-10</td>\n",
       "      <td>3.000000</td>\n",
       "      <td>4.000000</td>\n",
       "      <td>2.950000</td>\n",
       "      <td>3.000000</td>\n",
       "      <td>3.000000</td>\n",
       "      <td>233</td>\n",
       "    </tr>\n",
       "    <tr>\n",
       "      <th>6</th>\n",
       "      <td>2011-09-11</td>\n",
       "      <td>3.000000</td>\n",
       "      <td>3.990000</td>\n",
       "      <td>2.970000</td>\n",
       "      <td>2.970000</td>\n",
       "      <td>2.970000</td>\n",
       "      <td>88</td>\n",
       "    </tr>\n",
       "    <tr>\n",
       "      <th>7</th>\n",
       "      <td>2011-09-12</td>\n",
       "      <td>2.970000</td>\n",
       "      <td>3.850000</td>\n",
       "      <td>3.620000</td>\n",
       "      <td>3.690000</td>\n",
       "      <td>3.690000</td>\n",
       "      <td>1017</td>\n",
       "    </tr>\n",
       "    <tr>\n",
       "      <th>8</th>\n",
       "      <td>2011-09-13</td>\n",
       "      <td>3.690000</td>\n",
       "      <td>3.600000</td>\n",
       "      <td>3.500000</td>\n",
       "      <td>3.500000</td>\n",
       "      <td>3.500000</td>\n",
       "      <td>28</td>\n",
       "    </tr>\n",
       "    <tr>\n",
       "      <th>9</th>\n",
       "      <td>2011-09-14</td>\n",
       "      <td>3.500000</td>\n",
       "      <td>3.210000</td>\n",
       "      <td>2.950000</td>\n",
       "      <td>3.210000</td>\n",
       "      <td>3.210000</td>\n",
       "      <td>172</td>\n",
       "    </tr>\n",
       "    <tr>\n",
       "      <th>10</th>\n",
       "      <td>2011-09-15</td>\n",
       "      <td>3.210000</td>\n",
       "      <td>3.180000</td>\n",
       "      <td>3.040000</td>\n",
       "      <td>3.040000</td>\n",
       "      <td>3.040000</td>\n",
       "      <td>464</td>\n",
       "    </tr>\n",
       "    <tr>\n",
       "      <th>11</th>\n",
       "      <td>2011-09-16</td>\n",
       "      <td>3.040000</td>\n",
       "      <td>3.190000</td>\n",
       "      <td>3.040000</td>\n",
       "      <td>3.040000</td>\n",
       "      <td>3.040000</td>\n",
       "      <td>233</td>\n",
       "    </tr>\n",
       "    <tr>\n",
       "      <th>12</th>\n",
       "      <td>2011-09-17</td>\n",
       "      <td>3.040000</td>\n",
       "      <td>3.290000</td>\n",
       "      <td>3.290000</td>\n",
       "      <td>3.290000</td>\n",
       "      <td>3.290000</td>\n",
       "      <td>6</td>\n",
       "    </tr>\n",
       "    <tr>\n",
       "      <th>13</th>\n",
       "      <td>2011-09-18</td>\n",
       "      <td>3.290000</td>\n",
       "      <td>3.570000</td>\n",
       "      <td>3.200000</td>\n",
       "      <td>3.570000</td>\n",
       "      <td>3.570000</td>\n",
       "      <td>7</td>\n",
       "    </tr>\n",
       "    <tr>\n",
       "      <th>14</th>\n",
       "      <td>2011-09-19</td>\n",
       "      <td>3.570000</td>\n",
       "      <td>3.850000</td>\n",
       "      <td>3.720000</td>\n",
       "      <td>3.850000</td>\n",
       "      <td>3.850000</td>\n",
       "      <td>31</td>\n",
       "    </tr>\n",
       "    <tr>\n",
       "      <th>15</th>\n",
       "      <td>2011-09-20</td>\n",
       "      <td>3.850000</td>\n",
       "      <td>3.870000</td>\n",
       "      <td>3.280000</td>\n",
       "      <td>3.620000</td>\n",
       "      <td>3.620000</td>\n",
       "      <td>2893</td>\n",
       "    </tr>\n",
       "    <tr>\n",
       "      <th>16</th>\n",
       "      <td>2011-09-21</td>\n",
       "      <td>3.620000</td>\n",
       "      <td>3.700000</td>\n",
       "      <td>3.580000</td>\n",
       "      <td>3.600000</td>\n",
       "      <td>3.600000</td>\n",
       "      <td>628</td>\n",
       "    </tr>\n",
       "    <tr>\n",
       "      <th>17</th>\n",
       "      <td>2011-09-22</td>\n",
       "      <td>3.600000</td>\n",
       "      <td>3.740000</td>\n",
       "      <td>3.460000</td>\n",
       "      <td>3.740000</td>\n",
       "      <td>3.740000</td>\n",
       "      <td>417</td>\n",
       "    </tr>\n",
       "    <tr>\n",
       "      <th>18</th>\n",
       "      <td>2011-09-23</td>\n",
       "      <td>3.740000</td>\n",
       "      <td>3.620000</td>\n",
       "      <td>3.580000</td>\n",
       "      <td>3.620000</td>\n",
       "      <td>3.620000</td>\n",
       "      <td>10</td>\n",
       "    </tr>\n",
       "    <tr>\n",
       "      <th>19</th>\n",
       "      <td>2011-09-24</td>\n",
       "      <td>3.620000</td>\n",
       "      <td>3.620000</td>\n",
       "      <td>3.620000</td>\n",
       "      <td>3.620000</td>\n",
       "      <td>3.620000</td>\n",
       "      <td>0</td>\n",
       "    </tr>\n",
       "    <tr>\n",
       "      <th>20</th>\n",
       "      <td>2011-09-25</td>\n",
       "      <td>3.620000</td>\n",
       "      <td>3.400000</td>\n",
       "      <td>3.150000</td>\n",
       "      <td>3.240000</td>\n",
       "      <td>3.240000</td>\n",
       "      <td>113</td>\n",
       "    </tr>\n",
       "    <tr>\n",
       "      <th>21</th>\n",
       "      <td>2011-09-26</td>\n",
       "      <td>3.240000</td>\n",
       "      <td>3.270000</td>\n",
       "      <td>3.230000</td>\n",
       "      <td>3.230000</td>\n",
       "      <td>3.230000</td>\n",
       "      <td>524</td>\n",
       "    </tr>\n",
       "    <tr>\n",
       "      <th>22</th>\n",
       "      <td>2011-09-27</td>\n",
       "      <td>3.230000</td>\n",
       "      <td>3.200000</td>\n",
       "      <td>3.050000</td>\n",
       "      <td>3.150000</td>\n",
       "      <td>3.150000</td>\n",
       "      <td>1316</td>\n",
       "    </tr>\n",
       "    <tr>\n",
       "      <th>23</th>\n",
       "      <td>2011-09-28</td>\n",
       "      <td>3.150000</td>\n",
       "      <td>3.140000</td>\n",
       "      <td>3.070000</td>\n",
       "      <td>3.110000</td>\n",
       "      <td>3.110000</td>\n",
       "      <td>1001</td>\n",
       "    </tr>\n",
       "    <tr>\n",
       "      <th>24</th>\n",
       "      <td>2011-09-29</td>\n",
       "      <td>3.110000</td>\n",
       "      <td>3.350000</td>\n",
       "      <td>3.060000</td>\n",
       "      <td>3.350000</td>\n",
       "      <td>3.350000</td>\n",
       "      <td>189</td>\n",
       "    </tr>\n",
       "    <tr>\n",
       "      <th>25</th>\n",
       "      <td>2011-09-30</td>\n",
       "      <td>3.350000</td>\n",
       "      <td>3.300000</td>\n",
       "      <td>3.300000</td>\n",
       "      <td>3.300000</td>\n",
       "      <td>3.300000</td>\n",
       "      <td>1</td>\n",
       "    </tr>\n",
       "    <tr>\n",
       "      <th>26</th>\n",
       "      <td>2011-10-01</td>\n",
       "      <td>3.300000</td>\n",
       "      <td>3.300000</td>\n",
       "      <td>3.300000</td>\n",
       "      <td>3.300000</td>\n",
       "      <td>3.300000</td>\n",
       "      <td>0</td>\n",
       "    </tr>\n",
       "    <tr>\n",
       "      <th>27</th>\n",
       "      <td>2011-10-02</td>\n",
       "      <td>3.300000</td>\n",
       "      <td>3.270000</td>\n",
       "      <td>3.230000</td>\n",
       "      <td>3.260000</td>\n",
       "      <td>3.260000</td>\n",
       "      <td>77</td>\n",
       "    </tr>\n",
       "    <tr>\n",
       "      <th>28</th>\n",
       "      <td>2011-10-03</td>\n",
       "      <td>3.260000</td>\n",
       "      <td>3.310000</td>\n",
       "      <td>3.270000</td>\n",
       "      <td>3.280000</td>\n",
       "      <td>3.280000</td>\n",
       "      <td>2393</td>\n",
       "    </tr>\n",
       "    <tr>\n",
       "      <th>29</th>\n",
       "      <td>2011-10-04</td>\n",
       "      <td>3.280000</td>\n",
       "      <td>3.280000</td>\n",
       "      <td>3.270000</td>\n",
       "      <td>3.280000</td>\n",
       "      <td>3.280000</td>\n",
       "      <td>53</td>\n",
       "    </tr>\n",
       "    <tr>\n",
       "      <th>...</th>\n",
       "      <td>...</td>\n",
       "      <td>...</td>\n",
       "      <td>...</td>\n",
       "      <td>...</td>\n",
       "      <td>...</td>\n",
       "      <td>...</td>\n",
       "      <td>...</td>\n",
       "    </tr>\n",
       "    <tr>\n",
       "      <th>2396</th>\n",
       "      <td>2018-03-28</td>\n",
       "      <td>5673.990234</td>\n",
       "      <td>5715.220215</td>\n",
       "      <td>4947.870117</td>\n",
       "      <td>5092.839844</td>\n",
       "      <td>5092.839844</td>\n",
       "      <td>7744067</td>\n",
       "    </tr>\n",
       "    <tr>\n",
       "      <th>2397</th>\n",
       "      <td>2018-03-29</td>\n",
       "      <td>5092.839844</td>\n",
       "      <td>5218.450195</td>\n",
       "      <td>4739.629883</td>\n",
       "      <td>4927.060059</td>\n",
       "      <td>4927.060059</td>\n",
       "      <td>7512843</td>\n",
       "    </tr>\n",
       "    <tr>\n",
       "      <th>2398</th>\n",
       "      <td>2018-03-30</td>\n",
       "      <td>4926.799805</td>\n",
       "      <td>5173.839844</td>\n",
       "      <td>4902.430176</td>\n",
       "      <td>4966.979980</td>\n",
       "      <td>4966.979980</td>\n",
       "      <td>4703919</td>\n",
       "    </tr>\n",
       "    <tr>\n",
       "      <th>2399</th>\n",
       "      <td>2018-03-31</td>\n",
       "      <td>4966.979980</td>\n",
       "      <td>5029.220215</td>\n",
       "      <td>4667.529785</td>\n",
       "      <td>4892.830078</td>\n",
       "      <td>4892.830078</td>\n",
       "      <td>4157448</td>\n",
       "    </tr>\n",
       "    <tr>\n",
       "      <th>2400</th>\n",
       "      <td>2018-04-01</td>\n",
       "      <td>4892.830078</td>\n",
       "      <td>5065.509766</td>\n",
       "      <td>4843.189941</td>\n",
       "      <td>5022.040039</td>\n",
       "      <td>5022.040039</td>\n",
       "      <td>3347583</td>\n",
       "    </tr>\n",
       "    <tr>\n",
       "      <th>2401</th>\n",
       "      <td>2018-04-02</td>\n",
       "      <td>5022.040039</td>\n",
       "      <td>5389.509766</td>\n",
       "      <td>4994.660156</td>\n",
       "      <td>5278.580078</td>\n",
       "      <td>5278.580078</td>\n",
       "      <td>5943117</td>\n",
       "    </tr>\n",
       "    <tr>\n",
       "      <th>2402</th>\n",
       "      <td>2018-04-03</td>\n",
       "      <td>5278.580078</td>\n",
       "      <td>5351.060059</td>\n",
       "      <td>4786.669922</td>\n",
       "      <td>4896.979980</td>\n",
       "      <td>4896.979980</td>\n",
       "      <td>5840540</td>\n",
       "    </tr>\n",
       "    <tr>\n",
       "      <th>2403</th>\n",
       "      <td>2018-04-04</td>\n",
       "      <td>4892.759766</td>\n",
       "      <td>4980.810059</td>\n",
       "      <td>4712.939941</td>\n",
       "      <td>4874.009766</td>\n",
       "      <td>4874.009766</td>\n",
       "      <td>5733655</td>\n",
       "    </tr>\n",
       "    <tr>\n",
       "      <th>2404</th>\n",
       "      <td>2018-04-05</td>\n",
       "      <td>4874.009766</td>\n",
       "      <td>4915.140137</td>\n",
       "      <td>4652.839844</td>\n",
       "      <td>4753.810059</td>\n",
       "      <td>4753.810059</td>\n",
       "      <td>4609139</td>\n",
       "    </tr>\n",
       "    <tr>\n",
       "      <th>2405</th>\n",
       "      <td>2018-04-06</td>\n",
       "      <td>4753.810059</td>\n",
       "      <td>5022.609863</td>\n",
       "      <td>4675.189941</td>\n",
       "      <td>4879.740234</td>\n",
       "      <td>4879.740234</td>\n",
       "      <td>3648559</td>\n",
       "    </tr>\n",
       "    <tr>\n",
       "      <th>2406</th>\n",
       "      <td>2018-04-07</td>\n",
       "      <td>4879.740234</td>\n",
       "      <td>5081.209961</td>\n",
       "      <td>4868.779785</td>\n",
       "      <td>4976.339844</td>\n",
       "      <td>4976.339844</td>\n",
       "      <td>1996706</td>\n",
       "    </tr>\n",
       "    <tr>\n",
       "      <th>2407</th>\n",
       "      <td>2018-04-08</td>\n",
       "      <td>4975.879883</td>\n",
       "      <td>5079.540039</td>\n",
       "      <td>4741.919922</td>\n",
       "      <td>4835.439941</td>\n",
       "      <td>4835.439941</td>\n",
       "      <td>4039636</td>\n",
       "    </tr>\n",
       "    <tr>\n",
       "      <th>2408</th>\n",
       "      <td>2018-04-09</td>\n",
       "      <td>4835.439941</td>\n",
       "      <td>4903.529785</td>\n",
       "      <td>4742.609863</td>\n",
       "      <td>4844.529785</td>\n",
       "      <td>4844.529785</td>\n",
       "      <td>3403870</td>\n",
       "    </tr>\n",
       "    <tr>\n",
       "      <th>2409</th>\n",
       "      <td>2018-04-10</td>\n",
       "      <td>4844.529785</td>\n",
       "      <td>5010.100098</td>\n",
       "      <td>4643.790039</td>\n",
       "      <td>4870.319824</td>\n",
       "      <td>4870.319824</td>\n",
       "      <td>3760597</td>\n",
       "    </tr>\n",
       "    <tr>\n",
       "      <th>2410</th>\n",
       "      <td>2018-04-11</td>\n",
       "      <td>4870.319824</td>\n",
       "      <td>5571.120117</td>\n",
       "      <td>4561.430176</td>\n",
       "      <td>5524.629883</td>\n",
       "      <td>5524.629883</td>\n",
       "      <td>8934594</td>\n",
       "    </tr>\n",
       "    <tr>\n",
       "      <th>2411</th>\n",
       "      <td>2018-04-12</td>\n",
       "      <td>5532.509766</td>\n",
       "      <td>5801.240234</td>\n",
       "      <td>5403.270020</td>\n",
       "      <td>5510.439941</td>\n",
       "      <td>5510.439941</td>\n",
       "      <td>6794541</td>\n",
       "    </tr>\n",
       "    <tr>\n",
       "      <th>2412</th>\n",
       "      <td>2018-04-13</td>\n",
       "      <td>5510.439941</td>\n",
       "      <td>5780.540039</td>\n",
       "      <td>5502.290039</td>\n",
       "      <td>5609.759766</td>\n",
       "      <td>5609.759766</td>\n",
       "      <td>3310007</td>\n",
       "    </tr>\n",
       "    <tr>\n",
       "      <th>2413</th>\n",
       "      <td>2018-04-14</td>\n",
       "      <td>5577.490234</td>\n",
       "      <td>5921.689941</td>\n",
       "      <td>5499.270020</td>\n",
       "      <td>5896.700195</td>\n",
       "      <td>5896.700195</td>\n",
       "      <td>4077309</td>\n",
       "    </tr>\n",
       "    <tr>\n",
       "      <th>2414</th>\n",
       "      <td>2018-04-15</td>\n",
       "      <td>5896.700195</td>\n",
       "      <td>5935.299805</td>\n",
       "      <td>5512.859863</td>\n",
       "      <td>5654.500000</td>\n",
       "      <td>5654.500000</td>\n",
       "      <td>4453191</td>\n",
       "    </tr>\n",
       "    <tr>\n",
       "      <th>2415</th>\n",
       "      <td>2018-04-16</td>\n",
       "      <td>5654.500000</td>\n",
       "      <td>5759.790039</td>\n",
       "      <td>5494.979980</td>\n",
       "      <td>5518.990234</td>\n",
       "      <td>5518.990234</td>\n",
       "      <td>5970562</td>\n",
       "    </tr>\n",
       "    <tr>\n",
       "      <th>2416</th>\n",
       "      <td>2018-04-17</td>\n",
       "      <td>5518.990234</td>\n",
       "      <td>5897.319824</td>\n",
       "      <td>5467.600098</td>\n",
       "      <td>5665.009766</td>\n",
       "      <td>5665.009766</td>\n",
       "      <td>6328677</td>\n",
       "    </tr>\n",
       "    <tr>\n",
       "      <th>2417</th>\n",
       "      <td>2018-04-18</td>\n",
       "      <td>5665.009766</td>\n",
       "      <td>5953.770020</td>\n",
       "      <td>5554.660156</td>\n",
       "      <td>5829.120117</td>\n",
       "      <td>5829.120117</td>\n",
       "      <td>5874304</td>\n",
       "    </tr>\n",
       "    <tr>\n",
       "      <th>2418</th>\n",
       "      <td>2018-04-19</td>\n",
       "      <td>5829.120117</td>\n",
       "      <td>6428.390137</td>\n",
       "      <td>5702.379883</td>\n",
       "      <td>6297.609863</td>\n",
       "      <td>6297.609863</td>\n",
       "      <td>7047664</td>\n",
       "    </tr>\n",
       "    <tr>\n",
       "      <th>2419</th>\n",
       "      <td>2018-04-20</td>\n",
       "      <td>6298.209961</td>\n",
       "      <td>6456.009766</td>\n",
       "      <td>6118.279785</td>\n",
       "      <td>6266.229980</td>\n",
       "      <td>6266.229980</td>\n",
       "      <td>6918869</td>\n",
       "    </tr>\n",
       "    <tr>\n",
       "      <th>2420</th>\n",
       "      <td>2018-04-21</td>\n",
       "      <td>6266.229980</td>\n",
       "      <td>6507.279785</td>\n",
       "      <td>6119.770020</td>\n",
       "      <td>6169.479980</td>\n",
       "      <td>6169.479980</td>\n",
       "      <td>5725814</td>\n",
       "    </tr>\n",
       "    <tr>\n",
       "      <th>2421</th>\n",
       "      <td>2018-04-22</td>\n",
       "      <td>6169.479980</td>\n",
       "      <td>6503.109863</td>\n",
       "      <td>6138.160156</td>\n",
       "      <td>6343.649902</td>\n",
       "      <td>6343.649902</td>\n",
       "      <td>6121250</td>\n",
       "    </tr>\n",
       "    <tr>\n",
       "      <th>2422</th>\n",
       "      <td>2018-04-23</td>\n",
       "      <td>6343.649902</td>\n",
       "      <td>6944.270020</td>\n",
       "      <td>6343.649902</td>\n",
       "      <td>6885.180176</td>\n",
       "      <td>6885.180176</td>\n",
       "      <td>8103967</td>\n",
       "    </tr>\n",
       "    <tr>\n",
       "      <th>2423</th>\n",
       "      <td>2018-04-24</td>\n",
       "      <td>6885.180176</td>\n",
       "      <td>6991.259766</td>\n",
       "      <td>6283.060059</td>\n",
       "      <td>6358.529785</td>\n",
       "      <td>6358.529785</td>\n",
       "      <td>9485435</td>\n",
       "    </tr>\n",
       "    <tr>\n",
       "      <th>2424</th>\n",
       "      <td>2018-04-25</td>\n",
       "      <td>6358.529785</td>\n",
       "      <td>6677.970215</td>\n",
       "      <td>6230.850098</td>\n",
       "      <td>6673.580078</td>\n",
       "      <td>6673.580078</td>\n",
       "      <td>5999771</td>\n",
       "    </tr>\n",
       "    <tr>\n",
       "      <th>2425</th>\n",
       "      <td>2018-04-30</td>\n",
       "      <td>6815.259766</td>\n",
       "      <td>6910.450195</td>\n",
       "      <td>6548.390137</td>\n",
       "      <td>6776.899902</td>\n",
       "      <td>6776.899902</td>\n",
       "      <td>2456423</td>\n",
       "    </tr>\n",
       "  </tbody>\n",
       "</table>\n",
       "<p>2426 rows × 7 columns</p>\n",
       "</div>"
      ],
      "text/plain": [
       "            Date         Open         High          Low        Close  \\\n",
       "0     2011-09-05     4.440000     4.440000     4.060000     4.250000   \n",
       "1     2011-09-06     4.250000     4.510000     4.260000     4.260000   \n",
       "2     2011-09-07     4.260000     4.430000     4.210000     4.210000   \n",
       "3     2011-09-08     4.210000     3.890000     3.000000     3.160000   \n",
       "4     2011-09-09     3.160000     3.300000     3.000000     3.000000   \n",
       "5     2011-09-10     3.000000     4.000000     2.950000     3.000000   \n",
       "6     2011-09-11     3.000000     3.990000     2.970000     2.970000   \n",
       "7     2011-09-12     2.970000     3.850000     3.620000     3.690000   \n",
       "8     2011-09-13     3.690000     3.600000     3.500000     3.500000   \n",
       "9     2011-09-14     3.500000     3.210000     2.950000     3.210000   \n",
       "10    2011-09-15     3.210000     3.180000     3.040000     3.040000   \n",
       "11    2011-09-16     3.040000     3.190000     3.040000     3.040000   \n",
       "12    2011-09-17     3.040000     3.290000     3.290000     3.290000   \n",
       "13    2011-09-18     3.290000     3.570000     3.200000     3.570000   \n",
       "14    2011-09-19     3.570000     3.850000     3.720000     3.850000   \n",
       "15    2011-09-20     3.850000     3.870000     3.280000     3.620000   \n",
       "16    2011-09-21     3.620000     3.700000     3.580000     3.600000   \n",
       "17    2011-09-22     3.600000     3.740000     3.460000     3.740000   \n",
       "18    2011-09-23     3.740000     3.620000     3.580000     3.620000   \n",
       "19    2011-09-24     3.620000     3.620000     3.620000     3.620000   \n",
       "20    2011-09-25     3.620000     3.400000     3.150000     3.240000   \n",
       "21    2011-09-26     3.240000     3.270000     3.230000     3.230000   \n",
       "22    2011-09-27     3.230000     3.200000     3.050000     3.150000   \n",
       "23    2011-09-28     3.150000     3.140000     3.070000     3.110000   \n",
       "24    2011-09-29     3.110000     3.350000     3.060000     3.350000   \n",
       "25    2011-09-30     3.350000     3.300000     3.300000     3.300000   \n",
       "26    2011-10-01     3.300000     3.300000     3.300000     3.300000   \n",
       "27    2011-10-02     3.300000     3.270000     3.230000     3.260000   \n",
       "28    2011-10-03     3.260000     3.310000     3.270000     3.280000   \n",
       "29    2011-10-04     3.280000     3.280000     3.270000     3.280000   \n",
       "...          ...          ...          ...          ...          ...   \n",
       "2396  2018-03-28  5673.990234  5715.220215  4947.870117  5092.839844   \n",
       "2397  2018-03-29  5092.839844  5218.450195  4739.629883  4927.060059   \n",
       "2398  2018-03-30  4926.799805  5173.839844  4902.430176  4966.979980   \n",
       "2399  2018-03-31  4966.979980  5029.220215  4667.529785  4892.830078   \n",
       "2400  2018-04-01  4892.830078  5065.509766  4843.189941  5022.040039   \n",
       "2401  2018-04-02  5022.040039  5389.509766  4994.660156  5278.580078   \n",
       "2402  2018-04-03  5278.580078  5351.060059  4786.669922  4896.979980   \n",
       "2403  2018-04-04  4892.759766  4980.810059  4712.939941  4874.009766   \n",
       "2404  2018-04-05  4874.009766  4915.140137  4652.839844  4753.810059   \n",
       "2405  2018-04-06  4753.810059  5022.609863  4675.189941  4879.740234   \n",
       "2406  2018-04-07  4879.740234  5081.209961  4868.779785  4976.339844   \n",
       "2407  2018-04-08  4975.879883  5079.540039  4741.919922  4835.439941   \n",
       "2408  2018-04-09  4835.439941  4903.529785  4742.609863  4844.529785   \n",
       "2409  2018-04-10  4844.529785  5010.100098  4643.790039  4870.319824   \n",
       "2410  2018-04-11  4870.319824  5571.120117  4561.430176  5524.629883   \n",
       "2411  2018-04-12  5532.509766  5801.240234  5403.270020  5510.439941   \n",
       "2412  2018-04-13  5510.439941  5780.540039  5502.290039  5609.759766   \n",
       "2413  2018-04-14  5577.490234  5921.689941  5499.270020  5896.700195   \n",
       "2414  2018-04-15  5896.700195  5935.299805  5512.859863  5654.500000   \n",
       "2415  2018-04-16  5654.500000  5759.790039  5494.979980  5518.990234   \n",
       "2416  2018-04-17  5518.990234  5897.319824  5467.600098  5665.009766   \n",
       "2417  2018-04-18  5665.009766  5953.770020  5554.660156  5829.120117   \n",
       "2418  2018-04-19  5829.120117  6428.390137  5702.379883  6297.609863   \n",
       "2419  2018-04-20  6298.209961  6456.009766  6118.279785  6266.229980   \n",
       "2420  2018-04-21  6266.229980  6507.279785  6119.770020  6169.479980   \n",
       "2421  2018-04-22  6169.479980  6503.109863  6138.160156  6343.649902   \n",
       "2422  2018-04-23  6343.649902  6944.270020  6343.649902  6885.180176   \n",
       "2423  2018-04-24  6885.180176  6991.259766  6283.060059  6358.529785   \n",
       "2424  2018-04-25  6358.529785  6677.970215  6230.850098  6673.580078   \n",
       "2425  2018-04-30  6815.259766  6910.450195  6548.390137  6776.899902   \n",
       "\n",
       "        Adj Close   Volume  \n",
       "0        4.250000      839  \n",
       "1        4.260000      127  \n",
       "2        4.210000       50  \n",
       "3        3.160000      626  \n",
       "4        3.000000       72  \n",
       "5        3.000000      233  \n",
       "6        2.970000       88  \n",
       "7        3.690000     1017  \n",
       "8        3.500000       28  \n",
       "9        3.210000      172  \n",
       "10       3.040000      464  \n",
       "11       3.040000      233  \n",
       "12       3.290000        6  \n",
       "13       3.570000        7  \n",
       "14       3.850000       31  \n",
       "15       3.620000     2893  \n",
       "16       3.600000      628  \n",
       "17       3.740000      417  \n",
       "18       3.620000       10  \n",
       "19       3.620000        0  \n",
       "20       3.240000      113  \n",
       "21       3.230000      524  \n",
       "22       3.150000     1316  \n",
       "23       3.110000     1001  \n",
       "24       3.350000      189  \n",
       "25       3.300000        1  \n",
       "26       3.300000        0  \n",
       "27       3.260000       77  \n",
       "28       3.280000     2393  \n",
       "29       3.280000       53  \n",
       "...           ...      ...  \n",
       "2396  5092.839844  7744067  \n",
       "2397  4927.060059  7512843  \n",
       "2398  4966.979980  4703919  \n",
       "2399  4892.830078  4157448  \n",
       "2400  5022.040039  3347583  \n",
       "2401  5278.580078  5943117  \n",
       "2402  4896.979980  5840540  \n",
       "2403  4874.009766  5733655  \n",
       "2404  4753.810059  4609139  \n",
       "2405  4879.740234  3648559  \n",
       "2406  4976.339844  1996706  \n",
       "2407  4835.439941  4039636  \n",
       "2408  4844.529785  3403870  \n",
       "2409  4870.319824  3760597  \n",
       "2410  5524.629883  8934594  \n",
       "2411  5510.439941  6794541  \n",
       "2412  5609.759766  3310007  \n",
       "2413  5896.700195  4077309  \n",
       "2414  5654.500000  4453191  \n",
       "2415  5518.990234  5970562  \n",
       "2416  5665.009766  6328677  \n",
       "2417  5829.120117  5874304  \n",
       "2418  6297.609863  7047664  \n",
       "2419  6266.229980  6918869  \n",
       "2420  6169.479980  5725814  \n",
       "2421  6343.649902  6121250  \n",
       "2422  6885.180176  8103967  \n",
       "2423  6358.529785  9485435  \n",
       "2424  6673.580078  5999771  \n",
       "2425  6776.899902  2456423  \n",
       "\n",
       "[2426 rows x 7 columns]"
      ]
     },
     "execution_count": 72,
     "metadata": {},
     "output_type": "execute_result"
    }
   ],
   "source": [
    "data = pd.read_csv('BTC-GBP.csv')\n",
    "data"
   ]
  },
  {
   "cell_type": "markdown",
   "metadata": {},
   "source": [
    "__Use the Adjusted Closing Price__ to avoid complications from divedends and other events"
   ]
  },
  {
   "cell_type": "code",
   "execution_count": 73,
   "metadata": {
    "collapsed": false
   },
   "outputs": [
    {
     "data": {
      "text/plain": [
       "'2012-04-30'"
      ]
     },
     "execution_count": 73,
     "metadata": {},
     "output_type": "execute_result"
    }
   ],
   "source": [
    "data['Date'][238]"
   ]
  },
  {
   "cell_type": "code",
   "execution_count": 74,
   "metadata": {
    "collapsed": false
   },
   "outputs": [],
   "source": [
    "adj_close = list(data['Adj Close'][238:])"
   ]
  },
  {
   "cell_type": "markdown",
   "metadata": {},
   "source": [
    "This Histogram was plotted using data from the last 6.5 years. "
   ]
  },
  {
   "cell_type": "code",
   "execution_count": 75,
   "metadata": {
    "collapsed": false
   },
   "outputs": [
    {
     "data": {
      "text/plain": [
       "5.994520547945205"
      ]
     },
     "execution_count": 75,
     "metadata": {},
     "output_type": "execute_result"
    }
   ],
   "source": [
    "len(adj_close) / 365"
   ]
  },
  {
   "cell_type": "markdown",
   "metadata": {},
   "source": [
    "## (a) (i) Plot a histogram of the daily returns over the last few years"
   ]
  },
  {
   "cell_type": "markdown",
   "metadata": {},
   "source": [
    "The formula used to calculate the daily return is as follows:\n",
    "\n",
    "__Daily Return = (Price / Price of previous day) - 1__"
   ]
  },
  {
   "cell_type": "code",
   "execution_count": 76,
   "metadata": {
    "collapsed": false
   },
   "outputs": [
    {
     "data": {
      "text/plain": [
       "8.4399999999999995"
      ]
     },
     "execution_count": 76,
     "metadata": {},
     "output_type": "execute_result"
    }
   ],
   "source": [
    "adj_close[238]"
   ]
  },
  {
   "cell_type": "code",
   "execution_count": 77,
   "metadata": {
    "collapsed": false
   },
   "outputs": [],
   "source": [
    "returns = []\n",
    "for day in range(len(adj_close)-1):\n",
    "    returns.append((adj_close[day+1] / adj_close[day]) - 1)"
   ]
  },
  {
   "cell_type": "code",
   "execution_count": 78,
   "metadata": {
    "collapsed": false
   },
   "outputs": [],
   "source": [
    "m, s = stats.norm.fit(returns) # get mean and standard deviation "
   ]
  },
  {
   "cell_type": "code",
   "execution_count": 79,
   "metadata": {
    "collapsed": false
   },
   "outputs": [],
   "source": [
    "m, s\n",
    "m1=m\n",
    "s1=s"
   ]
  },
  {
   "cell_type": "code",
   "execution_count": 80,
   "metadata": {
    "collapsed": false
   },
   "outputs": [
    {
     "data": {
      "text/plain": [
       "[<matplotlib.lines.Line2D at 0x1b803cb9c88>]"
      ]
     },
     "execution_count": 80,
     "metadata": {},
     "output_type": "execute_result"
    }
   ],
   "source": [
    "plt.figure(figsize=(6,5))\n",
    "plt.hist(returns, bins=len(returns), normed=True)#, normed=True)\n",
    "lnspc1 = np.linspace(-0.4, 0.4, len(returns))\n",
    "pdf_g1 = stats.norm.pdf(lnspc1, m, s) \n",
    "plt.plot(lnspc1, pdf_g1, label=\"Normal ($\\mu = 0.006$, $\\sigma = 0.101$)\") # plot it\n",
    "pdf_cauch = stats.cauchy.pdf(lnspc1, m, 0.02)  # This gamma of 0.02 was chosen totally randomly\n",
    "plt.plot(lnspc1, pdf_cauch, label=\"Cauchy ($\\mu = 0.006$, $\\gamma = 0.02$)\", linewidth=2.5) # plot it"
   ]
  },
  {
   "cell_type": "code",
   "execution_count": 81,
   "metadata": {
    "collapsed": false
   },
   "outputs": [
    {
     "data": {
      "image/png": "[encoded data removed]",
      "text/plain": [
       "<matplotlib.figure.Figure at 0x1b803c2bbe0>"
      ]
     },
     "metadata": {},
     "output_type": "display_data"
    }
   ],
   "source": [
    "# Visualize\n",
    "plt.legend()\n",
    "plt.title('BTC-GBP')\n",
    "plt.ylabel('Density')\n",
    "plt.xlabel('Daily Return')\n",
    "plt.xlim(-0.3,0.3)\n",
    "# plt.savefig('Normalised Histogram (BTC-USD)')\n",
    "plt.show()"
   ]
  },
  {
   "cell_type": "markdown",
   "metadata": {},
   "source": [
    "For further work section, use Monte Carlo sampling from this distribution and use a random walk to find what the price of BTC would be in the future."
   ]
  },
  {
   "cell_type": "markdown",
   "metadata": {
    "collapsed": false
   },
   "source": [
    "## (iii) Present a normal quantile plot to establish the extent to which your data follows a normal distribution. "
   ]
  },
  {
   "cell_type": "code",
   "execution_count": 82,
   "metadata": {
    "collapsed": false
   },
   "outputs": [
    {
     "data": {
      "image/png": "[encoded data removed]",
      "text/plain": [
       "<matplotlib.figure.Figure at 0x1b805056b00>"
      ]
     },
     "metadata": {},
     "output_type": "display_data"
    }
   ],
   "source": [
    "stats.probplot(returns, dist=\"norm\", plot=plt)\n",
    "plt.title('Probability Plot: Normal Distribution')\n",
    "plt.show()"
   ]
  },
  {
   "cell_type": "code",
   "execution_count": 83,
   "metadata": {
    "collapsed": false
   },
   "outputs": [
    {
     "data": {
      "image/png": "[encoded data removed]",
      "text/plain": [
       "<matplotlib.figure.Figure at 0x1b80511fc88>"
      ]
     },
     "metadata": {},
     "output_type": "display_data"
    }
   ],
   "source": [
    "plt.figure(figsize=(6,5))\n",
    "stats.probplot(returns, dist=\"norm\", plot=plt)\n",
    "plt.title('Probability Plot: Normal Distribution')\n",
    "plt.ylim(-0.8,0.8)\n",
    "plt.show()"
   ]
  },
  {
   "cell_type": "markdown",
   "metadata": {},
   "source": [
    "From this Q-Q plot, since it curves down then upwards - this suggests that there are fat tails. Which means that there are more extreme price movements."
   ]
  },
  {
   "cell_type": "code",
   "execution_count": 84,
   "metadata": {
    "collapsed": false
   },
   "outputs": [
    {
     "data": {
      "image/png": "[encoded data removed]",
      "text/plain": [
       "<matplotlib.figure.Figure at 0x1b803d78ba8>"
      ]
     },
     "metadata": {},
     "output_type": "display_data"
    }
   ],
   "source": [
    "stats.probplot(returns, dist=stats.cauchy, plot=plt)\n",
    "# plt.xlim(-200,200)\n",
    "plt.title('Probability Plot: Cauchy')\n",
    "plt.show()"
   ]
  },
  {
   "cell_type": "markdown",
   "metadata": {},
   "source": [
    "## (iv) Repeat this analysis for 5 day and 10 day intervals and investigate any change in the probability density function."
   ]
  },
  {
   "cell_type": "markdown",
   "metadata": {},
   "source": [
    "* Consider doing subplots for all three in a single plot. Interval in columns, first row histogram pdf, second row qq plot.\n",
    "* Double check how the plots look without putting x limits"
   ]
  },
  {
   "cell_type": "markdown",
   "metadata": {},
   "source": [
    "### 5 day Interval"
   ]
  },
  {
   "cell_type": "markdown",
   "metadata": {},
   "source": [
    "__5 Day Return = (Price today / Price 5 days ago) - 1__"
   ]
  },
  {
   "cell_type": "code",
   "execution_count": 85,
   "metadata": {
    "collapsed": false
   },
   "outputs": [],
   "source": [
    "returns = []\n",
    "day = 0\n",
    "while day < len(adj_close) - 5:\n",
    "    returns.append(adj_close[day+5] / adj_close[day] - 1)\n",
    "    day += 5"
   ]
  },
  {
   "cell_type": "code",
   "execution_count": 86,
   "metadata": {
    "collapsed": false
   },
   "outputs": [],
   "source": [
    "m, s = stats.norm.fit(returns) # get mean and standard deviation \n",
    "m, s\n",
    "m5=m\n",
    "s5=s"
   ]
  },
  {
   "cell_type": "code",
   "execution_count": 87,
   "metadata": {
    "collapsed": false
   },
   "outputs": [
    {
     "data": {
      "image/png": "[encoded data removed]",
      "text/plain": [
       "<matplotlib.figure.Figure at 0x1b8051aea20>"
      ]
     },
     "metadata": {},
     "output_type": "display_data"
    }
   ],
   "source": [
    "plt.figure(figsize=(10,8))\n",
    "plt.hist(returns, bins=len(returns), normed=True)#, normed=True)\n",
    "lnspc5 = np.linspace(-0.4, 0.4, len(returns))\n",
    "pdf_g5 = stats.norm.pdf(lnspc5, m, s) \n",
    "plt.plot(lnspc5, pdf_g5, label=\"Normal ($\\mu = 0.023$, $\\sigma = 0.131$)\") # plot it\n",
    "pdf_cauch = stats.cauchy.pdf(lnspc5, m, 0.04)  # This gamma of 0.02 was chosen totally randomly\n",
    "plt.plot(lnspc5, pdf_cauch, label=\"Cauchy ($\\mu = 0.023$, $\\gamma = 0.04$)\", linewidth=2.5) # plot it\n",
    "\n",
    "# Visualize\n",
    "plt.legend()\n",
    "plt.title('BTC-GBP (5 day interval)')\n",
    "plt.ylabel('Density')\n",
    "plt.xlabel('Return (5 day interval)')\n",
    "plt.xlim(-0.3,0.3)\n",
    "# plt.savefig('Normalised Histogram (BTC-USD)')\n",
    "plt.show()"
   ]
  },
  {
   "cell_type": "code",
   "execution_count": 88,
   "metadata": {
    "collapsed": false
   },
   "outputs": [
    {
     "data": {
      "image/png": "[encoded data removed]",
      "text/plain": [
       "<matplotlib.figure.Figure at 0x1b80526e518>"
      ]
     },
     "metadata": {},
     "output_type": "display_data"
    }
   ],
   "source": [
    "stats.probplot(returns, dist=\"norm\", plot=plt)\n",
    "plt.title('Probability Plot: Normal Distribution')\n",
    "plt.show()"
   ]
  },
  {
   "cell_type": "code",
   "execution_count": 89,
   "metadata": {
    "collapsed": false
   },
   "outputs": [
    {
     "data": {
      "image/png": "[encoded data removed]",
      "text/plain": [
       "<matplotlib.figure.Figure at 0x1b8059c5160>"
      ]
     },
     "metadata": {},
     "output_type": "display_data"
    }
   ],
   "source": [
    "stats.probplot(returns, dist=stats.cauchy, plot=plt)\n",
    "# plt.xlim(-200,200)\n",
    "plt.title('Probability Plot: Cauchy')\n",
    "plt.show()"
   ]
  },
  {
   "cell_type": "markdown",
   "metadata": {},
   "source": [
    "### 10 Day Interval"
   ]
  },
  {
   "cell_type": "code",
   "execution_count": 90,
   "metadata": {
    "collapsed": true
   },
   "outputs": [],
   "source": [
    "returns = []\n",
    "day = 0\n",
    "while day < len(adj_close) - 10:\n",
    "    returns.append(adj_close[day+10] / adj_close[day] - 1)\n",
    "    day += 10"
   ]
  },
  {
   "cell_type": "code",
   "execution_count": 91,
   "metadata": {
    "collapsed": false
   },
   "outputs": [],
   "source": [
    "m, s = stats.norm.fit(returns) # get mean and standard deviation \n",
    "m, s\n",
    "m10=m\n",
    "s10=s"
   ]
  },
  {
   "cell_type": "code",
   "execution_count": 92,
   "metadata": {
    "collapsed": false
   },
   "outputs": [
    {
     "data": {
      "image/png": "[encoded data removed]",
      "text/plain": [
       "<matplotlib.figure.Figure at 0x1b8052a0908>"
      ]
     },
     "metadata": {},
     "output_type": "display_data"
    }
   ],
   "source": [
    "plt.figure(figsize=(10,8))\n",
    "plt.hist(returns, bins=len(returns), normed=True)#, normed=True)\n",
    "lnspc10 = np.linspace(-0.4, 0.4, len(returns))\n",
    "pdf_g10 = stats.norm.pdf(lnspc10, m, s) \n",
    "plt.plot(lnspc10, pdf_g10, label=\"Normal ($\\mu = 0.023$, $\\sigma = 0.131$)\") # plot it\n",
    "pdf_cauch = stats.cauchy.pdf(lnspc10, m, 0.06)  # This gamma of 0.02 was chosen totally randomly\n",
    "plt.plot(lnspc10, pdf_cauch, label=\"Cauchy ($\\mu = 0.023$, $\\gamma = 0.06$)\", linewidth=2.5) # plot it\n",
    "\n",
    "# Visualize\n",
    "plt.legend()\n",
    "plt.title('BTC-GBP (10 day interval)')\n",
    "plt.ylabel('Density')\n",
    "plt.xlabel('Return (10 day interval)')\n",
    "plt.xlim(-0.3,0.3)\n",
    "# plt.savefig('Normalised Histogram (BTC-USD)')\n",
    "plt.show()"
   ]
  },
  {
   "cell_type": "code",
   "execution_count": 93,
   "metadata": {
    "collapsed": false
   },
   "outputs": [
    {
     "data": {
      "image/png": "[encoded data removed]",
      "text/plain": [
       "<matplotlib.figure.Figure at 0x1b805fe60b8>"
      ]
     },
     "metadata": {},
     "output_type": "display_data"
    }
   ],
   "source": [
    "stats.probplot(returns, dist=\"norm\", plot=plt)\n",
    "plt.title('Probability Plot: Normal Distribution')\n",
    "plt.show()"
   ]
  },
  {
   "cell_type": "code",
   "execution_count": 94,
   "metadata": {
    "collapsed": false
   },
   "outputs": [
    {
     "data": {
      "image/png": "[encoded data removed]",
      "text/plain": [
       "<matplotlib.figure.Figure at 0x1b8051f2550>"
      ]
     },
     "metadata": {},
     "output_type": "display_data"
    }
   ],
   "source": [
    "stats.probplot(returns, dist=stats.cauchy, plot=plt)\n",
    "# plt.xlim(-200,200)\n",
    "plt.title('Probability Plot: Cauchy')\n",
    "plt.show()"
   ]
  },
  {
   "cell_type": "markdown",
   "metadata": {},
   "source": [
    "### Compare PDFs by overlaying the probability density functions for different intervals"
   ]
  },
  {
   "cell_type": "code",
   "execution_count": 95,
   "metadata": {
    "collapsed": false
   },
   "outputs": [
    {
     "data": {
      "image/png": "[encoded data removed]",
      "text/plain": [
       "<matplotlib.figure.Figure at 0x1b805fde5c0>"
      ]
     },
     "metadata": {},
     "output_type": "display_data"
    }
   ],
   "source": [
    "plt.figure(figsize=(10,8))\n",
    "plt.plot(lnspc1, pdf_g1, label=\"1 day interval\", c='C0')\n",
    "plt.axvline(x=m1, ls='--', lw=0.8, c='C0')\n",
    "# plt.axvline(x=-s1, ls='-.', lw=0.8, c='C0')\n",
    "plt.axvline(x=s1, ls=':', lw=0.8, c='C0')\n",
    "plt.plot(lnspc5, pdf_g5, label=\"5 day interval\", c='C1')\n",
    "plt.axvline(x=m5, ls='--', lw=0.8, c='C1')\n",
    "# plt.axvline(x=-s5, ls='-.', lw=0.8, c='C1')\n",
    "plt.axvline(x=s5, ls=':', lw=0.8, c='C1')\n",
    "plt.plot(lnspc10, pdf_g10, label=\"10 day interval\", c='C2')\n",
    "plt.axvline(x=m10, ls='--', lw=0.8, c='C2')\n",
    "# plt.axvline(x=-s10, ls='-.', lw=0.8, c='C2')\n",
    "plt.axvline(x=s10, ls=':', lw=0.8, c='C2')\n",
    "plt.legend()\n",
    "plt.xlabel('Return')\n",
    "plt.ylabel('Density')\n",
    "plt.show()"
   ]
  },
  {
   "cell_type": "markdown",
   "metadata": {},
   "source": [
    "It can be observed that for this dataset, as the width of the time interval for returns increases: the mean of the PDF increases, the peak density decreases, and the standard deviation increases. \n",
    "\n",
    "Therefore we can see that using a higher timeframe interval, "
   ]
  },
  {
   "cell_type": "markdown",
   "metadata": {},
   "source": [
    "## (b) (i) Calculate the annual drift and volatility of the share price using a 60 day rolling average over the last year, plotting your results on a graph as a function of time. "
   ]
  },
  {
   "cell_type": "code",
   "execution_count": 96,
   "metadata": {
    "collapsed": false
   },
   "outputs": [
    {
     "data": {
      "text/html": [
       "<div>\n",
       "<table border=\"1\" class=\"dataframe\">\n",
       "  <thead>\n",
       "    <tr style=\"text-align: right;\">\n",
       "      <th></th>\n",
       "      <th>Date</th>\n",
       "      <th>Open</th>\n",
       "      <th>High</th>\n",
       "      <th>Low</th>\n",
       "      <th>Close</th>\n",
       "      <th>Adj Close</th>\n",
       "      <th>Volume</th>\n",
       "    </tr>\n",
       "  </thead>\n",
       "  <tbody>\n",
       "    <tr>\n",
       "      <th>0</th>\n",
       "      <td>2011-09-05</td>\n",
       "      <td>4.440000</td>\n",
       "      <td>4.440000</td>\n",
       "      <td>4.060000</td>\n",
       "      <td>4.250000</td>\n",
       "      <td>4.250000</td>\n",
       "      <td>839</td>\n",
       "    </tr>\n",
       "    <tr>\n",
       "      <th>1</th>\n",
       "      <td>2011-09-06</td>\n",
       "      <td>4.250000</td>\n",
       "      <td>4.510000</td>\n",
       "      <td>4.260000</td>\n",
       "      <td>4.260000</td>\n",
       "      <td>4.260000</td>\n",
       "      <td>127</td>\n",
       "    </tr>\n",
       "    <tr>\n",
       "      <th>2</th>\n",
       "      <td>2011-09-07</td>\n",
       "      <td>4.260000</td>\n",
       "      <td>4.430000</td>\n",
       "      <td>4.210000</td>\n",
       "      <td>4.210000</td>\n",
       "      <td>4.210000</td>\n",
       "      <td>50</td>\n",
       "    </tr>\n",
       "    <tr>\n",
       "      <th>3</th>\n",
       "      <td>2011-09-08</td>\n",
       "      <td>4.210000</td>\n",
       "      <td>3.890000</td>\n",
       "      <td>3.000000</td>\n",
       "      <td>3.160000</td>\n",
       "      <td>3.160000</td>\n",
       "      <td>626</td>\n",
       "    </tr>\n",
       "    <tr>\n",
       "      <th>4</th>\n",
       "      <td>2011-09-09</td>\n",
       "      <td>3.160000</td>\n",
       "      <td>3.300000</td>\n",
       "      <td>3.000000</td>\n",
       "      <td>3.000000</td>\n",
       "      <td>3.000000</td>\n",
       "      <td>72</td>\n",
       "    </tr>\n",
       "    <tr>\n",
       "      <th>5</th>\n",
       "      <td>2011-09-10</td>\n",
       "      <td>3.000000</td>\n",
       "      <td>4.000000</td>\n",
       "      <td>2.950000</td>\n",
       "      <td>3.000000</td>\n",
       "      <td>3.000000</td>\n",
       "      <td>233</td>\n",
       "    </tr>\n",
       "    <tr>\n",
       "      <th>6</th>\n",
       "      <td>2011-09-11</td>\n",
       "      <td>3.000000</td>\n",
       "      <td>3.990000</td>\n",
       "      <td>2.970000</td>\n",
       "      <td>2.970000</td>\n",
       "      <td>2.970000</td>\n",
       "      <td>88</td>\n",
       "    </tr>\n",
       "    <tr>\n",
       "      <th>7</th>\n",
       "      <td>2011-09-12</td>\n",
       "      <td>2.970000</td>\n",
       "      <td>3.850000</td>\n",
       "      <td>3.620000</td>\n",
       "      <td>3.690000</td>\n",
       "      <td>3.690000</td>\n",
       "      <td>1017</td>\n",
       "    </tr>\n",
       "    <tr>\n",
       "      <th>8</th>\n",
       "      <td>2011-09-13</td>\n",
       "      <td>3.690000</td>\n",
       "      <td>3.600000</td>\n",
       "      <td>3.500000</td>\n",
       "      <td>3.500000</td>\n",
       "      <td>3.500000</td>\n",
       "      <td>28</td>\n",
       "    </tr>\n",
       "    <tr>\n",
       "      <th>9</th>\n",
       "      <td>2011-09-14</td>\n",
       "      <td>3.500000</td>\n",
       "      <td>3.210000</td>\n",
       "      <td>2.950000</td>\n",
       "      <td>3.210000</td>\n",
       "      <td>3.210000</td>\n",
       "      <td>172</td>\n",
       "    </tr>\n",
       "    <tr>\n",
       "      <th>10</th>\n",
       "      <td>2011-09-15</td>\n",
       "      <td>3.210000</td>\n",
       "      <td>3.180000</td>\n",
       "      <td>3.040000</td>\n",
       "      <td>3.040000</td>\n",
       "      <td>3.040000</td>\n",
       "      <td>464</td>\n",
       "    </tr>\n",
       "    <tr>\n",
       "      <th>11</th>\n",
       "      <td>2011-09-16</td>\n",
       "      <td>3.040000</td>\n",
       "      <td>3.190000</td>\n",
       "      <td>3.040000</td>\n",
       "      <td>3.040000</td>\n",
       "      <td>3.040000</td>\n",
       "      <td>233</td>\n",
       "    </tr>\n",
       "    <tr>\n",
       "      <th>12</th>\n",
       "      <td>2011-09-17</td>\n",
       "      <td>3.040000</td>\n",
       "      <td>3.290000</td>\n",
       "      <td>3.290000</td>\n",
       "      <td>3.290000</td>\n",
       "      <td>3.290000</td>\n",
       "      <td>6</td>\n",
       "    </tr>\n",
       "    <tr>\n",
       "      <th>13</th>\n",
       "      <td>2011-09-18</td>\n",
       "      <td>3.290000</td>\n",
       "      <td>3.570000</td>\n",
       "      <td>3.200000</td>\n",
       "      <td>3.570000</td>\n",
       "      <td>3.570000</td>\n",
       "      <td>7</td>\n",
       "    </tr>\n",
       "    <tr>\n",
       "      <th>14</th>\n",
       "      <td>2011-09-19</td>\n",
       "      <td>3.570000</td>\n",
       "      <td>3.850000</td>\n",
       "      <td>3.720000</td>\n",
       "      <td>3.850000</td>\n",
       "      <td>3.850000</td>\n",
       "      <td>31</td>\n",
       "    </tr>\n",
       "    <tr>\n",
       "      <th>15</th>\n",
       "      <td>2011-09-20</td>\n",
       "      <td>3.850000</td>\n",
       "      <td>3.870000</td>\n",
       "      <td>3.280000</td>\n",
       "      <td>3.620000</td>\n",
       "      <td>3.620000</td>\n",
       "      <td>2893</td>\n",
       "    </tr>\n",
       "    <tr>\n",
       "      <th>16</th>\n",
       "      <td>2011-09-21</td>\n",
       "      <td>3.620000</td>\n",
       "      <td>3.700000</td>\n",
       "      <td>3.580000</td>\n",
       "      <td>3.600000</td>\n",
       "      <td>3.600000</td>\n",
       "      <td>628</td>\n",
       "    </tr>\n",
       "    <tr>\n",
       "      <th>17</th>\n",
       "      <td>2011-09-22</td>\n",
       "      <td>3.600000</td>\n",
       "      <td>3.740000</td>\n",
       "      <td>3.460000</td>\n",
       "      <td>3.740000</td>\n",
       "      <td>3.740000</td>\n",
       "      <td>417</td>\n",
       "    </tr>\n",
       "    <tr>\n",
       "      <th>18</th>\n",
       "      <td>2011-09-23</td>\n",
       "      <td>3.740000</td>\n",
       "      <td>3.620000</td>\n",
       "      <td>3.580000</td>\n",
       "      <td>3.620000</td>\n",
       "      <td>3.620000</td>\n",
       "      <td>10</td>\n",
       "    </tr>\n",
       "    <tr>\n",
       "      <th>19</th>\n",
       "      <td>2011-09-24</td>\n",
       "      <td>3.620000</td>\n",
       "      <td>3.620000</td>\n",
       "      <td>3.620000</td>\n",
       "      <td>3.620000</td>\n",
       "      <td>3.620000</td>\n",
       "      <td>0</td>\n",
       "    </tr>\n",
       "    <tr>\n",
       "      <th>20</th>\n",
       "      <td>2011-09-25</td>\n",
       "      <td>3.620000</td>\n",
       "      <td>3.400000</td>\n",
       "      <td>3.150000</td>\n",
       "      <td>3.240000</td>\n",
       "      <td>3.240000</td>\n",
       "      <td>113</td>\n",
       "    </tr>\n",
       "    <tr>\n",
       "      <th>21</th>\n",
       "      <td>2011-09-26</td>\n",
       "      <td>3.240000</td>\n",
       "      <td>3.270000</td>\n",
       "      <td>3.230000</td>\n",
       "      <td>3.230000</td>\n",
       "      <td>3.230000</td>\n",
       "      <td>524</td>\n",
       "    </tr>\n",
       "    <tr>\n",
       "      <th>22</th>\n",
       "      <td>2011-09-27</td>\n",
       "      <td>3.230000</td>\n",
       "      <td>3.200000</td>\n",
       "      <td>3.050000</td>\n",
       "      <td>3.150000</td>\n",
       "      <td>3.150000</td>\n",
       "      <td>1316</td>\n",
       "    </tr>\n",
       "    <tr>\n",
       "      <th>23</th>\n",
       "      <td>2011-09-28</td>\n",
       "      <td>3.150000</td>\n",
       "      <td>3.140000</td>\n",
       "      <td>3.070000</td>\n",
       "      <td>3.110000</td>\n",
       "      <td>3.110000</td>\n",
       "      <td>1001</td>\n",
       "    </tr>\n",
       "    <tr>\n",
       "      <th>24</th>\n",
       "      <td>2011-09-29</td>\n",
       "      <td>3.110000</td>\n",
       "      <td>3.350000</td>\n",
       "      <td>3.060000</td>\n",
       "      <td>3.350000</td>\n",
       "      <td>3.350000</td>\n",
       "      <td>189</td>\n",
       "    </tr>\n",
       "    <tr>\n",
       "      <th>25</th>\n",
       "      <td>2011-09-30</td>\n",
       "      <td>3.350000</td>\n",
       "      <td>3.300000</td>\n",
       "      <td>3.300000</td>\n",
       "      <td>3.300000</td>\n",
       "      <td>3.300000</td>\n",
       "      <td>1</td>\n",
       "    </tr>\n",
       "    <tr>\n",
       "      <th>26</th>\n",
       "      <td>2011-10-01</td>\n",
       "      <td>3.300000</td>\n",
       "      <td>3.300000</td>\n",
       "      <td>3.300000</td>\n",
       "      <td>3.300000</td>\n",
       "      <td>3.300000</td>\n",
       "      <td>0</td>\n",
       "    </tr>\n",
       "    <tr>\n",
       "      <th>27</th>\n",
       "      <td>2011-10-02</td>\n",
       "      <td>3.300000</td>\n",
       "      <td>3.270000</td>\n",
       "      <td>3.230000</td>\n",
       "      <td>3.260000</td>\n",
       "      <td>3.260000</td>\n",
       "      <td>77</td>\n",
       "    </tr>\n",
       "    <tr>\n",
       "      <th>28</th>\n",
       "      <td>2011-10-03</td>\n",
       "      <td>3.260000</td>\n",
       "      <td>3.310000</td>\n",
       "      <td>3.270000</td>\n",
       "      <td>3.280000</td>\n",
       "      <td>3.280000</td>\n",
       "      <td>2393</td>\n",
       "    </tr>\n",
       "    <tr>\n",
       "      <th>29</th>\n",
       "      <td>2011-10-04</td>\n",
       "      <td>3.280000</td>\n",
       "      <td>3.280000</td>\n",
       "      <td>3.270000</td>\n",
       "      <td>3.280000</td>\n",
       "      <td>3.280000</td>\n",
       "      <td>53</td>\n",
       "    </tr>\n",
       "    <tr>\n",
       "      <th>...</th>\n",
       "      <td>...</td>\n",
       "      <td>...</td>\n",
       "      <td>...</td>\n",
       "      <td>...</td>\n",
       "      <td>...</td>\n",
       "      <td>...</td>\n",
       "      <td>...</td>\n",
       "    </tr>\n",
       "    <tr>\n",
       "      <th>2396</th>\n",
       "      <td>2018-03-28</td>\n",
       "      <td>5673.990234</td>\n",
       "      <td>5715.220215</td>\n",
       "      <td>4947.870117</td>\n",
       "      <td>5092.839844</td>\n",
       "      <td>5092.839844</td>\n",
       "      <td>7744067</td>\n",
       "    </tr>\n",
       "    <tr>\n",
       "      <th>2397</th>\n",
       "      <td>2018-03-29</td>\n",
       "      <td>5092.839844</td>\n",
       "      <td>5218.450195</td>\n",
       "      <td>4739.629883</td>\n",
       "      <td>4927.060059</td>\n",
       "      <td>4927.060059</td>\n",
       "      <td>7512843</td>\n",
       "    </tr>\n",
       "    <tr>\n",
       "      <th>2398</th>\n",
       "      <td>2018-03-30</td>\n",
       "      <td>4926.799805</td>\n",
       "      <td>5173.839844</td>\n",
       "      <td>4902.430176</td>\n",
       "      <td>4966.979980</td>\n",
       "      <td>4966.979980</td>\n",
       "      <td>4703919</td>\n",
       "    </tr>\n",
       "    <tr>\n",
       "      <th>2399</th>\n",
       "      <td>2018-03-31</td>\n",
       "      <td>4966.979980</td>\n",
       "      <td>5029.220215</td>\n",
       "      <td>4667.529785</td>\n",
       "      <td>4892.830078</td>\n",
       "      <td>4892.830078</td>\n",
       "      <td>4157448</td>\n",
       "    </tr>\n",
       "    <tr>\n",
       "      <th>2400</th>\n",
       "      <td>2018-04-01</td>\n",
       "      <td>4892.830078</td>\n",
       "      <td>5065.509766</td>\n",
       "      <td>4843.189941</td>\n",
       "      <td>5022.040039</td>\n",
       "      <td>5022.040039</td>\n",
       "      <td>3347583</td>\n",
       "    </tr>\n",
       "    <tr>\n",
       "      <th>2401</th>\n",
       "      <td>2018-04-02</td>\n",
       "      <td>5022.040039</td>\n",
       "      <td>5389.509766</td>\n",
       "      <td>4994.660156</td>\n",
       "      <td>5278.580078</td>\n",
       "      <td>5278.580078</td>\n",
       "      <td>5943117</td>\n",
       "    </tr>\n",
       "    <tr>\n",
       "      <th>2402</th>\n",
       "      <td>2018-04-03</td>\n",
       "      <td>5278.580078</td>\n",
       "      <td>5351.060059</td>\n",
       "      <td>4786.669922</td>\n",
       "      <td>4896.979980</td>\n",
       "      <td>4896.979980</td>\n",
       "      <td>5840540</td>\n",
       "    </tr>\n",
       "    <tr>\n",
       "      <th>2403</th>\n",
       "      <td>2018-04-04</td>\n",
       "      <td>4892.759766</td>\n",
       "      <td>4980.810059</td>\n",
       "      <td>4712.939941</td>\n",
       "      <td>4874.009766</td>\n",
       "      <td>4874.009766</td>\n",
       "      <td>5733655</td>\n",
       "    </tr>\n",
       "    <tr>\n",
       "      <th>2404</th>\n",
       "      <td>2018-04-05</td>\n",
       "      <td>4874.009766</td>\n",
       "      <td>4915.140137</td>\n",
       "      <td>4652.839844</td>\n",
       "      <td>4753.810059</td>\n",
       "      <td>4753.810059</td>\n",
       "      <td>4609139</td>\n",
       "    </tr>\n",
       "    <tr>\n",
       "      <th>2405</th>\n",
       "      <td>2018-04-06</td>\n",
       "      <td>4753.810059</td>\n",
       "      <td>5022.609863</td>\n",
       "      <td>4675.189941</td>\n",
       "      <td>4879.740234</td>\n",
       "      <td>4879.740234</td>\n",
       "      <td>3648559</td>\n",
       "    </tr>\n",
       "    <tr>\n",
       "      <th>2406</th>\n",
       "      <td>2018-04-07</td>\n",
       "      <td>4879.740234</td>\n",
       "      <td>5081.209961</td>\n",
       "      <td>4868.779785</td>\n",
       "      <td>4976.339844</td>\n",
       "      <td>4976.339844</td>\n",
       "      <td>1996706</td>\n",
       "    </tr>\n",
       "    <tr>\n",
       "      <th>2407</th>\n",
       "      <td>2018-04-08</td>\n",
       "      <td>4975.879883</td>\n",
       "      <td>5079.540039</td>\n",
       "      <td>4741.919922</td>\n",
       "      <td>4835.439941</td>\n",
       "      <td>4835.439941</td>\n",
       "      <td>4039636</td>\n",
       "    </tr>\n",
       "    <tr>\n",
       "      <th>2408</th>\n",
       "      <td>2018-04-09</td>\n",
       "      <td>4835.439941</td>\n",
       "      <td>4903.529785</td>\n",
       "      <td>4742.609863</td>\n",
       "      <td>4844.529785</td>\n",
       "      <td>4844.529785</td>\n",
       "      <td>3403870</td>\n",
       "    </tr>\n",
       "    <tr>\n",
       "      <th>2409</th>\n",
       "      <td>2018-04-10</td>\n",
       "      <td>4844.529785</td>\n",
       "      <td>5010.100098</td>\n",
       "      <td>4643.790039</td>\n",
       "      <td>4870.319824</td>\n",
       "      <td>4870.319824</td>\n",
       "      <td>3760597</td>\n",
       "    </tr>\n",
       "    <tr>\n",
       "      <th>2410</th>\n",
       "      <td>2018-04-11</td>\n",
       "      <td>4870.319824</td>\n",
       "      <td>5571.120117</td>\n",
       "      <td>4561.430176</td>\n",
       "      <td>5524.629883</td>\n",
       "      <td>5524.629883</td>\n",
       "      <td>8934594</td>\n",
       "    </tr>\n",
       "    <tr>\n",
       "      <th>2411</th>\n",
       "      <td>2018-04-12</td>\n",
       "      <td>5532.509766</td>\n",
       "      <td>5801.240234</td>\n",
       "      <td>5403.270020</td>\n",
       "      <td>5510.439941</td>\n",
       "      <td>5510.439941</td>\n",
       "      <td>6794541</td>\n",
       "    </tr>\n",
       "    <tr>\n",
       "      <th>2412</th>\n",
       "      <td>2018-04-13</td>\n",
       "      <td>5510.439941</td>\n",
       "      <td>5780.540039</td>\n",
       "      <td>5502.290039</td>\n",
       "      <td>5609.759766</td>\n",
       "      <td>5609.759766</td>\n",
       "      <td>3310007</td>\n",
       "    </tr>\n",
       "    <tr>\n",
       "      <th>2413</th>\n",
       "      <td>2018-04-14</td>\n",
       "      <td>5577.490234</td>\n",
       "      <td>5921.689941</td>\n",
       "      <td>5499.270020</td>\n",
       "      <td>5896.700195</td>\n",
       "      <td>5896.700195</td>\n",
       "      <td>4077309</td>\n",
       "    </tr>\n",
       "    <tr>\n",
       "      <th>2414</th>\n",
       "      <td>2018-04-15</td>\n",
       "      <td>5896.700195</td>\n",
       "      <td>5935.299805</td>\n",
       "      <td>5512.859863</td>\n",
       "      <td>5654.500000</td>\n",
       "      <td>5654.500000</td>\n",
       "      <td>4453191</td>\n",
       "    </tr>\n",
       "    <tr>\n",
       "      <th>2415</th>\n",
       "      <td>2018-04-16</td>\n",
       "      <td>5654.500000</td>\n",
       "      <td>5759.790039</td>\n",
       "      <td>5494.979980</td>\n",
       "      <td>5518.990234</td>\n",
       "      <td>5518.990234</td>\n",
       "      <td>5970562</td>\n",
       "    </tr>\n",
       "    <tr>\n",
       "      <th>2416</th>\n",
       "      <td>2018-04-17</td>\n",
       "      <td>5518.990234</td>\n",
       "      <td>5897.319824</td>\n",
       "      <td>5467.600098</td>\n",
       "      <td>5665.009766</td>\n",
       "      <td>5665.009766</td>\n",
       "      <td>6328677</td>\n",
       "    </tr>\n",
       "    <tr>\n",
       "      <th>2417</th>\n",
       "      <td>2018-04-18</td>\n",
       "      <td>5665.009766</td>\n",
       "      <td>5953.770020</td>\n",
       "      <td>5554.660156</td>\n",
       "      <td>5829.120117</td>\n",
       "      <td>5829.120117</td>\n",
       "      <td>5874304</td>\n",
       "    </tr>\n",
       "    <tr>\n",
       "      <th>2418</th>\n",
       "      <td>2018-04-19</td>\n",
       "      <td>5829.120117</td>\n",
       "      <td>6428.390137</td>\n",
       "      <td>5702.379883</td>\n",
       "      <td>6297.609863</td>\n",
       "      <td>6297.609863</td>\n",
       "      <td>7047664</td>\n",
       "    </tr>\n",
       "    <tr>\n",
       "      <th>2419</th>\n",
       "      <td>2018-04-20</td>\n",
       "      <td>6298.209961</td>\n",
       "      <td>6456.009766</td>\n",
       "      <td>6118.279785</td>\n",
       "      <td>6266.229980</td>\n",
       "      <td>6266.229980</td>\n",
       "      <td>6918869</td>\n",
       "    </tr>\n",
       "    <tr>\n",
       "      <th>2420</th>\n",
       "      <td>2018-04-21</td>\n",
       "      <td>6266.229980</td>\n",
       "      <td>6507.279785</td>\n",
       "      <td>6119.770020</td>\n",
       "      <td>6169.479980</td>\n",
       "      <td>6169.479980</td>\n",
       "      <td>5725814</td>\n",
       "    </tr>\n",
       "    <tr>\n",
       "      <th>2421</th>\n",
       "      <td>2018-04-22</td>\n",
       "      <td>6169.479980</td>\n",
       "      <td>6503.109863</td>\n",
       "      <td>6138.160156</td>\n",
       "      <td>6343.649902</td>\n",
       "      <td>6343.649902</td>\n",
       "      <td>6121250</td>\n",
       "    </tr>\n",
       "    <tr>\n",
       "      <th>2422</th>\n",
       "      <td>2018-04-23</td>\n",
       "      <td>6343.649902</td>\n",
       "      <td>6944.270020</td>\n",
       "      <td>6343.649902</td>\n",
       "      <td>6885.180176</td>\n",
       "      <td>6885.180176</td>\n",
       "      <td>8103967</td>\n",
       "    </tr>\n",
       "    <tr>\n",
       "      <th>2423</th>\n",
       "      <td>2018-04-24</td>\n",
       "      <td>6885.180176</td>\n",
       "      <td>6991.259766</td>\n",
       "      <td>6283.060059</td>\n",
       "      <td>6358.529785</td>\n",
       "      <td>6358.529785</td>\n",
       "      <td>9485435</td>\n",
       "    </tr>\n",
       "    <tr>\n",
       "      <th>2424</th>\n",
       "      <td>2018-04-25</td>\n",
       "      <td>6358.529785</td>\n",
       "      <td>6677.970215</td>\n",
       "      <td>6230.850098</td>\n",
       "      <td>6673.580078</td>\n",
       "      <td>6673.580078</td>\n",
       "      <td>5999771</td>\n",
       "    </tr>\n",
       "    <tr>\n",
       "      <th>2425</th>\n",
       "      <td>2018-04-30</td>\n",
       "      <td>6815.259766</td>\n",
       "      <td>6910.450195</td>\n",
       "      <td>6548.390137</td>\n",
       "      <td>6776.899902</td>\n",
       "      <td>6776.899902</td>\n",
       "      <td>2456423</td>\n",
       "    </tr>\n",
       "  </tbody>\n",
       "</table>\n",
       "<p>2426 rows × 7 columns</p>\n",
       "</div>"
      ],
      "text/plain": [
       "            Date         Open         High          Low        Close  \\\n",
       "0     2011-09-05     4.440000     4.440000     4.060000     4.250000   \n",
       "1     2011-09-06     4.250000     4.510000     4.260000     4.260000   \n",
       "2     2011-09-07     4.260000     4.430000     4.210000     4.210000   \n",
       "3     2011-09-08     4.210000     3.890000     3.000000     3.160000   \n",
       "4     2011-09-09     3.160000     3.300000     3.000000     3.000000   \n",
       "5     2011-09-10     3.000000     4.000000     2.950000     3.000000   \n",
       "6     2011-09-11     3.000000     3.990000     2.970000     2.970000   \n",
       "7     2011-09-12     2.970000     3.850000     3.620000     3.690000   \n",
       "8     2011-09-13     3.690000     3.600000     3.500000     3.500000   \n",
       "9     2011-09-14     3.500000     3.210000     2.950000     3.210000   \n",
       "10    2011-09-15     3.210000     3.180000     3.040000     3.040000   \n",
       "11    2011-09-16     3.040000     3.190000     3.040000     3.040000   \n",
       "12    2011-09-17     3.040000     3.290000     3.290000     3.290000   \n",
       "13    2011-09-18     3.290000     3.570000     3.200000     3.570000   \n",
       "14    2011-09-19     3.570000     3.850000     3.720000     3.850000   \n",
       "15    2011-09-20     3.850000     3.870000     3.280000     3.620000   \n",
       "16    2011-09-21     3.620000     3.700000     3.580000     3.600000   \n",
       "17    2011-09-22     3.600000     3.740000     3.460000     3.740000   \n",
       "18    2011-09-23     3.740000     3.620000     3.580000     3.620000   \n",
       "19    2011-09-24     3.620000     3.620000     3.620000     3.620000   \n",
       "20    2011-09-25     3.620000     3.400000     3.150000     3.240000   \n",
       "21    2011-09-26     3.240000     3.270000     3.230000     3.230000   \n",
       "22    2011-09-27     3.230000     3.200000     3.050000     3.150000   \n",
       "23    2011-09-28     3.150000     3.140000     3.070000     3.110000   \n",
       "24    2011-09-29     3.110000     3.350000     3.060000     3.350000   \n",
       "25    2011-09-30     3.350000     3.300000     3.300000     3.300000   \n",
       "26    2011-10-01     3.300000     3.300000     3.300000     3.300000   \n",
       "27    2011-10-02     3.300000     3.270000     3.230000     3.260000   \n",
       "28    2011-10-03     3.260000     3.310000     3.270000     3.280000   \n",
       "29    2011-10-04     3.280000     3.280000     3.270000     3.280000   \n",
       "...          ...          ...          ...          ...          ...   \n",
       "2396  2018-03-28  5673.990234  5715.220215  4947.870117  5092.839844   \n",
       "2397  2018-03-29  5092.839844  5218.450195  4739.629883  4927.060059   \n",
       "2398  2018-03-30  4926.799805  5173.839844  4902.430176  4966.979980   \n",
       "2399  2018-03-31  4966.979980  5029.220215  4667.529785  4892.830078   \n",
       "2400  2018-04-01  4892.830078  5065.509766  4843.189941  5022.040039   \n",
       "2401  2018-04-02  5022.040039  5389.509766  4994.660156  5278.580078   \n",
       "2402  2018-04-03  5278.580078  5351.060059  4786.669922  4896.979980   \n",
       "2403  2018-04-04  4892.759766  4980.810059  4712.939941  4874.009766   \n",
       "2404  2018-04-05  4874.009766  4915.140137  4652.839844  4753.810059   \n",
       "2405  2018-04-06  4753.810059  5022.609863  4675.189941  4879.740234   \n",
       "2406  2018-04-07  4879.740234  5081.209961  4868.779785  4976.339844   \n",
       "2407  2018-04-08  4975.879883  5079.540039  4741.919922  4835.439941   \n",
       "2408  2018-04-09  4835.439941  4903.529785  4742.609863  4844.529785   \n",
       "2409  2018-04-10  4844.529785  5010.100098  4643.790039  4870.319824   \n",
       "2410  2018-04-11  4870.319824  5571.120117  4561.430176  5524.629883   \n",
       "2411  2018-04-12  5532.509766  5801.240234  5403.270020  5510.439941   \n",
       "2412  2018-04-13  5510.439941  5780.540039  5502.290039  5609.759766   \n",
       "2413  2018-04-14  5577.490234  5921.689941  5499.270020  5896.700195   \n",
       "2414  2018-04-15  5896.700195  5935.299805  5512.859863  5654.500000   \n",
       "2415  2018-04-16  5654.500000  5759.790039  5494.979980  5518.990234   \n",
       "2416  2018-04-17  5518.990234  5897.319824  5467.600098  5665.009766   \n",
       "2417  2018-04-18  5665.009766  5953.770020  5554.660156  5829.120117   \n",
       "2418  2018-04-19  5829.120117  6428.390137  5702.379883  6297.609863   \n",
       "2419  2018-04-20  6298.209961  6456.009766  6118.279785  6266.229980   \n",
       "2420  2018-04-21  6266.229980  6507.279785  6119.770020  6169.479980   \n",
       "2421  2018-04-22  6169.479980  6503.109863  6138.160156  6343.649902   \n",
       "2422  2018-04-23  6343.649902  6944.270020  6343.649902  6885.180176   \n",
       "2423  2018-04-24  6885.180176  6991.259766  6283.060059  6358.529785   \n",
       "2424  2018-04-25  6358.529785  6677.970215  6230.850098  6673.580078   \n",
       "2425  2018-04-30  6815.259766  6910.450195  6548.390137  6776.899902   \n",
       "\n",
       "        Adj Close   Volume  \n",
       "0        4.250000      839  \n",
       "1        4.260000      127  \n",
       "2        4.210000       50  \n",
       "3        3.160000      626  \n",
       "4        3.000000       72  \n",
       "5        3.000000      233  \n",
       "6        2.970000       88  \n",
       "7        3.690000     1017  \n",
       "8        3.500000       28  \n",
       "9        3.210000      172  \n",
       "10       3.040000      464  \n",
       "11       3.040000      233  \n",
       "12       3.290000        6  \n",
       "13       3.570000        7  \n",
       "14       3.850000       31  \n",
       "15       3.620000     2893  \n",
       "16       3.600000      628  \n",
       "17       3.740000      417  \n",
       "18       3.620000       10  \n",
       "19       3.620000        0  \n",
       "20       3.240000      113  \n",
       "21       3.230000      524  \n",
       "22       3.150000     1316  \n",
       "23       3.110000     1001  \n",
       "24       3.350000      189  \n",
       "25       3.300000        1  \n",
       "26       3.300000        0  \n",
       "27       3.260000       77  \n",
       "28       3.280000     2393  \n",
       "29       3.280000       53  \n",
       "...           ...      ...  \n",
       "2396  5092.839844  7744067  \n",
       "2397  4927.060059  7512843  \n",
       "2398  4966.979980  4703919  \n",
       "2399  4892.830078  4157448  \n",
       "2400  5022.040039  3347583  \n",
       "2401  5278.580078  5943117  \n",
       "2402  4896.979980  5840540  \n",
       "2403  4874.009766  5733655  \n",
       "2404  4753.810059  4609139  \n",
       "2405  4879.740234  3648559  \n",
       "2406  4976.339844  1996706  \n",
       "2407  4835.439941  4039636  \n",
       "2408  4844.529785  3403870  \n",
       "2409  4870.319824  3760597  \n",
       "2410  5524.629883  8934594  \n",
       "2411  5510.439941  6794541  \n",
       "2412  5609.759766  3310007  \n",
       "2413  5896.700195  4077309  \n",
       "2414  5654.500000  4453191  \n",
       "2415  5518.990234  5970562  \n",
       "2416  5665.009766  6328677  \n",
       "2417  5829.120117  5874304  \n",
       "2418  6297.609863  7047664  \n",
       "2419  6266.229980  6918869  \n",
       "2420  6169.479980  5725814  \n",
       "2421  6343.649902  6121250  \n",
       "2422  6885.180176  8103967  \n",
       "2423  6358.529785  9485435  \n",
       "2424  6673.580078  5999771  \n",
       "2425  6776.899902  2456423  \n",
       "\n",
       "[2426 rows x 7 columns]"
      ]
     },
     "execution_count": 96,
     "metadata": {},
     "output_type": "execute_result"
    }
   ],
   "source": [
    "data"
   ]
  },
  {
   "cell_type": "code",
   "execution_count": 97,
   "metadata": {
    "collapsed": false
   },
   "outputs": [],
   "source": [
    "last_year_adj_close = list(data['Adj Close'][-365-60:])"
   ]
  },
  {
   "cell_type": "markdown",
   "metadata": {},
   "source": [
    "Assuming the share price is log-normal distributed, calculate the drift:"
   ]
  },
  {
   "cell_type": "markdown",
   "metadata": {},
   "source": [
    "### Drift $\\mu$\n",
    "\n",
    "* Need to set a value for n"
   ]
  },
  {
   "cell_type": "markdown",
   "metadata": {},
   "source": [
    "$\\mu_{i} = \\ln{\\frac{S_{i}}{S_{i-1}}}$ \n",
    "\n",
    "$\\mu = \\frac{<\\mu_{i}>}{\\Delta t} + \\frac{\\sigma^{2}}{2}$"
   ]
  },
  {
   "cell_type": "code",
   "execution_count": 98,
   "metadata": {
    "collapsed": false
   },
   "outputs": [
    {
     "data": {
      "text/plain": [
       "(2426,)"
      ]
     },
     "execution_count": 98,
     "metadata": {},
     "output_type": "execute_result"
    }
   ],
   "source": [
    "data['Adj Close'].shape"
   ]
  },
  {
   "cell_type": "code",
   "execution_count": 99,
   "metadata": {
    "collapsed": false
   },
   "outputs": [],
   "source": [
    "from datetime import date"
   ]
  },
  {
   "cell_type": "markdown",
   "metadata": {},
   "source": [
    "Plot the share prices chosen at each of the intervals"
   ]
  },
  {
   "cell_type": "code",
   "execution_count": 100,
   "metadata": {
    "collapsed": false
   },
   "outputs": [
    {
     "data": {
      "text/plain": [
       "425"
      ]
     },
     "execution_count": 100,
     "metadata": {},
     "output_type": "execute_result"
    }
   ],
   "source": [
    "len(last_year_adj_close)"
   ]
  },
  {
   "cell_type": "code",
   "execution_count": 101,
   "metadata": {
    "collapsed": false
   },
   "outputs": [
    {
     "data": {
      "text/plain": [
       "960.3800050000001"
      ]
     },
     "execution_count": 101,
     "metadata": {},
     "output_type": "execute_result"
    }
   ],
   "source": [
    "last_year_adj_close[0]"
   ]
  },
  {
   "cell_type": "markdown",
   "metadata": {},
   "source": [
    "## Plot the drift using a 60 day rolling average.\n",
    "\n",
    "i.e. Plot the drift at each day, taking an average of the 60 days before that day."
   ]
  },
  {
   "cell_type": "code",
   "execution_count": 102,
   "metadata": {
    "collapsed": false
   },
   "outputs": [
    {
     "ename": "NameError",
     "evalue": "name 'S_i' is not defined",
     "output_type": "error",
     "traceback": [
      "\u001b[0;31m---------------------------------------------------------------------------\u001b[0m",
      "\u001b[0;31mNameError\u001b[0m                                 Traceback (most recent call last)",
      "\u001b[0;32m<ipython-input-102-97cea9a17d27>\u001b[0m in \u001b[0;36m<module>\u001b[0;34m()\u001b[0m\n\u001b[1;32m      9\u001b[0m \u001b[1;31m#     print(t)\u001b[0m\u001b[1;33m\u001b[0m\u001b[1;33m\u001b[0m\u001b[0m\n\u001b[1;32m     10\u001b[0m \u001b[1;31m#     S_i = last_year_adj_close[t-1]  # Current share price in time\u001b[0m\u001b[1;33m\u001b[0m\u001b[1;33m\u001b[0m\u001b[0m\n\u001b[0;32m---> 11\u001b[0;31m     \u001b[0mprint\u001b[0m\u001b[1;33m(\u001b[0m\u001b[0mS_i\u001b[0m\u001b[1;33m,\u001b[0m \u001b[0mprevious_S_i\u001b[0m\u001b[1;33m)\u001b[0m\u001b[1;33m\u001b[0m\u001b[0m\n\u001b[0m\u001b[1;32m     12\u001b[0m     \u001b[0mmu_i\u001b[0m \u001b[1;33m=\u001b[0m \u001b[0mnp\u001b[0m\u001b[1;33m.\u001b[0m\u001b[0mlog\u001b[0m\u001b[1;33m(\u001b[0m\u001b[0mS_i\u001b[0m \u001b[1;33m/\u001b[0m \u001b[1;33m(\u001b[0m\u001b[0mprevious_S_i\u001b[0m\u001b[1;33m)\u001b[0m\u001b[1;33m)\u001b[0m  \u001b[1;31m# drift at each 60 day interval\u001b[0m\u001b[1;33m\u001b[0m\u001b[0m\n\u001b[1;32m     13\u001b[0m     \u001b[0mmu_list\u001b[0m\u001b[1;33m.\u001b[0m\u001b[0mappend\u001b[0m\u001b[1;33m(\u001b[0m\u001b[0mmu_i\u001b[0m\u001b[1;33m)\u001b[0m\u001b[1;33m\u001b[0m\u001b[0m\n",
      "\u001b[0;31mNameError\u001b[0m: name 'S_i' is not defined"
     ]
    }
   ],
   "source": [
    "t = 0  # Corresponds to day -60.\n",
    "dt = 60\n",
    "mu_list = []\n",
    "t_list = []\n",
    "previous_S_i = last_year_adj_close[0]\n",
    "for i in range(int(365/60)+1):\n",
    "    t = i*dt # Update time\n",
    "    t_list.append(t+1)\n",
    "#     print(t)\n",
    "#     S_i = last_year_adj_close[t-1]  # Current share price in time\n",
    "    print(S_i, previous_S_i)\n",
    "    mu_i = np.log(S_i / (previous_S_i))  # drift at each 60 day interval\n",
    "    mu_list.append(mu_i)\n",
    "    previous_S_i = S_i"
   ]
  },
  {
   "cell_type": "code",
   "execution_count": null,
   "metadata": {
    "collapsed": false
   },
   "outputs": [],
   "source": [
    "S_i_list = last_year_adj_close\n",
    "len(S_i_list)"
   ]
  },
  {
   "cell_type": "code",
   "execution_count": null,
   "metadata": {
    "collapsed": false
   },
   "outputs": [],
   "source": [
    "425-60"
   ]
  },
  {
   "cell_type": "code",
   "execution_count": null,
   "metadata": {
    "collapsed": false
   },
   "outputs": [],
   "source": [
    "t = 0\n",
    "dt = 60\n",
    "mu_i_list = []\n",
    "t_list = []\n",
    "drift_list = []\n",
    "\n",
    "# Calculate drift for each day for a year\n",
    "for i in range(1, len(S_i_list)):\n",
    "    mu_i = np.log(S_i_list[i] / S_i_list[i-1])\n",
    "    mu_i_list.append(mu_i)\n",
    "\n",
    "t0 = 0\n",
    "for i in range(365):\n",
    "    take_average_of = mu_i_list[t0:t0+60]    \n",
    "    drift_list.append(np.mean(take_average_of)) \n",
    "    t0 += 1"
   ]
  },
  {
   "cell_type": "code",
   "execution_count": null,
   "metadata": {
    "collapsed": false
   },
   "outputs": [],
   "source": [
    "plt.plot(drift_list)\n",
    "plt.title('Drift of Bitcoin Since the Past Year')\n",
    "plt.ylabel('Drift')\n",
    "plt.xlabel('Days')\n",
    "plt.show()"
   ]
  },
  {
   "cell_type": "markdown",
   "metadata": {},
   "source": [
    "## Get the standard deviation to get the volatility"
   ]
  },
  {
   "cell_type": "code",
   "execution_count": null,
   "metadata": {
    "collapsed": false
   },
   "outputs": [],
   "source": [
    "len(mu_i_list)"
   ]
  },
  {
   "cell_type": "code",
   "execution_count": null,
   "metadata": {
    "collapsed": false
   },
   "outputs": [],
   "source": [
    "t0 = 0\n",
    "volatility_list = []\n",
    "while t0 < 365:\n",
    "    first_sum = 0\n",
    "    second_sum = 0\n",
    "    for i in range(t0, t0+60):\n",
    "        first_sum += mu_i_list[i] ** 2 \n",
    "        second_sum += mu_i_list[i]\n",
    "    t0 += 1\n",
    "    n = 60\n",
    "    variance = 1/(n-1) * first_sum - 1/(n*(n-1)) * second_sum ** 2\n",
    "    s = np.sqrt(variance)  # standard deviation\n",
    "#     dt = 1/365  # 1 day\n",
    "    volatility = s / np.sqrt(1/365)\n",
    "    volatility_list.append(volatility)"
   ]
  },
  {
   "cell_type": "code",
   "execution_count": null,
   "metadata": {
    "collapsed": false
   },
   "outputs": [],
   "source": [
    "plt.plot(volatility_list)\n",
    "plt.title('Volatility of BTC-GBP for the past year, using a 60 day rolling average')\n",
    "plt.ylabel('Volatility')\n",
    "plt.xlabel('Days')\n",
    "plt.show()"
   ]
  },
  {
   "cell_type": "markdown",
   "metadata": {},
   "source": [
    "Note that they are always above 0, as you can not have a negative volatility. A volatility of zero means that the price stays constant."
   ]
  },
  {
   "cell_type": "markdown",
   "metadata": {},
   "source": [
    "# Repeat the Calculation, but using Median to calculate drift, and median absolute deviation to find volatility"
   ]
  },
  {
   "cell_type": "code",
   "execution_count": null,
   "metadata": {
    "collapsed": true
   },
   "outputs": [],
   "source": [
    "t = 0\n",
    "dt = 60\n",
    "mu_i_list = []\n",
    "t_list = []\n",
    "drift_list = []\n",
    "\n",
    "# Calculate drift for each day for a year\n",
    "for i in range(1, len(S_i_list)):\n",
    "    mu_i = np.log(S_i_list[i] / S_i_list[i-1])\n",
    "    mu_i_list.append(mu_i)\n",
    "\n",
    "t0 = 0\n",
    "for i in range(365):\n",
    "    take_average_of = mu_i_list[t0:t0+60]    \n",
    "    drift_list.append(np.median(take_average_of)) \n",
    "    t0 += 1"
   ]
  },
  {
   "cell_type": "code",
   "execution_count": null,
   "metadata": {
    "collapsed": false
   },
   "outputs": [],
   "source": [
    "plt.plot(drift_list)\n",
    "plt.title('Drift of Bitcoin Since the Past Year, using Median')\n",
    "plt.ylabel('Drift')\n",
    "plt.xlabel('Days')\n",
    "plt.show()"
   ]
  },
  {
   "cell_type": "markdown",
   "metadata": {},
   "source": [
    "## Median Absolute Deviation\n",
    "\n",
    "$MAD = 1.4826 Median(|x_{i} - Median(x)|) $  "
   ]
  },
  {
   "cell_type": "code",
   "execution_count": null,
   "metadata": {
    "collapsed": false
   },
   "outputs": [],
   "source": [
    "len(mu_i_list)"
   ]
  },
  {
   "cell_type": "code",
   "execution_count": null,
   "metadata": {
    "collapsed": true
   },
   "outputs": [],
   "source": [
    "t0 = 0\n",
    "data = mu_i_list[t0:t0+60]"
   ]
  },
  {
   "cell_type": "code",
   "execution_count": null,
   "metadata": {
    "collapsed": false
   },
   "outputs": [],
   "source": [
    "t0 = 0\n",
    "MAD = []\n",
    "volatility = []\n",
    "while t0 < 365:\n",
    "    data = mu_i_list[t0:t0+60]\n",
    "    take_median_of = []\n",
    "    for i in range(len(data)):\n",
    "        take_median_of.append(abs(data[i] - np.median(data))) \n",
    "    t0 += 1\n",
    "    MAD = 1.4826 * np.median(take_median_of)\n",
    "    volatility.append(MAD / np.sqrt(1/365))"
   ]
  },
  {
   "cell_type": "code",
   "execution_count": null,
   "metadata": {
    "collapsed": false
   },
   "outputs": [],
   "source": [
    "plt.plot(volatility)\n",
    "plt.title('Volatility of BTC-GBP calculated using MAD for 60 day rolling average')\n",
    "plt.ylabel('Volatility')\n",
    "plt.xlabel('Days')\n",
    "plt.show()"
   ]
  },
  {
   "cell_type": "markdown",
   "metadata": {},
   "source": [
    "# (c) (i) Using LIBOR as the risk free borrowing rate calculate the value of 1 month and 6 month at-the-money call option, stating any assumptions you make. \n",
    "\n",
    "## Assumptions\n",
    "\n",
    "* No transaction fees\n",
    "* No divedends, i.e. q=0\n",
    "\n",
    "You should mention that the trading days for bitcoin in a year are 365, as it nevers stops."
   ]
  },
  {
   "cell_type": "markdown",
   "metadata": {},
   "source": [
    "k = strike price, therefore k = s0, since it is at the money"
   ]
  },
  {
   "cell_type": "markdown",
   "metadata": {},
   "source": [
    "Take volatility at last day, normalise it, by timesing it by np.sqrt(365) (trading days in a year)"
   ]
  },
  {
   "cell_type": "code",
   "execution_count": null,
   "metadata": {
    "collapsed": true
   },
   "outputs": [],
   "source": [
    "from scipy.stats import norm"
   ]
  },
  {
   "cell_type": "code",
   "execution_count": null,
   "metadata": {
    "collapsed": false
   },
   "outputs": [],
   "source": [
    "S0 = last_year_adj_close[-1]\n",
    "S0"
   ]
  },
  {
   "cell_type": "markdown",
   "metadata": {},
   "source": [
    "Price of at-the-money call option for __1 month__:"
   ]
  },
  {
   "cell_type": "code",
   "execution_count": null,
   "metadata": {
    "collapsed": false
   },
   "outputs": [],
   "source": [
    "S0 = last_year_adj_close[-1]\n",
    "k = S0\n",
    "sigma = volatility[-1]\n",
    "r = 0.04  # LIBOR risk free rate\n",
    "T = 1/12  # 6 months\n",
    "\n",
    "z_plus = ((r + sigma**2 / 2) * T) / (sigma * np.sqrt(T))\n",
    "z_minus = ((r - sigma**2 / 2) * T) / (sigma * np.sqrt(T))\n",
    "\n",
    "C = S0 * (norm.cdf(z_plus) - np.exp(-r * T) * norm.cdf(z_minus))\n",
    "\n",
    "C"
   ]
  },
  {
   "cell_type": "markdown",
   "metadata": {},
   "source": [
    "Price of at-the-money call option for __6 months__:"
   ]
  },
  {
   "cell_type": "code",
   "execution_count": null,
   "metadata": {
    "collapsed": false
   },
   "outputs": [],
   "source": [
    "S0 = last_year_adj_close[-1]\n",
    "k = S0\n",
    "sigma = volatility[-1]\n",
    "r = 0.04  # LIBOR risk free rate\n",
    "T = 6/12  # 6 months\n",
    "\n",
    "z_plus = ((r + sigma**2 / 2) * T) / (sigma * np.sqrt(T))\n",
    "z_minus = ((r - sigma**2 / 2) * T) / (sigma * np.sqrt(T))\n",
    "\n",
    "C = S0 * (norm.cdf(z_plus) - np.exp(-r * T) * norm.cdf(z_minus))\n",
    "\n",
    "C"
   ]
  },
  {
   "cell_type": "markdown",
   "metadata": {
    "collapsed": true
   },
   "source": [
    "### (ii) Estimate the uncertainty in these option prices. \n",
    "\n"
   ]
  },
  {
   "cell_type": "markdown",
   "metadata": {
    "collapsed": true
   },
   "source": [
    "### (iii) Comment on how you might modify this price if you were a banker selling options on the share in light of your answer to a)."
   ]
  },
  {
   "cell_type": "markdown",
   "metadata": {
    "collapsed": true
   },
   "source": [
    "Discuss the q-q plot"
   ]
  },
  {
   "cell_type": "markdown",
   "metadata": {
    "collapsed": true
   },
   "source": [
    "# (d) Challenging additional question: Investigate the following two strategies for your share. \n",
    "\n",
    "(i) Buy and hold for one year. \n",
    "\n",
    "(ii) If the share price moves up by x% then buy and hold until it moves down by at least x% from the subsequent high. At this point sell and go short 1 share. Maintain this position until the price rises by at least x%, whereupon you cover the short and buy one share.\n"
   ]
  },
  {
   "cell_type": "markdown",
   "metadata": {
    "collapsed": true
   },
   "source": [
    "* Use Monte Carlo to simulate a random walk of bitcoin for 1 year, compare price then to today from when you bought and held.\n",
    "\n",
    "https://medium.com/@xoelop/weve-simulated-the-bitcoin-price-for-the-whole-2018-you-won-t-believe-the-result-4a602679dac2"
   ]
  },
  {
   "cell_type": "code",
   "execution_count": null,
   "metadata": {
    "collapsed": true
   },
   "outputs": [],
   "source": []
  },
  {
   "cell_type": "code",
   "execution_count": null,
   "metadata": {
    "collapsed": true
   },
   "outputs": [],
   "source": []
  },
  {
   "cell_type": "code",
   "execution_count": null,
   "metadata": {
    "collapsed": true
   },
   "outputs": [],
   "source": []
  },
  {
   "cell_type": "markdown",
   "metadata": {},
   "source": [
    "Plot the annualized drift as a dashed line on the same plot:\n",
    "\n",
    "$\\mu = \\frac{<\\mu_{i}>}{\\Delta t} + \\frac{\\sigma^{2}}{2}$\n",
    "\n",
    "To do this, we need the volatility"
   ]
  },
  {
   "cell_type": "markdown",
   "metadata": {},
   "source": [
    "### Volatility $\\sigma$\n",
    "\n",
    "$\\sigma = \\frac {s} {\\sqrt{\\Delta t}}$\n",
    "\n",
    "$s^2 = \\frac{1}{n-1} \\sum_{i=1}^{n} \\mu_{i}^{2}-\\frac{1}{n(n-1)}(\\sum_{i=1}^{n}\\mu_{i})^{2}$\n",
    "\n",
    "\"Shares typically have a volatility of 20% to 50%.\" Why is our volatility so low?\n",
    "\n",
    "First calculate standard deviation"
   ]
  },
  {
   "cell_type": "markdown",
   "metadata": {},
   "source": [
    "* I think mu_list should be larger, like 60 days long"
   ]
  },
  {
   "cell_type": "code",
   "execution_count": null,
   "metadata": {
    "collapsed": false
   },
   "outputs": [],
   "source": [
    "# plt.scatter(t_list, mu)\n",
    "plt.plot(t_list, mu_list, marker='o', label='$\\mu_{i}$', color='C0')\n",
    "plt.axhline(y=annual_mu, label='Annual $\\mu$', color='orange',linestyle='--')\n",
    "plt.axhline(y=ave_mu, label='Average $\\mu$', color='green', linestyle='-.')\n",
    "plt.title('Drift since 21.03.17 using 60 day Intervals')\n",
    "plt.ylabel('Drift $\\mu_{i}$')\n",
    "plt.xlabel('Days')\n",
    "plt.legend()\n",
    "plt.show()\n",
    "print('Annual mu = ', annual_mu)\n",
    "print('Average mu =', ave_mu)\n",
    "print('Volatility = ', volatility)"
   ]
  },
  {
   "cell_type": "markdown",
   "metadata": {},
   "source": [
    "* Include error bars on the mu_i, using standard deviation"
   ]
  }
 ],
 "metadata": {
  "kernelspec": {
   "display_name": "Python 3",
   "language": "python",
   "name": "python3"
  }
 },
 "nbformat": 4,
 "nbformat_minor": 2
}
